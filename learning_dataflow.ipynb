{
  "nbformat": 4,
  "nbformat_minor": 0,
  "metadata": {
    "colab": {
      "name": "learning_dataflow.ipynb",
      "provenance": [],
      "collapsed_sections": [],
      "authorship_tag": "ABX9TyOp0zByESOf0cQ+puCbAf22",
      "include_colab_link": true
    },
    "kernelspec": {
      "name": "python3",
      "display_name": "Python 3"
    },
    "language_info": {
      "name": "python"
    }
  },
  "cells": [
    {
      "cell_type": "markdown",
      "metadata": {
        "id": "view-in-github",
        "colab_type": "text"
      },
      "source": [
        "<a href=\"https://colab.research.google.com/github/bharathraja23/learning/blob/main/learning_dataflow.ipynb\" target=\"_parent\"><img src=\"https://colab.research.google.com/assets/colab-badge.svg\" alt=\"Open In Colab\"/></a>"
      ]
    },
    {
      "cell_type": "code",
      "metadata": {
        "colab": {
          "base_uri": "https://localhost:8080/"
        },
        "id": "mV7qX6_mhT9K",
        "outputId": "457c3e4f-3b4f-4724-8edf-60eae767ab19"
      },
      "source": [
        "!pip install --quiet apache_beam"
      ],
      "execution_count": null,
      "outputs": [
        {
          "output_type": "stream",
          "name": "stdout",
          "text": [
            "\u001b[K     |████████████████████████████████| 9.8 MB 5.9 MB/s \n",
            "\u001b[K     |████████████████████████████████| 62 kB 1.1 MB/s \n",
            "\u001b[K     |████████████████████████████████| 249 kB 59.3 MB/s \n",
            "\u001b[K     |████████████████████████████████| 2.3 MB 44.5 MB/s \n",
            "\u001b[K     |████████████████████████████████| 151 kB 64.3 MB/s \n",
            "\u001b[K     |████████████████████████████████| 829 kB 40.2 MB/s \n",
            "\u001b[?25h  Building wheel for avro-python3 (setup.py) ... \u001b[?25l\u001b[?25hdone\n",
            "  Building wheel for dill (setup.py) ... \u001b[?25l\u001b[?25hdone\n",
            "  Building wheel for future (setup.py) ... \u001b[?25l\u001b[?25hdone\n",
            "\u001b[31mERROR: pip's dependency resolver does not currently take into account all the packages that are installed. This behaviour is the source of the following dependency conflicts.\n",
            "multiprocess 0.70.12.2 requires dill>=0.3.4, but you have dill 0.3.1.1 which is incompatible.\n",
            "google-colab 1.0.0 requires requests~=2.23.0, but you have requests 2.26.0 which is incompatible.\n",
            "datascience 0.10.6 requires folium==0.2.1, but you have folium 0.8.3 which is incompatible.\u001b[0m\n"
          ]
        }
      ]
    },
    {
      "cell_type": "code",
      "metadata": {
        "colab": {
          "base_uri": "https://localhost:8080/",
          "height": 1000
        },
        "id": "8ZJznYP9_3tF",
        "outputId": "4ec05325-35e4-442a-9f81-f28e46dc7dee"
      },
      "source": [
        "!pip install apache-beam[interactive]"
      ],
      "execution_count": null,
      "outputs": [
        {
          "output_type": "stream",
          "name": "stdout",
          "text": [
            "Requirement already satisfied: apache-beam[interactive] in /usr/local/lib/python3.7/dist-packages (2.35.0)\n",
            "Requirement already satisfied: hdfs<3.0.0,>=2.1.0 in /usr/local/lib/python3.7/dist-packages (from apache-beam[interactive]) (2.6.0)\n",
            "Requirement already satisfied: pytz>=2018.3 in /usr/local/lib/python3.7/dist-packages (from apache-beam[interactive]) (2018.9)\n",
            "Requirement already satisfied: numpy<1.21.0,>=1.14.3 in /usr/local/lib/python3.7/dist-packages (from apache-beam[interactive]) (1.19.5)\n",
            "Requirement already satisfied: dill<0.3.2,>=0.3.1.1 in /usr/local/lib/python3.7/dist-packages (from apache-beam[interactive]) (0.3.1.1)\n",
            "Requirement already satisfied: crcmod<2.0,>=1.7 in /usr/local/lib/python3.7/dist-packages (from apache-beam[interactive]) (1.7)\n",
            "Requirement already satisfied: python-dateutil<3,>=2.8.0 in /usr/local/lib/python3.7/dist-packages (from apache-beam[interactive]) (2.8.2)\n",
            "Requirement already satisfied: requests<3.0.0,>=2.24.0 in /usr/local/lib/python3.7/dist-packages (from apache-beam[interactive]) (2.27.1)\n",
            "Requirement already satisfied: typing-extensions<4,>=3.7.0 in /usr/local/lib/python3.7/dist-packages (from apache-beam[interactive]) (3.10.0.2)\n",
            "Requirement already satisfied: fastavro<2,>=0.21.4 in /usr/local/lib/python3.7/dist-packages (from apache-beam[interactive]) (1.4.8)\n",
            "Requirement already satisfied: protobuf<4,>=3.12.2 in /usr/local/lib/python3.7/dist-packages (from apache-beam[interactive]) (3.19.1)\n",
            "Requirement already satisfied: pydot<2,>=1.2.0 in /usr/local/lib/python3.7/dist-packages (from apache-beam[interactive]) (1.3.0)\n",
            "Requirement already satisfied: orjson<4.0 in /usr/local/lib/python3.7/dist-packages (from apache-beam[interactive]) (3.6.5)\n",
            "Requirement already satisfied: httplib2<0.20.0,>=0.8 in /usr/local/lib/python3.7/dist-packages (from apache-beam[interactive]) (0.17.4)\n",
            "Requirement already satisfied: oauth2client<5,>=2.0.1 in /usr/local/lib/python3.7/dist-packages (from apache-beam[interactive]) (4.1.3)\n",
            "Requirement already satisfied: pymongo<4.0.0,>=3.8.0 in /usr/local/lib/python3.7/dist-packages (from apache-beam[interactive]) (3.12.1)\n",
            "Requirement already satisfied: pyarrow<7.0.0,>=0.15.1 in /usr/local/lib/python3.7/dist-packages (from apache-beam[interactive]) (3.0.0)\n",
            "Requirement already satisfied: grpcio<2,>=1.29.0 in /usr/local/lib/python3.7/dist-packages (from apache-beam[interactive]) (1.42.0)\n",
            "Requirement already satisfied: proto-plus<2,>=1.7.1 in /usr/local/lib/python3.7/dist-packages (from apache-beam[interactive]) (1.19.8)\n",
            "Collecting jupyter-client<6.1.13,>=6.1.11\n",
            "  Downloading jupyter_client-6.1.12-py3-none-any.whl (112 kB)\n",
            "\u001b[K     |████████████████████████████████| 112 kB 5.3 MB/s \n",
            "\u001b[?25hCollecting facets-overview<2,>=1.0.0\n",
            "  Downloading facets_overview-1.0.0-py2.py3-none-any.whl (24 kB)\n",
            "Collecting timeloop<2,>=1.0.2\n",
            "  Downloading timeloop-1.0.2.tar.gz (2.9 kB)\n",
            "Requirement already satisfied: ipywidgets<8,>=7.6.5 in /usr/local/lib/python3.7/dist-packages (from apache-beam[interactive]) (7.6.5)\n",
            "Collecting ipython<8,>=7\n",
            "  Downloading ipython-7.31.0-py3-none-any.whl (792 kB)\n",
            "\u001b[K     |████████████████████████████████| 792 kB 20.8 MB/s \n",
            "\u001b[?25hCollecting ipykernel<6,>=5.2.0\n",
            "  Downloading ipykernel-5.5.6-py3-none-any.whl (121 kB)\n",
            "\u001b[K     |████████████████████████████████| 121 kB 48.8 MB/s \n",
            "\u001b[?25hRequirement already satisfied: pandas>=0.22.0 in /usr/local/lib/python3.7/dist-packages (from facets-overview<2,>=1.0.0->apache-beam[interactive]) (1.1.5)\n",
            "Requirement already satisfied: six>=1.5.2 in /usr/local/lib/python3.7/dist-packages (from grpcio<2,>=1.29.0->apache-beam[interactive]) (1.15.0)\n",
            "Requirement already satisfied: docopt in /usr/local/lib/python3.7/dist-packages (from hdfs<3.0.0,>=2.1.0->apache-beam[interactive]) (0.6.2)\n",
            "Requirement already satisfied: ipython-genutils in /usr/local/lib/python3.7/dist-packages (from ipykernel<6,>=5.2.0->apache-beam[interactive]) (0.2.0)\n",
            "Requirement already satisfied: tornado>=4.2 in /usr/local/lib/python3.7/dist-packages (from ipykernel<6,>=5.2.0->apache-beam[interactive]) (5.1.1)\n",
            "Requirement already satisfied: traitlets>=4.1.0 in /usr/local/lib/python3.7/dist-packages (from ipykernel<6,>=5.2.0->apache-beam[interactive]) (5.1.1)\n",
            "Requirement already satisfied: decorator in /usr/local/lib/python3.7/dist-packages (from ipython<8,>=7->apache-beam[interactive]) (4.4.2)\n",
            "Requirement already satisfied: pygments in /usr/local/lib/python3.7/dist-packages (from ipython<8,>=7->apache-beam[interactive]) (2.6.1)\n",
            "Requirement already satisfied: pexpect>4.3 in /usr/local/lib/python3.7/dist-packages (from ipython<8,>=7->apache-beam[interactive]) (4.8.0)\n",
            "Requirement already satisfied: pickleshare in /usr/local/lib/python3.7/dist-packages (from ipython<8,>=7->apache-beam[interactive]) (0.7.5)\n",
            "Requirement already satisfied: jedi>=0.16 in /usr/local/lib/python3.7/dist-packages (from ipython<8,>=7->apache-beam[interactive]) (0.18.1)\n",
            "Requirement already satisfied: setuptools>=18.5 in /usr/local/lib/python3.7/dist-packages (from ipython<8,>=7->apache-beam[interactive]) (57.4.0)\n",
            "Requirement already satisfied: backcall in /usr/local/lib/python3.7/dist-packages (from ipython<8,>=7->apache-beam[interactive]) (0.2.0)\n",
            "Requirement already satisfied: matplotlib-inline in /usr/local/lib/python3.7/dist-packages (from ipython<8,>=7->apache-beam[interactive]) (0.1.3)\n",
            "Collecting prompt-toolkit!=3.0.0,!=3.0.1,<3.1.0,>=2.0.0\n",
            "  Downloading prompt_toolkit-3.0.24-py3-none-any.whl (374 kB)\n",
            "\u001b[K     |████████████████████████████████| 374 kB 49.8 MB/s \n",
            "\u001b[?25hRequirement already satisfied: jupyterlab-widgets>=1.0.0 in /usr/local/lib/python3.7/dist-packages (from ipywidgets<8,>=7.6.5->apache-beam[interactive]) (1.0.2)\n",
            "Requirement already satisfied: nbformat>=4.2.0 in /usr/local/lib/python3.7/dist-packages (from ipywidgets<8,>=7.6.5->apache-beam[interactive]) (5.1.3)\n",
            "Requirement already satisfied: widgetsnbextension~=3.5.0 in /usr/local/lib/python3.7/dist-packages (from ipywidgets<8,>=7.6.5->apache-beam[interactive]) (3.5.2)\n",
            "Requirement already satisfied: parso<0.9.0,>=0.8.0 in /usr/local/lib/python3.7/dist-packages (from jedi>=0.16->ipython<8,>=7->apache-beam[interactive]) (0.8.3)\n",
            "Requirement already satisfied: jupyter-core>=4.6.0 in /usr/local/lib/python3.7/dist-packages (from jupyter-client<6.1.13,>=6.1.11->apache-beam[interactive]) (4.9.1)\n",
            "Requirement already satisfied: pyzmq>=13 in /usr/local/lib/python3.7/dist-packages (from jupyter-client<6.1.13,>=6.1.11->apache-beam[interactive]) (22.3.0)\n",
            "Requirement already satisfied: jsonschema!=2.5.0,>=2.4 in /usr/local/lib/python3.7/dist-packages (from nbformat>=4.2.0->ipywidgets<8,>=7.6.5->apache-beam[interactive]) (2.6.0)\n",
            "Requirement already satisfied: pyasn1-modules>=0.0.5 in /usr/local/lib/python3.7/dist-packages (from oauth2client<5,>=2.0.1->apache-beam[interactive]) (0.2.8)\n",
            "Requirement already satisfied: rsa>=3.1.4 in /usr/local/lib/python3.7/dist-packages (from oauth2client<5,>=2.0.1->apache-beam[interactive]) (4.8)\n",
            "Requirement already satisfied: pyasn1>=0.1.7 in /usr/local/lib/python3.7/dist-packages (from oauth2client<5,>=2.0.1->apache-beam[interactive]) (0.4.8)\n",
            "Requirement already satisfied: ptyprocess>=0.5 in /usr/local/lib/python3.7/dist-packages (from pexpect>4.3->ipython<8,>=7->apache-beam[interactive]) (0.7.0)\n",
            "Requirement already satisfied: wcwidth in /usr/local/lib/python3.7/dist-packages (from prompt-toolkit!=3.0.0,!=3.0.1,<3.1.0,>=2.0.0->ipython<8,>=7->apache-beam[interactive]) (0.2.5)\n",
            "Requirement already satisfied: pyparsing>=2.1.4 in /usr/local/lib/python3.7/dist-packages (from pydot<2,>=1.2.0->apache-beam[interactive]) (3.0.6)\n",
            "Requirement already satisfied: urllib3<1.27,>=1.21.1 in /usr/local/lib/python3.7/dist-packages (from requests<3.0.0,>=2.24.0->apache-beam[interactive]) (1.24.3)\n",
            "Requirement already satisfied: idna<4,>=2.5 in /usr/local/lib/python3.7/dist-packages (from requests<3.0.0,>=2.24.0->apache-beam[interactive]) (2.10)\n",
            "Requirement already satisfied: certifi>=2017.4.17 in /usr/local/lib/python3.7/dist-packages (from requests<3.0.0,>=2.24.0->apache-beam[interactive]) (2021.10.8)\n",
            "Requirement already satisfied: charset-normalizer~=2.0.0 in /usr/local/lib/python3.7/dist-packages (from requests<3.0.0,>=2.24.0->apache-beam[interactive]) (2.0.9)\n",
            "Requirement already satisfied: notebook>=4.4.1 in /usr/local/lib/python3.7/dist-packages (from widgetsnbextension~=3.5.0->ipywidgets<8,>=7.6.5->apache-beam[interactive]) (5.3.1)\n",
            "Requirement already satisfied: nbconvert in /usr/local/lib/python3.7/dist-packages (from notebook>=4.4.1->widgetsnbextension~=3.5.0->ipywidgets<8,>=7.6.5->apache-beam[interactive]) (5.6.1)\n",
            "Requirement already satisfied: terminado>=0.8.1 in /usr/local/lib/python3.7/dist-packages (from notebook>=4.4.1->widgetsnbextension~=3.5.0->ipywidgets<8,>=7.6.5->apache-beam[interactive]) (0.12.1)\n",
            "Requirement already satisfied: Send2Trash in /usr/local/lib/python3.7/dist-packages (from notebook>=4.4.1->widgetsnbextension~=3.5.0->ipywidgets<8,>=7.6.5->apache-beam[interactive]) (1.8.0)\n",
            "Requirement already satisfied: jinja2 in /usr/local/lib/python3.7/dist-packages (from notebook>=4.4.1->widgetsnbextension~=3.5.0->ipywidgets<8,>=7.6.5->apache-beam[interactive]) (2.11.3)\n",
            "Requirement already satisfied: MarkupSafe>=0.23 in /usr/local/lib/python3.7/dist-packages (from jinja2->notebook>=4.4.1->widgetsnbextension~=3.5.0->ipywidgets<8,>=7.6.5->apache-beam[interactive]) (2.0.1)\n",
            "Requirement already satisfied: testpath in /usr/local/lib/python3.7/dist-packages (from nbconvert->notebook>=4.4.1->widgetsnbextension~=3.5.0->ipywidgets<8,>=7.6.5->apache-beam[interactive]) (0.5.0)\n",
            "Requirement already satisfied: bleach in /usr/local/lib/python3.7/dist-packages (from nbconvert->notebook>=4.4.1->widgetsnbextension~=3.5.0->ipywidgets<8,>=7.6.5->apache-beam[interactive]) (4.1.0)\n",
            "Requirement already satisfied: defusedxml in /usr/local/lib/python3.7/dist-packages (from nbconvert->notebook>=4.4.1->widgetsnbextension~=3.5.0->ipywidgets<8,>=7.6.5->apache-beam[interactive]) (0.7.1)\n",
            "Requirement already satisfied: entrypoints>=0.2.2 in /usr/local/lib/python3.7/dist-packages (from nbconvert->notebook>=4.4.1->widgetsnbextension~=3.5.0->ipywidgets<8,>=7.6.5->apache-beam[interactive]) (0.3)\n",
            "Requirement already satisfied: mistune<2,>=0.8.1 in /usr/local/lib/python3.7/dist-packages (from nbconvert->notebook>=4.4.1->widgetsnbextension~=3.5.0->ipywidgets<8,>=7.6.5->apache-beam[interactive]) (0.8.4)\n",
            "Requirement already satisfied: pandocfilters>=1.4.1 in /usr/local/lib/python3.7/dist-packages (from nbconvert->notebook>=4.4.1->widgetsnbextension~=3.5.0->ipywidgets<8,>=7.6.5->apache-beam[interactive]) (1.5.0)\n",
            "Requirement already satisfied: packaging in /usr/local/lib/python3.7/dist-packages (from bleach->nbconvert->notebook>=4.4.1->widgetsnbextension~=3.5.0->ipywidgets<8,>=7.6.5->apache-beam[interactive]) (21.3)\n",
            "Requirement already satisfied: webencodings in /usr/local/lib/python3.7/dist-packages (from bleach->nbconvert->notebook>=4.4.1->widgetsnbextension~=3.5.0->ipywidgets<8,>=7.6.5->apache-beam[interactive]) (0.5.1)\n",
            "Building wheels for collected packages: timeloop\n",
            "  Building wheel for timeloop (setup.py) ... \u001b[?25l\u001b[?25hdone\n",
            "  Created wheel for timeloop: filename=timeloop-1.0.2-py3-none-any.whl size=3720 sha256=ec6506fa5f5412222d2521e2307907d86b4c546f3c48ca6df30b5d0772c99393\n",
            "  Stored in directory: /root/.cache/pip/wheels/3a/7e/fc/5e4d6da12b9ab6550604412936723ec6f2faf7391dd6726a01\n",
            "Successfully built timeloop\n",
            "Installing collected packages: prompt-toolkit, jupyter-client, ipython, ipykernel, timeloop, facets-overview\n",
            "  Attempting uninstall: prompt-toolkit\n",
            "    Found existing installation: prompt-toolkit 1.0.18\n",
            "    Uninstalling prompt-toolkit-1.0.18:\n",
            "      Successfully uninstalled prompt-toolkit-1.0.18\n",
            "  Attempting uninstall: jupyter-client\n",
            "    Found existing installation: jupyter-client 5.3.5\n",
            "    Uninstalling jupyter-client-5.3.5:\n",
            "      Successfully uninstalled jupyter-client-5.3.5\n",
            "  Attempting uninstall: ipython\n",
            "    Found existing installation: ipython 5.5.0\n",
            "    Uninstalling ipython-5.5.0:\n",
            "      Successfully uninstalled ipython-5.5.0\n",
            "  Attempting uninstall: ipykernel\n",
            "    Found existing installation: ipykernel 4.10.1\n",
            "    Uninstalling ipykernel-4.10.1:\n",
            "      Successfully uninstalled ipykernel-4.10.1\n",
            "\u001b[31mERROR: pip's dependency resolver does not currently take into account all the packages that are installed. This behaviour is the source of the following dependency conflicts.\n",
            "jupyter-console 5.2.0 requires prompt-toolkit<2.0.0,>=1.0.0, but you have prompt-toolkit 3.0.24 which is incompatible.\n",
            "google-colab 1.0.0 requires ipykernel~=4.10, but you have ipykernel 5.5.6 which is incompatible.\n",
            "google-colab 1.0.0 requires ipython~=5.5.0, but you have ipython 7.31.0 which is incompatible.\n",
            "google-colab 1.0.0 requires requests~=2.23.0, but you have requests 2.27.1 which is incompatible.\u001b[0m\n",
            "Successfully installed facets-overview-1.0.0 ipykernel-5.5.6 ipython-7.31.0 jupyter-client-6.1.12 prompt-toolkit-3.0.24 timeloop-1.0.2\n"
          ]
        },
        {
          "output_type": "display_data",
          "data": {
            "application/vnd.colab-display-data+json": {
              "pip_warning": {
                "packages": [
                  "IPython",
                  "ipykernel",
                  "jupyter_client",
                  "prompt_toolkit"
                ]
              }
            }
          },
          "metadata": {}
        }
      ]
    },
    {
      "cell_type": "code",
      "metadata": {
        "id": "DEyXUgBlh_-N"
      },
      "source": [
        "!mkdir -p data"
      ],
      "execution_count": null,
      "outputs": []
    },
    {
      "cell_type": "code",
      "metadata": {
        "colab": {
          "base_uri": "https://localhost:8080/"
        },
        "id": "ZtjfOVPziEU_",
        "outputId": "fa4bc5d6-a1a3-4f22-a884-0177f5473ef7"
      },
      "source": [
        "ls"
      ],
      "execution_count": null,
      "outputs": [
        {
          "output_type": "stream",
          "name": "stdout",
          "text": [
            "\u001b[0m\u001b[01;34mdata\u001b[0m/  \u001b[01;34msample_data\u001b[0m/\n"
          ]
        }
      ]
    },
    {
      "cell_type": "code",
      "metadata": {
        "id": "xvlGIHI2iGGB"
      },
      "source": [
        "from google.colab import files\n",
        "uploaded = files.upload()"
      ],
      "execution_count": null,
      "outputs": []
    },
    {
      "cell_type": "code",
      "metadata": {
        "id": "7fdKFSSh3HGY"
      },
      "source": [
        "!mv dept_data[1].txt data/dept_data.txt"
      ],
      "execution_count": null,
      "outputs": []
    },
    {
      "cell_type": "code",
      "metadata": {
        "colab": {
          "base_uri": "https://localhost:8080/"
        },
        "id": "cdVZAcc1B3Jj",
        "outputId": "3c008267-6eb5-48f5-9dab-80fda0055388"
      },
      "source": [
        "import apache_beam as beam\n",
        "\n",
        "p1 = beam.Pipeline()\n",
        "\n",
        "lines = (p1        \n",
        "         |beam.Create(['This is first line', 'second line', 'third line'])\n",
        "         |beam.io.WriteToText('data/output1.txt')\n",
        "         )\n",
        "p1.run()\n",
        "\n",
        "!head -n 20 data/output1.txt-00000-of-00001"
      ],
      "execution_count": null,
      "outputs": [
        {
          "output_type": "stream",
          "name": "stderr",
          "text": [
            "WARNING:root:Make sure that locally built Python SDK docker image has Python 3.7 interpreter.\n",
            "WARNING:apache_beam.io.filebasedsink:Deleting 1 existing files in target path matching: -*-of-%(num_shards)05d\n"
          ]
        },
        {
          "output_type": "stream",
          "name": "stdout",
          "text": [
            "This is first line\n",
            "second line\n",
            "third line\n"
          ]
        }
      ]
    },
    {
      "cell_type": "code",
      "metadata": {
        "colab": {
          "base_uri": "https://localhost:8080/"
        },
        "id": "uFjKP-THBkf1",
        "outputId": "e71513fa-4e26-406c-e65b-48e6216dc8bc"
      },
      "source": [
        "import apache_beam as beam\n",
        "\n",
        "p2 = beam.Pipeline()\n",
        "\n",
        "lines = (p2        \n",
        "         |beam.Create([1,2,3,4])\n",
        "         |beam.io.WriteToText('data/output2.txt')\n",
        "         )\n",
        "p2.run()\n",
        "\n",
        "!head -n 20 data/output2.txt-00000-of-00001"
      ],
      "execution_count": null,
      "outputs": [
        {
          "output_type": "stream",
          "name": "stderr",
          "text": [
            "WARNING:root:Make sure that locally built Python SDK docker image has Python 3.7 interpreter.\n"
          ]
        },
        {
          "output_type": "stream",
          "name": "stdout",
          "text": [
            "1\n",
            "2\n",
            "3\n",
            "4\n"
          ]
        }
      ]
    },
    {
      "cell_type": "code",
      "metadata": {
        "colab": {
          "base_uri": "https://localhost:8080/"
        },
        "id": "AST9IlUSqWV-",
        "outputId": "5520900f-8dce-40a2-d7fa-0892822549d8"
      },
      "source": [
        "import apache_beam as beam\n",
        "\n",
        "p3 = beam.Pipeline()\n",
        "\n",
        "lines = (p3        \n",
        "         |beam.Create([('col1','asada'),('col2',2),('col3',3),('col4',4)])\n",
        "         |beam.io.WriteToText('data/output3.txt')\n",
        "         )\n",
        "p3.run()\n",
        "\n",
        "!head -n 20 data/output3.txt-00000-of-00001"
      ],
      "execution_count": null,
      "outputs": [
        {
          "output_type": "stream",
          "name": "stderr",
          "text": [
            "WARNING:root:Make sure that locally built Python SDK docker image has Python 3.7 interpreter.\n",
            "WARNING:apache_beam.io.filebasedsink:Deleting 1 existing files in target path matching: -*-of-%(num_shards)05d\n"
          ]
        },
        {
          "output_type": "stream",
          "name": "stdout",
          "text": [
            "('col1', 'asada')\n",
            "('col2', 2)\n",
            "('col3', 3)\n",
            "('col4', 4)\n"
          ]
        }
      ]
    },
    {
      "cell_type": "code",
      "metadata": {
        "colab": {
          "base_uri": "https://localhost:8080/"
        },
        "id": "SjfB3Uj0ANyW",
        "outputId": "a18a8122-7e52-4af8-e3f1-1aa2410604f8"
      },
      "source": [
        "import apache_beam as beam\n",
        "\n",
        "p4 = beam.Pipeline()\n",
        "\n",
        "lines = (p4        \n",
        "         |beam.Create([('col1','asada','asa'),('col2',2,'null'),('col3',3,'Nan'),('col4',4,6)])\n",
        "         |beam.io.WriteToText('data/output4.txt')\n",
        "         )\n",
        "p4.run()\n",
        "\n",
        "!head -n 20 data/output4.txt-00000-of-00001"
      ],
      "execution_count": null,
      "outputs": [
        {
          "output_type": "stream",
          "name": "stderr",
          "text": [
            "WARNING:root:Make sure that locally built Python SDK docker image has Python 3.7 interpreter.\n",
            "WARNING:apache_beam.io.filebasedsink:Deleting 1 existing files in target path matching: -*-of-%(num_shards)05d\n"
          ]
        },
        {
          "output_type": "stream",
          "name": "stdout",
          "text": [
            "('col1', 'asada', 'asa')\n",
            "('col2', 2, 'null')\n",
            "('col3', 3, 'Nan')\n",
            "('col4', 4, 6)\n"
          ]
        }
      ]
    },
    {
      "cell_type": "code",
      "metadata": {
        "colab": {
          "base_uri": "https://localhost:8080/"
        },
        "id": "BYySdhGUNZmm",
        "outputId": "92d59872-0bce-4a81-8041-be337066ec59"
      },
      "source": [
        "import apache_beam as beam\n",
        "\n",
        "p5 = beam.Pipeline()\n",
        "\n",
        "lines = (p5       \n",
        "         |beam.Create({'row1':['col1','asada','asa'],'row2':['col2',2,'null'],'row3':['col3',3,'Nan'],'row4':['col4',4,6]})\n",
        "         |beam.Map(lambda element:element)\n",
        "         |beam.io.WriteToText('data/output5.txt')\n",
        "         )\n",
        "p5.run()\n",
        "\n",
        "!head -n 20 data/output5.txt-00000-of-00001"
      ],
      "execution_count": null,
      "outputs": [
        {
          "output_type": "stream",
          "name": "stderr",
          "text": [
            "WARNING:root:Make sure that locally built Python SDK docker image has Python 3.7 interpreter.\n",
            "WARNING:apache_beam.io.filebasedsink:Deleting 1 existing files in target path matching: -*-of-%(num_shards)05d\n"
          ]
        },
        {
          "output_type": "stream",
          "name": "stdout",
          "text": [
            "('row1', ['col1', 'asada', 'asa'])\n",
            "('row2', ['col2', 2, 'null'])\n",
            "('row3', ['col3', 3, 'Nan'])\n",
            "('row4', ['col4', 4, 6])\n"
          ]
        }
      ]
    },
    {
      "cell_type": "code",
      "metadata": {
        "colab": {
          "base_uri": "https://localhost:8080/"
        },
        "id": "hDDTnZyAR0Gq",
        "outputId": "04384fb9-d708-413e-9baf-32e398a87443"
      },
      "source": [
        "import apache_beam as beam\n",
        "\n",
        "p6 = beam.Pipeline()\n",
        "\n",
        "attendance_count = (p6\n",
        "                    |beam.io.ReadFromText('data/dept_data.txt')\n",
        "                    |beam.io.WriteToText('data/dept_output.txt')\n",
        "                    )\n",
        "p6.run()\n",
        "\n",
        "!head -n 20 data/dept_output.txt-00000-of-00001"
      ],
      "execution_count": null,
      "outputs": [
        {
          "output_type": "stream",
          "name": "stderr",
          "text": [
            "WARNING:root:Make sure that locally built Python SDK docker image has Python 3.7 interpreter.\n"
          ]
        },
        {
          "output_type": "stream",
          "name": "stdout",
          "text": [
            "149633CM,Marco,10,Accounts,1-01-2019\n",
            "212539MU,Rebekah,10,Accounts,1-01-2019\n",
            "231555ZZ,Itoe,10,Accounts,1-01-2019\n",
            "503996WI,Edouard,10,Accounts,1-01-2019\n",
            "704275DC,Kyle,10,Accounts,1-01-2019\n",
            "957149WC,Kyle,10,Accounts,1-01-2019\n",
            "241316NX,Kumiko,10,Accounts,1-01-2019\n",
            "796656IE,Gaston,10,Accounts,1-01-2019\n",
            "331593PS,Beryl,20,HR,1-01-2019\n",
            "560447WH,Olga,20,HR,1-01-2019\n",
            "222997TJ,Leslie,20,HR,1-01-2019\n",
            "171752SY,Mindy,20,HR,1-01-2019\n",
            "153636AS,Vicky,20,HR,1-01-2019\n",
            "745411HT,Richard,20,HR,1-01-2019\n",
            "298464HN,Kirk,20,HR,1-01-2019\n",
            "783950BW,Kaori,20,HR,1-01-2019\n",
            "892691AR,Beryl,20,HR,1-01-2019\n",
            "245668UZ,Oscar,20,HR,1-01-2019\n",
            "231206QD,Kumiko,30,Finance,1-01-2019\n",
            "357919KT,Wendy,30,Finance,1-01-2019\n"
          ]
        }
      ]
    },
    {
      "cell_type": "code",
      "metadata": {
        "colab": {
          "base_uri": "https://localhost:8080/",
          "height": 382
        },
        "id": "6fayqSSAbGt6",
        "outputId": "236d09aa-3f65-4975-b351-739144b9194c"
      },
      "source": [
        "import apache_beam as beam\n",
        "\n",
        "p7 = beam.Pipeline()\n",
        "\n",
        "attendance_count = (p7\n",
        "                    |beam.io.ReadFromText('data/dept_data.txt')\n",
        "                    |beam.Map(lambda element: element.split(',')) #Map - takes single element input, outputs single element\n",
        "                    |beam.io.WriteToText('data/dept_output2.txt')\n",
        "                    )\n",
        "p7.run()\n",
        "\n",
        "!head -n 20 data/dept_output2.txt-00000-of-00001"
      ],
      "execution_count": null,
      "outputs": [
        {
          "output_type": "display_data",
          "data": {
            "application/javascript": [
              "\n",
              "        if (typeof window.interactive_beam_jquery == 'undefined') {\n",
              "          var jqueryScript = document.createElement('script');\n",
              "          jqueryScript.src = 'https://code.jquery.com/jquery-3.4.1.slim.min.js';\n",
              "          jqueryScript.type = 'text/javascript';\n",
              "          jqueryScript.onload = function() {\n",
              "            var datatableScript = document.createElement('script');\n",
              "            datatableScript.src = 'https://cdn.datatables.net/1.10.20/js/jquery.dataTables.min.js';\n",
              "            datatableScript.type = 'text/javascript';\n",
              "            datatableScript.onload = function() {\n",
              "              window.interactive_beam_jquery = jQuery.noConflict(true);\n",
              "              window.interactive_beam_jquery(document).ready(function($){\n",
              "                \n",
              "              });\n",
              "            }\n",
              "            document.head.appendChild(datatableScript);\n",
              "          };\n",
              "          document.head.appendChild(jqueryScript);\n",
              "        } else {\n",
              "          window.interactive_beam_jquery(document).ready(function($){\n",
              "            \n",
              "          });\n",
              "        }"
            ]
          },
          "metadata": {}
        },
        {
          "output_type": "stream",
          "name": "stderr",
          "text": [
            "WARNING:root:Make sure that locally built Python SDK docker image has Python 3.7 interpreter.\n"
          ]
        },
        {
          "output_type": "stream",
          "name": "stdout",
          "text": [
            "['149633CM', 'Marco', '10', 'Accounts', '1-01-2019']\n",
            "['212539MU', 'Rebekah', '10', 'Accounts', '1-01-2019']\n",
            "['231555ZZ', 'Itoe', '10', 'Accounts', '1-01-2019']\n",
            "['503996WI', 'Edouard', '10', 'Accounts', '1-01-2019']\n",
            "['704275DC', 'Kyle', '10', 'Accounts', '1-01-2019']\n",
            "['957149WC', 'Kyle', '10', 'Accounts', '1-01-2019']\n",
            "['241316NX', 'Kumiko', '10', 'Accounts', '1-01-2019']\n",
            "['796656IE', 'Gaston', '10', 'Accounts', '1-01-2019']\n",
            "['331593PS', 'Beryl', '20', 'HR', '1-01-2019']\n",
            "['560447WH', 'Olga', '20', 'HR', '1-01-2019']\n",
            "['222997TJ', 'Leslie', '20', 'HR', '1-01-2019']\n",
            "['171752SY', 'Mindy', '20', 'HR', '1-01-2019']\n",
            "['153636AS', 'Vicky', '20', 'HR', '1-01-2019']\n",
            "['745411HT', 'Richard', '20', 'HR', '1-01-2019']\n",
            "['298464HN', 'Kirk', '20', 'HR', '1-01-2019']\n",
            "['783950BW', 'Kaori', '20', 'HR', '1-01-2019']\n",
            "['892691AR', 'Beryl', '20', 'HR', '1-01-2019']\n",
            "['245668UZ', 'Oscar', '20', 'HR', '1-01-2019']\n",
            "['231206QD', 'Kumiko', '30', 'Finance', '1-01-2019']\n",
            "['357919KT', 'Wendy', '30', 'Finance', '1-01-2019']\n"
          ]
        }
      ]
    },
    {
      "cell_type": "code",
      "metadata": {
        "colab": {
          "base_uri": "https://localhost:8080/"
        },
        "id": "tM3TQ0C227v9",
        "outputId": "9ee61e8e-89d9-4186-d7b1-37fa52a7bfc4"
      },
      "source": [
        "import apache_beam as beam\n",
        "\n",
        "p8 = beam.Pipeline()\n",
        "\n",
        "attendance_count = (p8\n",
        "                    |beam.io.ReadFromText('data/dept_data.txt')\n",
        "                    |beam.FlatMap(lambda element: element.split(',')) #FlatMap - takes single element input, outputs multiple elements\n",
        "                    |beam.io.WriteToText('data/dept_output3.txt')\n",
        "                    )\n",
        "p8.run()\n",
        "\n",
        "!head -n 20 data/dept_output3.txt-00000-of-00001"
      ],
      "execution_count": null,
      "outputs": [
        {
          "output_type": "stream",
          "name": "stderr",
          "text": [
            "WARNING:root:Make sure that locally built Python SDK docker image has Python 3.7 interpreter.\n",
            "WARNING:apache_beam.io.filebasedsink:Deleting 1 existing files in target path matching: -*-of-%(num_shards)05d\n"
          ]
        },
        {
          "output_type": "stream",
          "name": "stdout",
          "text": [
            "149633CM\n",
            "Marco\n",
            "10\n",
            "Accounts\n",
            "1-01-2019\n",
            "212539MU\n",
            "Rebekah\n",
            "10\n",
            "Accounts\n",
            "1-01-2019\n",
            "231555ZZ\n",
            "Itoe\n",
            "10\n",
            "Accounts\n",
            "1-01-2019\n",
            "503996WI\n",
            "Edouard\n",
            "10\n",
            "Accounts\n",
            "1-01-2019\n"
          ]
        }
      ]
    },
    {
      "cell_type": "code",
      "metadata": {
        "colab": {
          "base_uri": "https://localhost:8080/"
        },
        "id": "34yxlCsJ4Td8",
        "outputId": "4bcb8a82-612e-4393-c450-d6c5a09dee02"
      },
      "source": [
        "import apache_beam as beam\n",
        "\n",
        "p9 = beam.Pipeline()\n",
        "\n",
        "attendance_count = (p9\n",
        "                    |beam.io.ReadFromText('data/dept_data.txt')\n",
        "                    |beam.Map(lambda element: element.split(',')) #Map - single element input outputs single element\n",
        "                    |beam.Filter(lambda record: record[3] == 'Accounts')\n",
        "                    |beam.io.WriteToText('data/dept_output4.txt')\n",
        "                    )\n",
        "p9.run()\n",
        "\n",
        "!head -n 20 data/dept_output4.txt-00000-of-00001"
      ],
      "execution_count": null,
      "outputs": [
        {
          "output_type": "stream",
          "name": "stderr",
          "text": [
            "WARNING:root:Make sure that locally built Python SDK docker image has Python 3.7 interpreter.\n",
            "WARNING:apache_beam.io.filebasedsink:Deleting 1 existing files in target path matching: -*-of-%(num_shards)05d\n"
          ]
        },
        {
          "output_type": "stream",
          "name": "stdout",
          "text": [
            "['149633CM', 'Marco', '10', 'Accounts', '1-01-2019']\n",
            "['212539MU', 'Rebekah', '10', 'Accounts', '1-01-2019']\n",
            "['231555ZZ', 'Itoe', '10', 'Accounts', '1-01-2019']\n",
            "['503996WI', 'Edouard', '10', 'Accounts', '1-01-2019']\n",
            "['704275DC', 'Kyle', '10', 'Accounts', '1-01-2019']\n",
            "['957149WC', 'Kyle', '10', 'Accounts', '1-01-2019']\n",
            "['241316NX', 'Kumiko', '10', 'Accounts', '1-01-2019']\n",
            "['796656IE', 'Gaston', '10', 'Accounts', '1-01-2019']\n",
            "['149633CM', 'Marco', '10', 'Accounts', '2-01-2019']\n",
            "['212539MU', 'Rebekah', '10', 'Accounts', '2-01-2019']\n",
            "['231555ZZ', 'Itoe', '10', 'Accounts', '2-01-2019']\n",
            "['503996WI', 'Edouard', '10', 'Accounts', '2-01-2019']\n",
            "['704275DC', 'Kyle', '10', 'Accounts', '2-01-2019']\n",
            "['957149WC', 'Kyle', '10', 'Accounts', '2-01-2019']\n",
            "['241316NX', 'Kumiko', '10', 'Accounts', '2-01-2019']\n",
            "['796656IE', 'Gaston', '10', 'Accounts', '2-01-2019']\n",
            "['718737IX', 'Ayumi', '10', 'Accounts', '2-01-2019']\n",
            "['149633CM', 'Marco', '10', 'Accounts', '3-01-2019']\n",
            "['212539MU', 'Rebekah', '10', 'Accounts', '3-01-2019']\n",
            "['231555ZZ', 'Itoe', '10', 'Accounts', '3-01-2019']\n"
          ]
        }
      ]
    },
    {
      "cell_type": "code",
      "metadata": {
        "colab": {
          "base_uri": "https://localhost:8080/"
        },
        "id": "TEO5yNKW7LD-",
        "outputId": "f6ab91d8-13d8-4562-d871-6c1d3036ec68"
      },
      "source": [
        "import apache_beam as beam\n",
        "\n",
        "p10 = beam.Pipeline()\n",
        "\n",
        "attendance_count = (p10\n",
        "                    |beam.io.ReadFromText('data/dept_data.txt')\n",
        "                    |beam.Map(lambda element: element.split(',')) #Map - single element input outputs single element\n",
        "                    |beam.Filter(lambda record: record[3] == 'Accounts')\n",
        "                    |beam.Map(lambda record: (record[1],1))\n",
        "                    |beam.io.WriteToText('data/dept_output5.txt')\n",
        "                    )\n",
        "p10.run()\n",
        "\n",
        "!head -n 20 data/dept_output5.txt-00000-of-00001"
      ],
      "execution_count": null,
      "outputs": [
        {
          "output_type": "stream",
          "name": "stderr",
          "text": [
            "WARNING:root:Make sure that locally built Python SDK docker image has Python 3.7 interpreter.\n"
          ]
        },
        {
          "output_type": "stream",
          "name": "stdout",
          "text": [
            "('Marco', 1)\n",
            "('Rebekah', 1)\n",
            "('Itoe', 1)\n",
            "('Edouard', 1)\n",
            "('Kyle', 1)\n",
            "('Kyle', 1)\n",
            "('Kumiko', 1)\n",
            "('Gaston', 1)\n",
            "('Marco', 1)\n",
            "('Rebekah', 1)\n",
            "('Itoe', 1)\n",
            "('Edouard', 1)\n",
            "('Kyle', 1)\n",
            "('Kyle', 1)\n",
            "('Kumiko', 1)\n",
            "('Gaston', 1)\n",
            "('Ayumi', 1)\n",
            "('Marco', 1)\n",
            "('Rebekah', 1)\n",
            "('Itoe', 1)\n"
          ]
        }
      ]
    },
    {
      "cell_type": "code",
      "metadata": {
        "colab": {
          "base_uri": "https://localhost:8080/"
        },
        "id": "GorfU5y57tXp",
        "outputId": "62b1bff9-3798-48ae-8672-0c840861e0a8"
      },
      "source": [
        "import apache_beam as beam\n",
        "\n",
        "p11 = beam.Pipeline()\n",
        "\n",
        "attendance_count = (p11\n",
        "                    |beam.io.ReadFromText('data/dept_data.txt')\n",
        "                    |beam.Map(lambda element: element.split(',')) #Map - single element input outputs single element\n",
        "                    |beam.Filter(lambda record: record[3] == 'Accounts')\n",
        "                    |beam.Map(lambda record: (record[1],1))\n",
        "                    |beam.CombinePerKey(sum)\n",
        "                    |beam.io.WriteToText('data/dept_output6.txt')\n",
        "                    )\n",
        "p11.run()\n",
        "\n",
        "!head -n 20 data/dept_output6.txt-00000-of-00001"
      ],
      "execution_count": null,
      "outputs": [
        {
          "output_type": "stream",
          "name": "stderr",
          "text": [
            "WARNING:root:Make sure that locally built Python SDK docker image has Python 3.7 interpreter.\n"
          ]
        },
        {
          "output_type": "stream",
          "name": "stdout",
          "text": [
            "('Marco', 31)\n",
            "('Rebekah', 31)\n",
            "('Itoe', 31)\n",
            "('Edouard', 31)\n",
            "('Kyle', 62)\n",
            "('Kumiko', 31)\n",
            "('Gaston', 31)\n",
            "('Ayumi', 30)\n"
          ]
        }
      ]
    },
    {
      "cell_type": "code",
      "metadata": {
        "colab": {
          "base_uri": "https://localhost:8080/"
        },
        "id": "Va8Dsfbm84ly",
        "outputId": "14687f4d-943e-49b2-e8bb-41486c5669f7"
      },
      "source": [
        "import apache_beam as beam\n",
        "\n",
        "with beam.Pipeline() as p12:\n",
        "\n",
        "  attendance_count = (p12\n",
        "                    |'Read from File' >> beam.io.ReadFromText('data/dept_data.txt')\n",
        "                    |'split on delimeter' >> beam.Map(lambda element: element.split(',')) #Map - single element input outputs single element\n",
        "                    |beam.Filter(lambda record: record[3] == 'Accounts')\n",
        "                    |beam.Map(lambda record: (record[1],1))\n",
        "                    |beam.CombinePerKey(sum)\n",
        "                    |beam.io.WriteToText('data/dept_output7.txt')\n",
        "                    )\n",
        "#p11.run()\n",
        "\n",
        "!head -n 20 data/dept_output7.txt-00000-of-00001"
      ],
      "execution_count": null,
      "outputs": [
        {
          "output_type": "stream",
          "name": "stderr",
          "text": [
            "WARNING:root:Make sure that locally built Python SDK docker image has Python 3.7 interpreter.\n"
          ]
        },
        {
          "output_type": "stream",
          "name": "stdout",
          "text": [
            "('Marco', 31)\n",
            "('Rebekah', 31)\n",
            "('Itoe', 31)\n",
            "('Edouard', 31)\n",
            "('Kyle', 62)\n",
            "('Kumiko', 31)\n",
            "('Gaston', 31)\n",
            "('Ayumi', 30)\n"
          ]
        }
      ]
    },
    {
      "cell_type": "code",
      "source": [
        ""
      ],
      "metadata": {
        "id": "HsDpb4xbRLq5"
      },
      "execution_count": null,
      "outputs": []
    },
    {
      "cell_type": "code",
      "metadata": {
        "colab": {
          "base_uri": "https://localhost:8080/"
        },
        "id": "MndteyZ89wBQ",
        "outputId": "90453214-60f1-4a91-fd18-b4a3c426ac9b"
      },
      "source": [
        "#experiment cell\n",
        "\n",
        "import apache_beam as beam\n",
        "\n",
        "with beam.Pipeline() as p13:\n",
        "\n",
        "  attendance_count = (p13\n",
        "                    |'Read from File' >> beam.io.ReadFromText('data/dept_data.txt')\n",
        "                    |'split on delimeter' >> beam.Map(lambda element: element.split(',')) #Map - single element input outputs single element\n",
        "                    |beam.Map(lambda record: record if(record[3] == 'Accounts')  else 'Non Accout Record')\n",
        "#                    |beam.Map(lambda record: (record[1],1))\n",
        "#                    |beam.CombinePerKey(sum)\n",
        "                    |beam.io.WriteToText('data/dept_output8.txt')\n",
        "                    )\n",
        "#p11.run()\n",
        "\n",
        "!head -n 20 data/dept_output8.txt-00000-of-00001"
      ],
      "execution_count": null,
      "outputs": [
        {
          "output_type": "stream",
          "name": "stderr",
          "text": [
            "WARNING:root:Make sure that locally built Python SDK docker image has Python 3.7 interpreter.\n",
            "WARNING:apache_beam.io.filebasedsink:Deleting 1 existing files in target path matching: -*-of-%(num_shards)05d\n"
          ]
        },
        {
          "output_type": "stream",
          "name": "stdout",
          "text": [
            "['149633CM', 'Marco', '10', 'Accounts', '1-01-2019']\n",
            "['212539MU', 'Rebekah', '10', 'Accounts', '1-01-2019']\n",
            "['231555ZZ', 'Itoe', '10', 'Accounts', '1-01-2019']\n",
            "['503996WI', 'Edouard', '10', 'Accounts', '1-01-2019']\n",
            "['704275DC', 'Kyle', '10', 'Accounts', '1-01-2019']\n",
            "['957149WC', 'Kyle', '10', 'Accounts', '1-01-2019']\n",
            "['241316NX', 'Kumiko', '10', 'Accounts', '1-01-2019']\n",
            "['796656IE', 'Gaston', '10', 'Accounts', '1-01-2019']\n",
            "Non Accout Record\n",
            "Non Accout Record\n",
            "Non Accout Record\n",
            "Non Accout Record\n",
            "Non Accout Record\n",
            "Non Accout Record\n",
            "Non Accout Record\n",
            "Non Accout Record\n",
            "Non Accout Record\n",
            "Non Accout Record\n",
            "Non Accout Record\n",
            "Non Accout Record\n"
          ]
        }
      ]
    },
    {
      "cell_type": "code",
      "metadata": {
        "colab": {
          "base_uri": "https://localhost:8080/"
        },
        "id": "kzVovBCMAq_1",
        "outputId": "c8a10a02-f8e1-4965-f33a-1d6070754ca3"
      },
      "source": [
        "import apache_beam as beam\n",
        "\n",
        "with beam.Pipeline() as p14:\n",
        "\n",
        "  input_collection = (p14\n",
        "                    |'Read from File' >> beam.io.ReadFromText('data/dept_data.txt')\n",
        "                    |'split on delimeter' >> beam.Map(lambda element: element.split(',')) #Map - single element input outputs single element\n",
        "                    )\n",
        "  accounts_count =  (input_collection\n",
        "                    |'Filter Accounts Records' >> beam.Filter(lambda record: record[3] == 'Accounts')\n",
        "                    |'Pair each accounts employee with 1' >> beam.Map(lambda record: (\"Accounts, \"+record[1],1))\n",
        "                    |'sum of accounts employee attendance' >> beam.CombinePerKey(sum)\n",
        "                    #|'write accounts op to file' >> beam.io.WriteToText('data/dept_output9.txt')\n",
        "                    )\n",
        "  hr_count =        (input_collection\n",
        "                    |'Filter HR Records' >> beam.Filter(lambda record: record[3] == 'HR')\n",
        "                    |'Pair each HR employee with 1' >> beam.Map(lambda record: (\"HR, \"+record[1],1))\n",
        "                    |'sum of HR employee attendance' >> beam.CombinePerKey(sum)\n",
        "                    #|'write HR op to file' >> beam.io.WriteToText('data/dept_output10.txt')\n",
        "                    )\n",
        "\n",
        "  output =          ((accounts_count,hr_count)\n",
        "                    |beam.Flatten()\n",
        "                    |beam.io.WriteToText('data/dept_output11.txt')\n",
        "                    )\n",
        "#!head -n 20 data/dept_output9.txt-00000-of-00001\n",
        "!head -n 20 data/dept_output11.txt-00000-of-00001"
      ],
      "execution_count": null,
      "outputs": [
        {
          "output_type": "stream",
          "name": "stderr",
          "text": [
            "WARNING:root:Make sure that locally built Python SDK docker image has Python 3.7 interpreter.\n"
          ]
        },
        {
          "output_type": "stream",
          "name": "stdout",
          "text": [
            "('Accounts, Marco', 31)\n",
            "('Accounts, Rebekah', 31)\n",
            "('Accounts, Itoe', 31)\n",
            "('Accounts, Edouard', 31)\n",
            "('Accounts, Kyle', 62)\n",
            "('Accounts, Kumiko', 31)\n",
            "('Accounts, Gaston', 31)\n",
            "('Accounts, Ayumi', 30)\n",
            "('HR, Beryl', 62)\n",
            "('HR, Olga', 31)\n",
            "('HR, Leslie', 31)\n",
            "('HR, Mindy', 31)\n",
            "('HR, Vicky', 31)\n",
            "('HR, Richard', 31)\n",
            "('HR, Kirk', 31)\n",
            "('HR, Kaori', 31)\n",
            "('HR, Oscar', 31)\n"
          ]
        }
      ]
    },
    {
      "cell_type": "code",
      "metadata": {
        "id": "Zfp_AJnNHyCX"
      },
      "source": [
        "!cd assign1"
      ],
      "execution_count": null,
      "outputs": []
    },
    {
      "cell_type": "code",
      "metadata": {
        "colab": {
          "resources": {
            "http://localhost:8080/nbextensions/google.colab/files.js": {
              "data": "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",
              "ok": true,
              "headers": [
                [
                  "content-type",
                  "application/javascript"
                ]
              ],
              "status": 200,
              "status_text": ""
            }
          },
          "base_uri": "https://localhost:8080/",
          "height": 38
        },
        "id": "L0uJZtfzH8T6",
        "outputId": "bc4effda-e3fa-465f-879e-5222bcd9a97d"
      },
      "source": [
        "from google.colab import files\n",
        "uploaded = files.upload()"
      ],
      "execution_count": null,
      "outputs": [
        {
          "output_type": "display_data",
          "data": {
            "text/html": [
              "\n",
              "     <input type=\"file\" id=\"files-9406cdb4-efeb-4c82-bd47-a3a4a16ab4a9\" name=\"files[]\" multiple disabled\n",
              "        style=\"border:none\" />\n",
              "     <output id=\"result-9406cdb4-efeb-4c82-bd47-a3a4a16ab4a9\">\n",
              "      Upload widget is only available when the cell has been executed in the\n",
              "      current browser session. Please rerun this cell to enable.\n",
              "      </output>\n",
              "      <script src=\"/nbextensions/google.colab/files.js\"></script> "
            ],
            "text/plain": [
              "<IPython.core.display.HTML object>"
            ]
          },
          "metadata": {}
        }
      ]
    },
    {
      "cell_type": "code",
      "metadata": {
        "id": "S7NRsgdSfsIP"
      },
      "source": [
        ""
      ],
      "execution_count": null,
      "outputs": []
    },
    {
      "cell_type": "code",
      "metadata": {
        "colab": {
          "base_uri": "https://localhost:8080/"
        },
        "id": "EypnBfwdI5hs",
        "outputId": "78a0784c-6f1b-43c2-b44a-7f519d323f3e"
      },
      "source": [
        "!head -20 data.txt"
      ],
      "execution_count": null,
      "outputs": [
        {
          "output_type": "stream",
          "name": "stdout",
          "text": [
            "\tKING LEAR\r\n",
            "\r\n",
            "\r\n",
            "\tDRAMATIS PERSONAE\r\n",
            "\r\n",
            "\r\n",
            "LEAR\tking of Britain  (KING LEAR:)\r\n",
            "\r\n",
            "KING OF FRANCE:\r\n",
            "\r\n",
            "DUKE OF BURGUNDY\t(BURGUNDY:)\r\n",
            "\r\n",
            "DUKE OF CORNWALL\t(CORNWALL:)\r\n",
            "\r\n",
            "DUKE OF ALBANY\t(ALBANY:)\r\n",
            "\r\n",
            "EARL OF KENT\t(KENT:)\r\n",
            "\r\n",
            "EARL OF GLOUCESTER\t(GLOUCESTER:)\r\n",
            "\r\n"
          ]
        }
      ]
    },
    {
      "cell_type": "code",
      "metadata": {
        "colab": {
          "base_uri": "https://localhost:8080/"
        },
        "id": "z1GVBrRyJHny",
        "outputId": "a40e8e11-eb48-4592-d20b-920dda22ed50"
      },
      "source": [
        "import re\n",
        "\n",
        "string = \"king,--in which your pain\"\n",
        "new_string = re.sub(r\"[^a-zA-Z0-9\\s\\t]\",\" \",string)\n",
        "print(new_string.split(','))\n",
        "print(' '.join(re.sub(r\"[^a-zA-Z']\",\" \",string).split()))\n",
        "print(re.sub(r\"[^a-zA-Z']\",\" \",string).split())"
      ],
      "execution_count": null,
      "outputs": [
        {
          "output_type": "stream",
          "name": "stdout",
          "text": [
            "['king   in which your pain']\n",
            "king in which your pain\n",
            "['king', 'in', 'which', 'your', 'pain']\n"
          ]
        }
      ]
    },
    {
      "cell_type": "code",
      "metadata": {
        "colab": {
          "base_uri": "https://localhost:8080/"
        },
        "id": "CDTfwFCZINXT",
        "outputId": "31b448cd-f64c-4414-c240-de1633b607f1"
      },
      "source": [
        "import apache_beam as beam\n",
        "\n",
        "with beam.Pipeline() as p_1:\n",
        "  count = (p_1\n",
        "           |beam.io.ReadFromText('data.txt')\n",
        "           |beam.FlatMap(lambda element: re.sub(r\"[^a-zA-Z']\",\" \",element).split())\n",
        "           |beam.Map(lambda element: (element,1))\n",
        "           |beam.CombinePerKey(sum)\n",
        "           |beam.io.WriteToText('output_of_p_1.txt')\n",
        "  )\n",
        "\n",
        "  !head -20 output_of_p_1.txt-00000-of-00001 "
      ],
      "execution_count": null,
      "outputs": [
        {
          "output_type": "stream",
          "name": "stdout",
          "text": [
            "('KING', 243)\n",
            "('LEAR', 236)\n",
            "('DRAMATIS', 1)\n",
            "('PERSONAE', 1)\n",
            "('king', 65)\n",
            "('of', 447)\n",
            "('Britain', 2)\n",
            "('OF', 15)\n",
            "('FRANCE', 10)\n",
            "('DUKE', 3)\n",
            "('BURGUNDY', 8)\n",
            "('CORNWALL', 63)\n",
            "('ALBANY', 67)\n",
            "('EARL', 2)\n",
            "('KENT', 156)\n",
            "('GLOUCESTER', 141)\n",
            "('EDGAR', 126)\n",
            "('son', 29)\n",
            "('to', 438)\n",
            "('Gloucester', 26)\n"
          ]
        },
        {
          "output_type": "stream",
          "name": "stderr",
          "text": [
            "WARNING:root:Make sure that locally built Python SDK docker image has Python 3.7 interpreter.\n"
          ]
        }
      ]
    },
    {
      "cell_type": "code",
      "metadata": {
        "colab": {
          "base_uri": "https://localhost:8080/"
        },
        "id": "wnmyhWHgRPOO",
        "outputId": "71ee7df9-6f2a-40ab-a4fa-0eeb32ab7851"
      },
      "source": [
        "with beam.Pipeline() as pipeline:\n",
        "  (\n",
        "      pipeline\n",
        "      | 'Read lines' >> beam.io.ReadFromText('data.txt')\n",
        "      | 'Find words' >> beam.FlatMap(lambda line: re.findall(r\"[a-zA-Z']+\", line))\n",
        "      | 'Pair words with 1' >> beam.Map(lambda word: (word, 1))\n",
        "      | 'Group and sum' >> beam.CombinePerKey(sum)\n",
        "      | 'Format results' >> beam.Map(lambda word_count: str(word_count))\n",
        "      | 'Write results' >> beam.io.WriteToText('outputs_prefix')\n",
        "      \n",
        "  )\n",
        "\n",
        "# Sample the first 20 results, remember there are no ordering guarantees.\n",
        "!head -20 outputs_prefix-00000-of-00001 "
      ],
      "execution_count": null,
      "outputs": [
        {
          "output_type": "stream",
          "name": "stderr",
          "text": [
            "WARNING:root:Make sure that locally built Python SDK docker image has Python 3.7 interpreter.\n"
          ]
        },
        {
          "output_type": "stream",
          "name": "stdout",
          "text": [
            "('KING', 243)\n",
            "('LEAR', 236)\n",
            "('DRAMATIS', 1)\n",
            "('PERSONAE', 1)\n",
            "('king', 65)\n",
            "('of', 447)\n",
            "('Britain', 2)\n",
            "('OF', 15)\n",
            "('FRANCE', 10)\n",
            "('DUKE', 3)\n",
            "('BURGUNDY', 8)\n",
            "('CORNWALL', 63)\n",
            "('ALBANY', 67)\n",
            "('EARL', 2)\n",
            "('KENT', 156)\n",
            "('GLOUCESTER', 141)\n",
            "('EDGAR', 126)\n",
            "('son', 29)\n",
            "('to', 438)\n",
            "('Gloucester', 26)\n"
          ]
        }
      ]
    },
    {
      "cell_type": "code",
      "metadata": {
        "colab": {
          "base_uri": "https://localhost:8080/",
          "height": 173
        },
        "id": "ZdXPbycjeXLa",
        "outputId": "b576b8fa-e7e8-4fc1-b4bf-dfb71c5cd126"
      },
      "source": [
        "import apache_beam as beam\n",
        "\n",
        "class SplitRow(beam.DoFn):\n",
        "\n",
        "  def process(self,element):\n",
        "    return [element.split(',')]\n",
        "\n",
        "class FilterByDepartment(beam.DoFn):\n",
        "\n",
        "  def process(self, element):\n",
        "    if element[3] == 'Accounts':\n",
        "      return [element]\n",
        "\n",
        "class PairEmployee(beam.DoFn):\n",
        "\n",
        "  def process(self, element):\n",
        "    return [(element[3]+\",\"+element[1],1)]\n",
        "\n",
        "class Count(beam.DoFn):\n",
        "\n",
        "  def process(self, element):\n",
        "    (key, values) =  element\n",
        "    return [(key, sum(values))]\n",
        "\n",
        "with beam.Pipeline() as p15:\n",
        "\n",
        "  attendance_count = (p15\n",
        "                    |'Read from File' >> beam.io.ReadFromText('data/dept_data.txt')\n",
        "                    |'split on delimeter' >> beam.ParDo(SplitRow())\n",
        "                    |beam.ParDo(FilterByDepartment())\n",
        "                    |beam.ParDo(PairEmployee())\n",
        "                    |beam.GroupByKey()\n",
        "                    |beam.ParDo(Count())\n",
        "                    |beam.io.WriteToText('data/dept_output12.txt')\n",
        "                    )\n",
        "#p11.run()\n",
        "\n",
        "!head -n 20 data/dept_output12.txt-00000-of-00001"
      ],
      "execution_count": null,
      "outputs": [
        {
          "output_type": "display_data",
          "data": {
            "application/javascript": [
              "\n",
              "        if (typeof window.interactive_beam_jquery == 'undefined') {\n",
              "          var jqueryScript = document.createElement('script');\n",
              "          jqueryScript.src = 'https://code.jquery.com/jquery-3.4.1.slim.min.js';\n",
              "          jqueryScript.type = 'text/javascript';\n",
              "          jqueryScript.onload = function() {\n",
              "            var datatableScript = document.createElement('script');\n",
              "            datatableScript.src = 'https://cdn.datatables.net/1.10.20/js/jquery.dataTables.min.js';\n",
              "            datatableScript.type = 'text/javascript';\n",
              "            datatableScript.onload = function() {\n",
              "              window.interactive_beam_jquery = jQuery.noConflict(true);\n",
              "              window.interactive_beam_jquery(document).ready(function($){\n",
              "                \n",
              "              });\n",
              "            }\n",
              "            document.head.appendChild(datatableScript);\n",
              "          };\n",
              "          document.head.appendChild(jqueryScript);\n",
              "        } else {\n",
              "          window.interactive_beam_jquery(document).ready(function($){\n",
              "            \n",
              "          });\n",
              "        }"
            ]
          },
          "metadata": {}
        },
        {
          "output_type": "stream",
          "name": "stderr",
          "text": [
            "WARNING:root:Make sure that locally built Python SDK docker image has Python 3.7 interpreter.\n"
          ]
        },
        {
          "output_type": "stream",
          "name": "stdout",
          "text": [
            "('Accounts,Marco', 31)\n",
            "('Accounts,Rebekah', 31)\n",
            "('Accounts,Itoe', 31)\n",
            "('Accounts,Edouard', 31)\n",
            "('Accounts,Kyle', 62)\n",
            "('Accounts,Kumiko', 31)\n",
            "('Accounts,Gaston', 31)\n",
            "('Accounts,Ayumi', 30)\n"
          ]
        }
      ]
    },
    {
      "cell_type": "code",
      "metadata": {
        "id": "XuozmvSfdH_-"
      },
      "source": [
        "from google.colab import files\n",
        "uploaded2 = files.upload()"
      ],
      "execution_count": null,
      "outputs": []
    },
    {
      "cell_type": "code",
      "metadata": {
        "id": "Zwf9XOG0hIJL"
      },
      "source": [
        "!mv dept_data.txt data/"
      ],
      "execution_count": null,
      "outputs": []
    },
    {
      "cell_type": "code",
      "metadata": {
        "colab": {
          "base_uri": "https://localhost:8080/"
        },
        "id": "XPCFa8HXjkHL",
        "outputId": "ae7c863a-9e2b-4160-cd84-0a99c91e21f6"
      },
      "source": [
        "import apache_beam as beam\n",
        "\n",
        "class AverageFn(beam.CombineFn):\n",
        "\n",
        "  def create_accumulator(self):\n",
        "    return(0.0,0)\n",
        "\n",
        "  def add_input(self,sum_count,input):\n",
        "    (sum, count) = sum_count\n",
        "    return sum + input, count + 1\n",
        "\n",
        "  def merge_accumulators(self, accumulators):\n",
        "    ind_sums, ind_counts = zip(*accumulators)\n",
        "    return sum(ind_sums), sum(ind_counts)\n",
        "\n",
        "  def extract_output(self, sum_count):\n",
        "    (sum, count) = sum_count\n",
        "    return sum/count if count else float('NaN')\n",
        "\n",
        "with beam.Pipeline() as p16:\n",
        "\n",
        "  Calculate_average =  (p16\n",
        "                      |beam.Create([15,5,7,7,9,23,13,5])\n",
        "                      |beam.CombineGlobally(AverageFn())\n",
        "                      |beam.io.WriteToText('data/dept_output13.txt')\n",
        "  )\n",
        "\n",
        "!head -n 20 data/dept_output13.txt-00000-of-00001                     "
      ],
      "execution_count": null,
      "outputs": [
        {
          "output_type": "stream",
          "name": "stderr",
          "text": [
            "WARNING:root:Make sure that locally built Python SDK docker image has Python 3.7 interpreter.\n",
            "WARNING:apache_beam.io.filebasedsink:Deleting 1 existing files in target path matching: -*-of-%(num_shards)05d\n"
          ]
        },
        {
          "output_type": "stream",
          "name": "stdout",
          "text": [
            "10.5\n"
          ]
        }
      ]
    },
    {
      "cell_type": "code",
      "metadata": {
        "colab": {
          "base_uri": "https://localhost:8080/"
        },
        "id": "-y3LF2uHrnj2",
        "outputId": "705b580b-e4fa-4573-ca0f-671c9d7e65f1"
      },
      "source": [
        "import apache_beam as beam\n",
        "\n",
        "def filter_on_count(element):\n",
        "  name, count = element\n",
        "  if count > 30:\n",
        "    return element\n",
        "\n",
        "def format_output(element):\n",
        "  name, count = element\n",
        "  return ', '.join((name, str(count), 'Regular Employee'))\n",
        "\n",
        "with beam.Pipeline() as p17:\n",
        "\n",
        "  input_collection = (p17\n",
        "                    |'Read from File' >> beam.io.ReadFromText('data/dept_data.txt')\n",
        "                    |'split on delimeter' >> beam.Map(lambda element: element.split(',')) #Map - single element input outputs single element\n",
        "                    )\n",
        "  accounts_count =  (input_collection\n",
        "                    |'Filter Accounts Records' >> beam.Filter(lambda record: record[3] == 'Accounts')\n",
        "                    |'Pair each accounts employee with 1' >> beam.Map(lambda record: (\"Accounts, \"+record[1],1))\n",
        "                    |'sum of accounts employee attendance' >> beam.CombinePerKey(sum)\n",
        "                    |'Filter Account Employees with attendence > 30' >> beam.Filter(filter_on_count)\n",
        "                    |'Format Account Employees output' >> beam.Map(format_output)\n",
        "                    #|'write accounts op to file' >> beam.io.WriteToText('data/dept_output9.txt')\n",
        "                    )\n",
        "  hr_count =        (input_collection\n",
        "                    |'Filter HR Records' >> beam.Filter(lambda record: record[3] == 'HR')\n",
        "                    |'Pair each HR employee with 1' >> beam.Map(lambda record: (\"HR, \"+record[1],1))\n",
        "                    |'sum of HR employee attendance' >> beam.CombinePerKey(sum)\n",
        "                    |'Filter HR Employees with attendence > 30' >> beam.Filter(filter_on_count)\n",
        "                    |'Format HR Employees output' >> beam.Map(format_output)\n",
        "                    #|'write HR op to file' >> beam.io.WriteToText('data/dept_output10.txt')\n",
        "                    )\n",
        "\n",
        "  output =          ((accounts_count,hr_count)\n",
        "                    |beam.Flatten()\n",
        "                    |beam.io.WriteToText('data/dept_output14.txt')\n",
        "                    )\n",
        "#!head -n 20 data/dept_output9.txt-00000-of-00001\n",
        "!head -n 20 data/dept_output14.txt-00000-of-00001"
      ],
      "execution_count": null,
      "outputs": [
        {
          "output_type": "stream",
          "name": "stderr",
          "text": [
            "WARNING:root:Make sure that locally built Python SDK docker image has Python 3.7 interpreter.\n"
          ]
        },
        {
          "output_type": "stream",
          "name": "stdout",
          "text": [
            "Accounts, Marco, 31, Regular Employee\n",
            "Accounts, Rebekah, 31, Regular Employee\n",
            "Accounts, Itoe, 31, Regular Employee\n",
            "Accounts, Edouard, 31, Regular Employee\n",
            "Accounts, Kyle, 62, Regular Employee\n",
            "Accounts, Kumiko, 31, Regular Employee\n",
            "Accounts, Gaston, 31, Regular Employee\n",
            "HR, Beryl, 62, Regular Employee\n",
            "HR, Olga, 31, Regular Employee\n",
            "HR, Leslie, 31, Regular Employee\n",
            "HR, Mindy, 31, Regular Employee\n",
            "HR, Vicky, 31, Regular Employee\n",
            "HR, Richard, 31, Regular Employee\n",
            "HR, Kirk, 31, Regular Employee\n",
            "HR, Kaori, 31, Regular Employee\n",
            "HR, Oscar, 31, Regular Employee\n"
          ]
        }
      ]
    },
    {
      "cell_type": "code",
      "metadata": {
        "colab": {
          "base_uri": "https://localhost:8080/"
        },
        "id": "50577YNzwb9z",
        "outputId": "ce3dafa0-2007-4232-d07c-e546630fa143"
      },
      "source": [
        "import apache_beam as beam\n",
        "\n",
        "class MyTransform(beam.PTransform):\n",
        "\n",
        "  def expand(self, input_col1):\n",
        "    a= ( input_col1\n",
        "        |'sum of  Employee attendance' >> beam.CombinePerKey(sum)\n",
        "        |'Filter  Employees with attendence > 30' >> beam.Filter(filter_on_count)\n",
        "        |'Format  Employees output' >> beam.Map(format_output)\n",
        "        )\n",
        "    return a\n",
        "\n",
        "def filter_on_count(element):\n",
        "  name, count = element\n",
        "  if count > 30:\n",
        "    return element\n",
        "\n",
        "def format_output(element):\n",
        "  name, count = element\n",
        "  return ', '.join((name, str(count), 'Regular Employee'))\n",
        "\n",
        "with beam.Pipeline() as p17:\n",
        "\n",
        "  input_collection = (p17\n",
        "                    |'Read from File' >> beam.io.ReadFromText('data/dept_data.txt')\n",
        "                    |'split on delimeter' >> beam.Map(lambda element: element.split(',')) #Map - single element input outputs single element\n",
        "                    )\n",
        "  accounts_count =  (input_collection\n",
        "                    |'Filter Accounts Records' >> beam.Filter(lambda record: record[3] == 'Accounts')\n",
        "                    |'Pair each accounts employee with 1' >> beam.Map(lambda record: (\"Accounts, \"+record[1],1))\n",
        "                    |'call composite Transform for Accounts' >> MyTransform()\n",
        "                    #|'write accounts op to file' >> beam.io.WriteToText('data/dept_output9.txt')\n",
        "                    )\n",
        "  hr_count =        (input_collection\n",
        "                    |'Filter HR Records' >> beam.Filter(lambda record: record[3] == 'HR')\n",
        "                    |'Pair each HR employee with 1' >> beam.Map(lambda record: (\"HR, \"+record[1],1))\n",
        "                    |'call composite Transform for HR' >>MyTransform()\n",
        "                    #|'write HR op to file' >> beam.io.WriteToText('data/dept_output10.txt')\n",
        "                    )\n",
        "\n",
        "  output =          ((accounts_count,hr_count)\n",
        "                    |beam.Flatten()\n",
        "                    |beam.io.WriteToText('data/dept_output14.txt')\n",
        "                    )\n",
        "#!head -n 20 data/dept_output9.txt-00000-of-00001\n",
        "!head -n 20 data/dept_output14.txt-00000-of-00001"
      ],
      "execution_count": null,
      "outputs": [
        {
          "output_type": "stream",
          "name": "stderr",
          "text": [
            "WARNING:root:Make sure that locally built Python SDK docker image has Python 3.7 interpreter.\n",
            "WARNING:apache_beam.io.filebasedsink:Deleting 1 existing files in target path matching: -*-of-%(num_shards)05d\n"
          ]
        },
        {
          "output_type": "stream",
          "name": "stdout",
          "text": [
            "Accounts, Marco, 31, Regular Employee\n",
            "Accounts, Rebekah, 31, Regular Employee\n",
            "Accounts, Itoe, 31, Regular Employee\n",
            "Accounts, Edouard, 31, Regular Employee\n",
            "Accounts, Kyle, 62, Regular Employee\n",
            "Accounts, Kumiko, 31, Regular Employee\n",
            "Accounts, Gaston, 31, Regular Employee\n",
            "HR, Beryl, 62, Regular Employee\n",
            "HR, Olga, 31, Regular Employee\n",
            "HR, Leslie, 31, Regular Employee\n",
            "HR, Mindy, 31, Regular Employee\n",
            "HR, Vicky, 31, Regular Employee\n",
            "HR, Richard, 31, Regular Employee\n",
            "HR, Kirk, 31, Regular Employee\n",
            "HR, Kaori, 31, Regular Employee\n",
            "HR, Oscar, 31, Regular Employee\n"
          ]
        }
      ]
    },
    {
      "cell_type": "code",
      "metadata": {
        "colab": {
          "base_uri": "https://localhost:8080/"
        },
        "id": "RRw7p8c805b7",
        "outputId": "c13d7377-277c-4aac-c6f4-445916d4228f"
      },
      "source": [
        "import apache_beam as beam\n",
        "\n",
        "def reTuple(element):\n",
        "  thisTuple = element.split(',')\n",
        "  return (thisTuple[0], thisTuple[1:])\n",
        "\n",
        "\n",
        "with beam.Pipeline() as p18:\n",
        "\n",
        "  dep_rows = (p18\n",
        "                |'Read Dept rows' >> beam.io.ReadFromText('data/dept_data.txt')\n",
        "                |'Transform dept data' >> beam.Map(reTuple)\n",
        "                )\n",
        "  \n",
        "  loc_rows = (p18\n",
        "                |'Read location rows' >> beam.io.ReadFromText('data/location.txt')\n",
        "                |'Transform location data' >> beam.Map(reTuple)\n",
        "  )\n",
        "\n",
        "  results =  ({'dep_rows' : dep_rows, 'loc_data' : loc_rows}\n",
        "              |beam.CoGroupByKey()\n",
        "              |'write results' >> beam.io.WriteToText('data/dept_output15.txt')\n",
        "              )\n",
        "  \n",
        "!head -n 20 data/dept_output15.txt-00000-of-00001"
      ],
      "execution_count": null,
      "outputs": [
        {
          "output_type": "stream",
          "name": "stderr",
          "text": [
            "WARNING:root:Make sure that locally built Python SDK docker image has Python 3.7 interpreter.\n"
          ]
        },
        {
          "output_type": "stream",
          "name": "stdout",
          "text": [
            "('149633CM', {'dep_rows': [['Marco', '10', 'Accounts', '1-01-2019'], ['Marco', '10', 'Accounts', '2-01-2019'], ['Marco', '10', 'Accounts', '3-01-2019'], ['Marco', '10', 'Accounts', '4-01-2019'], ['Marco', '10', 'Accounts', '5-01-2019'], ['Marco', '10', 'Accounts', '6-01-2019'], ['Marco', '10', 'Accounts', '7-01-2019'], ['Marco', '10', 'Accounts', '8-01-2019'], ['Marco', '10', 'Accounts', '9-01-2019'], ['Marco', '10', 'Accounts', '10-01-2019'], ['Marco', '10', 'Accounts', '11-01-2019'], ['Marco', '10', 'Accounts', '12-01-2019'], ['Marco', '10', 'Accounts', '13-01-2019'], ['Marco', '10', 'Accounts', '14-01-2019'], ['Marco', '10', 'Accounts', '15-01-2019'], ['Marco', '10', 'Accounts', '16-01-2019'], ['Marco', '10', 'Accounts', '17-01-2019'], ['Marco', '10', 'Accounts', '18-01-2019'], ['Marco', '10', 'Accounts', '19-01-2019'], ['Marco', '10', 'Accounts', '20-01-2019'], ['Marco', '10', 'Accounts', '21-01-2019'], ['Marco', '10', 'Accounts', '22-01-2019'], ['Marco', '10', 'Accounts', '23-01-2019'], ['Marco', '10', 'Accounts', '24-01-2019'], ['Marco', '10', 'Accounts', '25-01-2019'], ['Marco', '10', 'Accounts', '26-01-2019'], ['Marco', '10', 'Accounts', '27-01-2019'], ['Marco', '10', 'Accounts', '28-01-2019'], ['Marco', '10', 'Accounts', '29-01-2019'], ['Marco', '10', 'Accounts', '30-01-2019'], ['Marco', '10', 'Accounts', '31-01-2019']], 'loc_data': [['9876843261', 'New York'], ['9204232778', 'New York']]})\n",
            "('212539MU', {'dep_rows': [['Rebekah', '10', 'Accounts', '1-01-2019'], ['Rebekah', '10', 'Accounts', '2-01-2019'], ['Rebekah', '10', 'Accounts', '3-01-2019'], ['Rebekah', '10', 'Accounts', '4-01-2019'], ['Rebekah', '10', 'Accounts', '5-01-2019'], ['Rebekah', '10', 'Accounts', '6-01-2019'], ['Rebekah', '10', 'Accounts', '7-01-2019'], ['Rebekah', '10', 'Accounts', '8-01-2019'], ['Rebekah', '10', 'Accounts', '9-01-2019'], ['Rebekah', '10', 'Accounts', '10-01-2019'], ['Rebekah', '10', 'Accounts', '11-01-2019'], ['Rebekah', '10', 'Accounts', '12-01-2019'], ['Rebekah', '10', 'Accounts', '13-01-2019'], ['Rebekah', '10', 'Accounts', '14-01-2019'], ['Rebekah', '10', 'Accounts', '15-01-2019'], ['Rebekah', '10', 'Accounts', '16-01-2019'], ['Rebekah', '10', 'Accounts', '17-01-2019'], ['Rebekah', '10', 'Accounts', '18-01-2019'], ['Rebekah', '10', 'Accounts', '19-01-2019'], ['Rebekah', '10', 'Accounts', '20-01-2019'], ['Rebekah', '10', 'Accounts', '21-01-2019'], ['Rebekah', '10', 'Accounts', '22-01-2019'], ['Rebekah', '10', 'Accounts', '23-01-2019'], ['Rebekah', '10', 'Accounts', '24-01-2019'], ['Rebekah', '10', 'Accounts', '25-01-2019'], ['Rebekah', '10', 'Accounts', '26-01-2019'], ['Rebekah', '10', 'Accounts', '27-01-2019'], ['Rebekah', '10', 'Accounts', '28-01-2019'], ['Rebekah', '10', 'Accounts', '29-01-2019'], ['Rebekah', '10', 'Accounts', '30-01-2019'], ['Rebekah', '10', 'Accounts', '31-01-2019']], 'loc_data': [['9995440673', 'Denver']]})\n",
            "('231555ZZ', {'dep_rows': [['Itoe', '10', 'Accounts', '1-01-2019'], ['Itoe', '10', 'Accounts', '2-01-2019'], ['Itoe', '10', 'Accounts', '3-01-2019'], ['Itoe', '10', 'Accounts', '4-01-2019'], ['Itoe', '10', 'Accounts', '5-01-2019'], ['Itoe', '10', 'Accounts', '6-01-2019'], ['Itoe', '10', 'Accounts', '7-01-2019'], ['Itoe', '10', 'Accounts', '8-01-2019'], ['Itoe', '10', 'Accounts', '9-01-2019'], ['Itoe', '10', 'Accounts', '10-01-2019'], ['Itoe', '10', 'Accounts', '11-01-2019'], ['Itoe', '10', 'Accounts', '12-01-2019'], ['Itoe', '10', 'Accounts', '13-01-2019'], ['Itoe', '10', 'Accounts', '14-01-2019'], ['Itoe', '10', 'Accounts', '15-01-2019'], ['Itoe', '10', 'Accounts', '16-01-2019'], ['Itoe', '10', 'Accounts', '17-01-2019'], ['Itoe', '10', 'Accounts', '18-01-2019'], ['Itoe', '10', 'Accounts', '19-01-2019'], ['Itoe', '10', 'Accounts', '20-01-2019'], ['Itoe', '10', 'Accounts', '21-01-2019'], ['Itoe', '10', 'Accounts', '22-01-2019'], ['Itoe', '10', 'Accounts', '23-01-2019'], ['Itoe', '10', 'Accounts', '24-01-2019'], ['Itoe', '10', 'Accounts', '25-01-2019'], ['Itoe', '10', 'Accounts', '26-01-2019'], ['Itoe', '10', 'Accounts', '27-01-2019'], ['Itoe', '10', 'Accounts', '28-01-2019'], ['Itoe', '10', 'Accounts', '29-01-2019'], ['Itoe', '10', 'Accounts', '30-01-2019'], ['Itoe', '10', 'Accounts', '31-01-2019']], 'loc_data': [['9196597290', 'Boston']]})\n",
            "('503996WI', {'dep_rows': [['Edouard', '10', 'Accounts', '1-01-2019'], ['Edouard', '10', 'Accounts', '2-01-2019'], ['Edouard', '10', 'Accounts', '3-01-2019'], ['Edouard', '10', 'Accounts', '4-01-2019'], ['Edouard', '10', 'Accounts', '5-01-2019'], ['Edouard', '10', 'Accounts', '6-01-2019'], ['Edouard', '10', 'Accounts', '7-01-2019'], ['Edouard', '10', 'Accounts', '8-01-2019'], ['Edouard', '10', 'Accounts', '9-01-2019'], ['Edouard', '10', 'Accounts', '10-01-2019'], ['Edouard', '10', 'Accounts', '11-01-2019'], ['Edouard', '10', 'Accounts', '12-01-2019'], ['Edouard', '10', 'Accounts', '13-01-2019'], ['Edouard', '10', 'Accounts', '14-01-2019'], ['Edouard', '10', 'Accounts', '15-01-2019'], ['Edouard', '10', 'Accounts', '16-01-2019'], ['Edouard', '10', 'Accounts', '17-01-2019'], ['Edouard', '10', 'Accounts', '18-01-2019'], ['Edouard', '10', 'Accounts', '19-01-2019'], ['Edouard', '10', 'Accounts', '20-01-2019'], ['Edouard', '10', 'Accounts', '21-01-2019'], ['Edouard', '10', 'Accounts', '22-01-2019'], ['Edouard', '10', 'Accounts', '23-01-2019'], ['Edouard', '10', 'Accounts', '24-01-2019'], ['Edouard', '10', 'Accounts', '25-01-2019'], ['Edouard', '10', 'Accounts', '26-01-2019'], ['Edouard', '10', 'Accounts', '27-01-2019'], ['Edouard', '10', 'Accounts', '28-01-2019'], ['Edouard', '10', 'Accounts', '29-01-2019'], ['Edouard', '10', 'Accounts', '30-01-2019'], ['Edouard', '10', 'Accounts', '31-01-2019']], 'loc_data': [['9468234252', 'Miami']]})\n",
            "('704275DC', {'dep_rows': [['Kyle', '10', 'Accounts', '1-01-2019'], ['Kyle', '10', 'Accounts', '2-01-2019'], ['Kyle', '10', 'Accounts', '3-01-2019'], ['Kyle', '10', 'Accounts', '4-01-2019'], ['Kyle', '10', 'Accounts', '5-01-2019'], ['Kyle', '10', 'Accounts', '6-01-2019'], ['Kyle', '10', 'Accounts', '7-01-2019'], ['Kyle', '10', 'Accounts', '8-01-2019'], ['Kyle', '10', 'Accounts', '9-01-2019'], ['Kyle', '10', 'Accounts', '10-01-2019'], ['Kyle', '10', 'Accounts', '11-01-2019'], ['Kyle', '10', 'Accounts', '12-01-2019'], ['Kyle', '10', 'Accounts', '13-01-2019'], ['Kyle', '10', 'Accounts', '14-01-2019'], ['Kyle', '10', 'Accounts', '15-01-2019'], ['Kyle', '10', 'Accounts', '16-01-2019'], ['Kyle', '10', 'Accounts', '17-01-2019'], ['Kyle', '10', 'Accounts', '18-01-2019'], ['Kyle', '10', 'Accounts', '19-01-2019'], ['Kyle', '10', 'Accounts', '20-01-2019'], ['Kyle', '10', 'Accounts', '21-01-2019'], ['Kyle', '10', 'Accounts', '22-01-2019'], ['Kyle', '10', 'Accounts', '23-01-2019'], ['Kyle', '10', 'Accounts', '24-01-2019'], ['Kyle', '10', 'Accounts', '25-01-2019'], ['Kyle', '10', 'Accounts', '26-01-2019'], ['Kyle', '10', 'Accounts', '27-01-2019'], ['Kyle', '10', 'Accounts', '28-01-2019'], ['Kyle', '10', 'Accounts', '29-01-2019'], ['Kyle', '10', 'Accounts', '30-01-2019'], ['Kyle', '10', 'Accounts', '31-01-2019']], 'loc_data': [['9776235961', 'Miami']]})\n",
            "('957149WC', {'dep_rows': [['Kyle', '10', 'Accounts', '1-01-2019'], ['Kyle', '10', 'Accounts', '2-01-2019'], ['Kyle', '10', 'Accounts', '3-01-2019'], ['Kyle', '10', 'Accounts', '4-01-2019'], ['Kyle', '10', 'Accounts', '5-01-2019'], ['Kyle', '10', 'Accounts', '6-01-2019'], ['Kyle', '10', 'Accounts', '7-01-2019'], ['Kyle', '10', 'Accounts', '8-01-2019'], ['Kyle', '10', 'Accounts', '9-01-2019'], ['Kyle', '10', 'Accounts', '10-01-2019'], ['Kyle', '10', 'Accounts', '11-01-2019'], ['Kyle', '10', 'Accounts', '12-01-2019'], ['Kyle', '10', 'Accounts', '13-01-2019'], ['Kyle', '10', 'Accounts', '14-01-2019'], ['Kyle', '10', 'Accounts', '15-01-2019'], ['Kyle', '10', 'Accounts', '16-01-2019'], ['Kyle', '10', 'Accounts', '17-01-2019'], ['Kyle', '10', 'Accounts', '18-01-2019'], ['Kyle', '10', 'Accounts', '19-01-2019'], ['Kyle', '10', 'Accounts', '20-01-2019'], ['Kyle', '10', 'Accounts', '21-01-2019'], ['Kyle', '10', 'Accounts', '22-01-2019'], ['Kyle', '10', 'Accounts', '23-01-2019'], ['Kyle', '10', 'Accounts', '24-01-2019'], ['Kyle', '10', 'Accounts', '25-01-2019'], ['Kyle', '10', 'Accounts', '26-01-2019'], ['Kyle', '10', 'Accounts', '27-01-2019'], ['Kyle', '10', 'Accounts', '28-01-2019'], ['Kyle', '10', 'Accounts', '29-01-2019'], ['Kyle', '10', 'Accounts', '30-01-2019'], ['Kyle', '10', 'Accounts', '31-01-2019']], 'loc_data': [['9925595092', 'Houston']]})\n",
            "('241316NX', {'dep_rows': [['Kumiko', '10', 'Accounts', '1-01-2019'], ['Kumiko', '10', 'Accounts', '2-01-2019'], ['Kumiko', '10', 'Accounts', '3-01-2019'], ['Kumiko', '10', 'Accounts', '4-01-2019'], ['Kumiko', '10', 'Accounts', '5-01-2019'], ['Kumiko', '10', 'Accounts', '6-01-2019'], ['Kumiko', '10', 'Accounts', '7-01-2019'], ['Kumiko', '10', 'Accounts', '8-01-2019'], ['Kumiko', '10', 'Accounts', '9-01-2019'], ['Kumiko', '10', 'Accounts', '10-01-2019'], ['Kumiko', '10', 'Accounts', '11-01-2019'], ['Kumiko', '10', 'Accounts', '12-01-2019'], ['Kumiko', '10', 'Accounts', '13-01-2019'], ['Kumiko', '10', 'Accounts', '14-01-2019'], ['Kumiko', '10', 'Accounts', '15-01-2019'], ['Kumiko', '10', 'Accounts', '16-01-2019'], ['Kumiko', '10', 'Accounts', '17-01-2019'], ['Kumiko', '10', 'Accounts', '18-01-2019'], ['Kumiko', '10', 'Accounts', '19-01-2019'], ['Kumiko', '10', 'Accounts', '20-01-2019'], ['Kumiko', '10', 'Accounts', '21-01-2019'], ['Kumiko', '10', 'Accounts', '22-01-2019'], ['Kumiko', '10', 'Accounts', '23-01-2019'], ['Kumiko', '10', 'Accounts', '24-01-2019'], ['Kumiko', '10', 'Accounts', '25-01-2019'], ['Kumiko', '10', 'Accounts', '26-01-2019'], ['Kumiko', '10', 'Accounts', '27-01-2019'], ['Kumiko', '10', 'Accounts', '28-01-2019'], ['Kumiko', '10', 'Accounts', '29-01-2019'], ['Kumiko', '10', 'Accounts', '30-01-2019'], ['Kumiko', '10', 'Accounts', '31-01-2019']], 'loc_data': [['9837402343', 'Boston']]})\n",
            "('796656IE', {'dep_rows': [['Gaston', '10', 'Accounts', '1-01-2019'], ['Gaston', '10', 'Accounts', '2-01-2019'], ['Gaston', '10', 'Accounts', '3-01-2019'], ['Gaston', '10', 'Accounts', '4-01-2019'], ['Gaston', '10', 'Accounts', '5-01-2019'], ['Gaston', '10', 'Accounts', '6-01-2019'], ['Gaston', '10', 'Accounts', '7-01-2019'], ['Gaston', '10', 'Accounts', '8-01-2019'], ['Gaston', '10', 'Accounts', '9-01-2019'], ['Gaston', '10', 'Accounts', '10-01-2019'], ['Gaston', '10', 'Accounts', '11-01-2019'], ['Gaston', '10', 'Accounts', '12-01-2019'], ['Gaston', '10', 'Accounts', '13-01-2019'], ['Gaston', '10', 'Accounts', '14-01-2019'], ['Gaston', '10', 'Accounts', '15-01-2019'], ['Gaston', '10', 'Accounts', '16-01-2019'], ['Gaston', '10', 'Accounts', '17-01-2019'], ['Gaston', '10', 'Accounts', '18-01-2019'], ['Gaston', '10', 'Accounts', '19-01-2019'], ['Gaston', '10', 'Accounts', '20-01-2019'], ['Gaston', '10', 'Accounts', '21-01-2019'], ['Gaston', '10', 'Accounts', '22-01-2019'], ['Gaston', '10', 'Accounts', '23-01-2019'], ['Gaston', '10', 'Accounts', '24-01-2019'], ['Gaston', '10', 'Accounts', '25-01-2019'], ['Gaston', '10', 'Accounts', '26-01-2019'], ['Gaston', '10', 'Accounts', '27-01-2019'], ['Gaston', '10', 'Accounts', '28-01-2019'], ['Gaston', '10', 'Accounts', '29-01-2019'], ['Gaston', '10', 'Accounts', '30-01-2019'], ['Gaston', '10', 'Accounts', '31-01-2019']], 'loc_data': [['9538848876', 'Houston']]})\n",
            "('718737IX', {'dep_rows': [['Ayumi', '10', 'Accounts', '2-01-2019'], ['Ayumi', '10', 'Accounts', '3-01-2019'], ['Ayumi', '10', 'Accounts', '4-01-2019'], ['Ayumi', '10', 'Accounts', '5-01-2019'], ['Ayumi', '10', 'Accounts', '6-01-2019'], ['Ayumi', '10', 'Accounts', '7-01-2019'], ['Ayumi', '10', 'Accounts', '8-01-2019'], ['Ayumi', '10', 'Accounts', '9-01-2019'], ['Ayumi', '10', 'Accounts', '10-01-2019'], ['Ayumi', '10', 'Accounts', '11-01-2019'], ['Ayumi', '10', 'Accounts', '12-01-2019'], ['Ayumi', '10', 'Accounts', '13-01-2019'], ['Ayumi', '10', 'Accounts', '14-01-2019'], ['Ayumi', '10', 'Accounts', '15-01-2019'], ['Ayumi', '10', 'Accounts', '16-01-2019'], ['Ayumi', '10', 'Accounts', '17-01-2019'], ['Ayumi', '10', 'Accounts', '18-01-2019'], ['Ayumi', '10', 'Accounts', '19-01-2019'], ['Ayumi', '10', 'Accounts', '20-01-2019'], ['Ayumi', '10', 'Accounts', '21-01-2019'], ['Ayumi', '10', 'Accounts', '22-01-2019'], ['Ayumi', '10', 'Accounts', '23-01-2019'], ['Ayumi', '10', 'Accounts', '24-01-2019'], ['Ayumi', '10', 'Accounts', '25-01-2019'], ['Ayumi', '10', 'Accounts', '26-01-2019'], ['Ayumi', '10', 'Accounts', '27-01-2019'], ['Ayumi', '10', 'Accounts', '28-01-2019'], ['Ayumi', '10', 'Accounts', '29-01-2019'], ['Ayumi', '10', 'Accounts', '30-01-2019'], ['Ayumi', '10', 'Accounts', '31-01-2019']], 'loc_data': [['9204232788', 'Austin']]})\n",
            "('331593PS', {'dep_rows': [['Beryl', '20', 'HR', '1-01-2019'], ['Beryl', '20', 'HR', '2-01-2019'], ['Beryl', '20', 'HR', '3-01-2019'], ['Beryl', '20', 'HR', '4-01-2019'], ['Beryl', '20', 'HR', '5-01-2019'], ['Beryl', '20', 'HR', '6-01-2019'], ['Beryl', '20', 'HR', '7-01-2019'], ['Beryl', '20', 'HR', '8-01-2019'], ['Beryl', '20', 'HR', '9-01-2019'], ['Beryl', '20', 'HR', '10-01-2019'], ['Beryl', '20', 'HR', '11-01-2019'], ['Beryl', '20', 'HR', '12-01-2019'], ['Beryl', '20', 'HR', '13-01-2019'], ['Beryl', '20', 'HR', '14-01-2019'], ['Beryl', '20', 'HR', '15-01-2019'], ['Beryl', '20', 'HR', '16-01-2019'], ['Beryl', '20', 'HR', '17-01-2019'], ['Beryl', '20', 'HR', '18-01-2019'], ['Beryl', '20', 'HR', '19-01-2019'], ['Beryl', '20', 'HR', '20-01-2019'], ['Beryl', '20', 'HR', '21-01-2019'], ['Beryl', '20', 'HR', '22-01-2019'], ['Beryl', '20', 'HR', '23-01-2019'], ['Beryl', '20', 'HR', '24-01-2019'], ['Beryl', '20', 'HR', '25-01-2019'], ['Beryl', '20', 'HR', '26-01-2019'], ['Beryl', '20', 'HR', '27-01-2019'], ['Beryl', '20', 'HR', '28-01-2019'], ['Beryl', '20', 'HR', '29-01-2019'], ['Beryl', '20', 'HR', '30-01-2019'], ['Beryl', '20', 'HR', '31-01-2019']], 'loc_data': [['9137216186', 'Miami']]})\n",
            "('560447WH', {'dep_rows': [['Olga', '20', 'HR', '1-01-2019'], ['Olga', '20', 'HR', '2-01-2019'], ['Olga', '20', 'HR', '3-01-2019'], ['Olga', '20', 'HR', '4-01-2019'], ['Olga', '20', 'HR', '5-01-2019'], ['Olga', '20', 'HR', '6-01-2019'], ['Olga', '20', 'HR', '7-01-2019'], ['Olga', '20', 'HR', '8-01-2019'], ['Olga', '20', 'HR', '9-01-2019'], ['Olga', '20', 'HR', '10-01-2019'], ['Olga', '20', 'HR', '11-01-2019'], ['Olga', '20', 'HR', '12-01-2019'], ['Olga', '20', 'HR', '13-01-2019'], ['Olga', '20', 'HR', '14-01-2019'], ['Olga', '20', 'HR', '15-01-2019'], ['Olga', '20', 'HR', '16-01-2019'], ['Olga', '20', 'HR', '17-01-2019'], ['Olga', '20', 'HR', '18-01-2019'], ['Olga', '20', 'HR', '19-01-2019'], ['Olga', '20', 'HR', '20-01-2019'], ['Olga', '20', 'HR', '21-01-2019'], ['Olga', '20', 'HR', '22-01-2019'], ['Olga', '20', 'HR', '23-01-2019'], ['Olga', '20', 'HR', '24-01-2019'], ['Olga', '20', 'HR', '25-01-2019'], ['Olga', '20', 'HR', '26-01-2019'], ['Olga', '20', 'HR', '27-01-2019'], ['Olga', '20', 'HR', '28-01-2019'], ['Olga', '20', 'HR', '29-01-2019'], ['Olga', '20', 'HR', '30-01-2019'], ['Olga', '20', 'HR', '31-01-2019']], 'loc_data': [['9708010864', 'Miami']]})\n",
            "('222997TJ', {'dep_rows': [['Leslie', '20', 'HR', '1-01-2019'], ['Leslie', '20', 'HR', '2-01-2019'], ['Leslie', '20', 'HR', '3-01-2019'], ['Leslie', '20', 'HR', '4-01-2019'], ['Leslie', '20', 'HR', '5-01-2019'], ['Leslie', '20', 'HR', '6-01-2019'], ['Leslie', '20', 'HR', '7-01-2019'], ['Leslie', '20', 'HR', '8-01-2019'], ['Leslie', '20', 'HR', '9-01-2019'], ['Leslie', '20', 'HR', '10-01-2019'], ['Leslie', '20', 'HR', '11-01-2019'], ['Leslie', '20', 'HR', '12-01-2019'], ['Leslie', '20', 'HR', '13-01-2019'], ['Leslie', '20', 'HR', '14-01-2019'], ['Leslie', '20', 'HR', '15-01-2019'], ['Leslie', '20', 'HR', '16-01-2019'], ['Leslie', '20', 'HR', '17-01-2019'], ['Leslie', '20', 'HR', '18-01-2019'], ['Leslie', '20', 'HR', '19-01-2019'], ['Leslie', '20', 'HR', '20-01-2019'], ['Leslie', '20', 'HR', '21-01-2019'], ['Leslie', '20', 'HR', '22-01-2019'], ['Leslie', '20', 'HR', '23-01-2019'], ['Leslie', '20', 'HR', '24-01-2019'], ['Leslie', '20', 'HR', '25-01-2019'], ['Leslie', '20', 'HR', '26-01-2019'], ['Leslie', '20', 'HR', '27-01-2019'], ['Leslie', '20', 'HR', '28-01-2019'], ['Leslie', '20', 'HR', '29-01-2019'], ['Leslie', '20', 'HR', '30-01-2019'], ['Leslie', '20', 'HR', '31-01-2019']], 'loc_data': [['9410006713', 'Washington']]})\n",
            "('171752SY', {'dep_rows': [['Mindy', '20', 'HR', '1-01-2019'], ['Mindy', '20', 'HR', '2-01-2019'], ['Mindy', '20', 'HR', '3-01-2019'], ['Mindy', '20', 'HR', '4-01-2019'], ['Mindy', '20', 'HR', '5-01-2019'], ['Mindy', '20', 'HR', '6-01-2019'], ['Mindy', '20', 'HR', '7-01-2019'], ['Mindy', '20', 'HR', '8-01-2019'], ['Mindy', '20', 'HR', '9-01-2019'], ['Mindy', '20', 'HR', '10-01-2019'], ['Mindy', '20', 'HR', '11-01-2019'], ['Mindy', '20', 'HR', '12-01-2019'], ['Mindy', '20', 'HR', '13-01-2019'], ['Mindy', '20', 'HR', '14-01-2019'], ['Mindy', '20', 'HR', '15-01-2019'], ['Mindy', '20', 'HR', '16-01-2019'], ['Mindy', '20', 'HR', '17-01-2019'], ['Mindy', '20', 'HR', '18-01-2019'], ['Mindy', '20', 'HR', '19-01-2019'], ['Mindy', '20', 'HR', '20-01-2019'], ['Mindy', '20', 'HR', '21-01-2019'], ['Mindy', '20', 'HR', '22-01-2019'], ['Mindy', '20', 'HR', '23-01-2019'], ['Mindy', '20', 'HR', '24-01-2019'], ['Mindy', '20', 'HR', '25-01-2019'], ['Mindy', '20', 'HR', '26-01-2019'], ['Mindy', '20', 'HR', '27-01-2019'], ['Mindy', '20', 'HR', '28-01-2019'], ['Mindy', '20', 'HR', '29-01-2019'], ['Mindy', '20', 'HR', '30-01-2019'], ['Mindy', '20', 'HR', '31-01-2019']], 'loc_data': [['9494683837', 'Boston']]})\n",
            "('153636AS', {'dep_rows': [['Vicky', '20', 'HR', '1-01-2019'], ['Vicky', '20', 'HR', '2-01-2019'], ['Vicky', '20', 'HR', '3-01-2019'], ['Vicky', '20', 'HR', '4-01-2019'], ['Vicky', '20', 'HR', '5-01-2019'], ['Vicky', '20', 'HR', '6-01-2019'], ['Vicky', '20', 'HR', '7-01-2019'], ['Vicky', '20', 'HR', '8-01-2019'], ['Vicky', '20', 'HR', '9-01-2019'], ['Vicky', '20', 'HR', '10-01-2019'], ['Vicky', '20', 'HR', '11-01-2019'], ['Vicky', '20', 'HR', '12-01-2019'], ['Vicky', '20', 'HR', '13-01-2019'], ['Vicky', '20', 'HR', '14-01-2019'], ['Vicky', '20', 'HR', '15-01-2019'], ['Vicky', '20', 'HR', '16-01-2019'], ['Vicky', '20', 'HR', '17-01-2019'], ['Vicky', '20', 'HR', '18-01-2019'], ['Vicky', '20', 'HR', '19-01-2019'], ['Vicky', '20', 'HR', '20-01-2019'], ['Vicky', '20', 'HR', '21-01-2019'], ['Vicky', '20', 'HR', '22-01-2019'], ['Vicky', '20', 'HR', '23-01-2019'], ['Vicky', '20', 'HR', '24-01-2019'], ['Vicky', '20', 'HR', '25-01-2019'], ['Vicky', '20', 'HR', '26-01-2019'], ['Vicky', '20', 'HR', '27-01-2019'], ['Vicky', '20', 'HR', '28-01-2019'], ['Vicky', '20', 'HR', '29-01-2019'], ['Vicky', '20', 'HR', '30-01-2019'], ['Vicky', '20', 'HR', '31-01-2019']], 'loc_data': [['9575378417', 'New York']]})\n",
            "('745411HT', {'dep_rows': [['Richard', '20', 'HR', '1-01-2019'], ['Richard', '20', 'HR', '2-01-2019'], ['Richard', '20', 'HR', '3-01-2019'], ['Richard', '20', 'HR', '4-01-2019'], ['Richard', '20', 'HR', '5-01-2019'], ['Richard', '20', 'HR', '6-01-2019'], ['Richard', '20', 'HR', '7-01-2019'], ['Richard', '20', 'HR', '8-01-2019'], ['Richard', '20', 'HR', '9-01-2019'], ['Richard', '20', 'HR', '10-01-2019'], ['Richard', '20', 'HR', '11-01-2019'], ['Richard', '20', 'HR', '12-01-2019'], ['Richard', '20', 'HR', '13-01-2019'], ['Richard', '20', 'HR', '14-01-2019'], ['Richard', '20', 'HR', '15-01-2019'], ['Richard', '20', 'HR', '16-01-2019'], ['Richard', '20', 'HR', '17-01-2019'], ['Richard', '20', 'HR', '18-01-2019'], ['Richard', '20', 'HR', '19-01-2019'], ['Richard', '20', 'HR', '20-01-2019'], ['Richard', '20', 'HR', '21-01-2019'], ['Richard', '20', 'HR', '22-01-2019'], ['Richard', '20', 'HR', '23-01-2019'], ['Richard', '20', 'HR', '24-01-2019'], ['Richard', '20', 'HR', '25-01-2019'], ['Richard', '20', 'HR', '26-01-2019'], ['Richard', '20', 'HR', '27-01-2019'], ['Richard', '20', 'HR', '28-01-2019'], ['Richard', '20', 'HR', '29-01-2019'], ['Richard', '20', 'HR', '30-01-2019'], ['Richard', '20', 'HR', '31-01-2019']], 'loc_data': [['9391632080', 'New York']]})\n",
            "('298464HN', {'dep_rows': [['Kirk', '20', 'HR', '1-01-2019'], ['Kirk', '20', 'HR', '2-01-2019'], ['Kirk', '20', 'HR', '3-01-2019'], ['Kirk', '20', 'HR', '4-01-2019'], ['Kirk', '20', 'HR', '5-01-2019'], ['Kirk', '20', 'HR', '6-01-2019'], ['Kirk', '20', 'HR', '7-01-2019'], ['Kirk', '20', 'HR', '8-01-2019'], ['Kirk', '20', 'HR', '9-01-2019'], ['Kirk', '20', 'HR', '10-01-2019'], ['Kirk', '20', 'HR', '11-01-2019'], ['Kirk', '20', 'HR', '12-01-2019'], ['Kirk', '20', 'HR', '13-01-2019'], ['Kirk', '20', 'HR', '14-01-2019'], ['Kirk', '20', 'HR', '15-01-2019'], ['Kirk', '20', 'HR', '16-01-2019'], ['Kirk', '20', 'HR', '17-01-2019'], ['Kirk', '20', 'HR', '18-01-2019'], ['Kirk', '20', 'HR', '19-01-2019'], ['Kirk', '20', 'HR', '20-01-2019'], ['Kirk', '20', 'HR', '21-01-2019'], ['Kirk', '20', 'HR', '22-01-2019'], ['Kirk', '20', 'HR', '23-01-2019'], ['Kirk', '20', 'HR', '24-01-2019'], ['Kirk', '20', 'HR', '25-01-2019'], ['Kirk', '20', 'HR', '26-01-2019'], ['Kirk', '20', 'HR', '27-01-2019'], ['Kirk', '20', 'HR', '28-01-2019'], ['Kirk', '20', 'HR', '29-01-2019'], ['Kirk', '20', 'HR', '30-01-2019'], ['Kirk', '20', 'HR', '31-01-2019']], 'loc_data': [['9982641601', 'Miami']]})\n",
            "('783950BW', {'dep_rows': [['Kaori', '20', 'HR', '1-01-2019'], ['Kaori', '20', 'HR', '2-01-2019'], ['Kaori', '20', 'HR', '3-01-2019'], ['Kaori', '20', 'HR', '4-01-2019'], ['Kaori', '20', 'HR', '5-01-2019'], ['Kaori', '20', 'HR', '6-01-2019'], ['Kaori', '20', 'HR', '7-01-2019'], ['Kaori', '20', 'HR', '8-01-2019'], ['Kaori', '20', 'HR', '9-01-2019'], ['Kaori', '20', 'HR', '10-01-2019'], ['Kaori', '20', 'HR', '11-01-2019'], ['Kaori', '20', 'HR', '12-01-2019'], ['Kaori', '20', 'HR', '13-01-2019'], ['Kaori', '20', 'HR', '14-01-2019'], ['Kaori', '20', 'HR', '15-01-2019'], ['Kaori', '20', 'HR', '16-01-2019'], ['Kaori', '20', 'HR', '17-01-2019'], ['Kaori', '20', 'HR', '18-01-2019'], ['Kaori', '20', 'HR', '19-01-2019'], ['Kaori', '20', 'HR', '20-01-2019'], ['Kaori', '20', 'HR', '21-01-2019'], ['Kaori', '20', 'HR', '22-01-2019'], ['Kaori', '20', 'HR', '23-01-2019'], ['Kaori', '20', 'HR', '24-01-2019'], ['Kaori', '20', 'HR', '25-01-2019'], ['Kaori', '20', 'HR', '26-01-2019'], ['Kaori', '20', 'HR', '27-01-2019'], ['Kaori', '20', 'HR', '28-01-2019'], ['Kaori', '20', 'HR', '29-01-2019'], ['Kaori', '20', 'HR', '30-01-2019'], ['Kaori', '20', 'HR', '31-01-2019']], 'loc_data': [['9248480224', 'Boston']]})\n",
            "('892691AR', {'dep_rows': [['Beryl', '20', 'HR', '1-01-2019'], ['Beryl', '20', 'HR', '2-01-2019'], ['Beryl', '20', 'HR', '3-01-2019'], ['Beryl', '20', 'HR', '4-01-2019'], ['Beryl', '20', 'HR', '5-01-2019'], ['Beryl', '20', 'HR', '6-01-2019'], ['Beryl', '20', 'HR', '7-01-2019'], ['Beryl', '20', 'HR', '8-01-2019'], ['Beryl', '20', 'HR', '9-01-2019'], ['Beryl', '20', 'HR', '10-01-2019'], ['Beryl', '20', 'HR', '11-01-2019'], ['Beryl', '20', 'HR', '12-01-2019'], ['Beryl', '20', 'HR', '13-01-2019'], ['Beryl', '20', 'HR', '14-01-2019'], ['Beryl', '20', 'HR', '15-01-2019'], ['Beryl', '20', 'HR', '16-01-2019'], ['Beryl', '20', 'HR', '17-01-2019'], ['Beryl', '20', 'HR', '18-01-2019'], ['Beryl', '20', 'HR', '19-01-2019'], ['Beryl', '20', 'HR', '20-01-2019'], ['Beryl', '20', 'HR', '21-01-2019'], ['Beryl', '20', 'HR', '22-01-2019'], ['Beryl', '20', 'HR', '23-01-2019'], ['Beryl', '20', 'HR', '24-01-2019'], ['Beryl', '20', 'HR', '25-01-2019'], ['Beryl', '20', 'HR', '26-01-2019'], ['Beryl', '20', 'HR', '27-01-2019'], ['Beryl', '20', 'HR', '28-01-2019'], ['Beryl', '20', 'HR', '29-01-2019'], ['Beryl', '20', 'HR', '30-01-2019'], ['Beryl', '20', 'HR', '31-01-2019']], 'loc_data': [['9723803710', 'New York']]})\n",
            "('245668UZ', {'dep_rows': [['Oscar', '20', 'HR', '1-01-2019'], ['Oscar', '20', 'HR', '2-01-2019'], ['Oscar', '20', 'HR', '3-01-2019'], ['Oscar', '20', 'HR', '4-01-2019'], ['Oscar', '20', 'HR', '5-01-2019'], ['Oscar', '20', 'HR', '6-01-2019'], ['Oscar', '20', 'HR', '7-01-2019'], ['Oscar', '20', 'HR', '8-01-2019'], ['Oscar', '20', 'HR', '9-01-2019'], ['Oscar', '20', 'HR', '10-01-2019'], ['Oscar', '20', 'HR', '11-01-2019'], ['Oscar', '20', 'HR', '12-01-2019'], ['Oscar', '20', 'HR', '13-01-2019'], ['Oscar', '20', 'HR', '14-01-2019'], ['Oscar', '20', 'HR', '15-01-2019'], ['Oscar', '20', 'HR', '16-01-2019'], ['Oscar', '20', 'HR', '17-01-2019'], ['Oscar', '20', 'HR', '18-01-2019'], ['Oscar', '20', 'HR', '19-01-2019'], ['Oscar', '20', 'HR', '20-01-2019'], ['Oscar', '20', 'HR', '21-01-2019'], ['Oscar', '20', 'HR', '22-01-2019'], ['Oscar', '20', 'HR', '23-01-2019'], ['Oscar', '20', 'HR', '24-01-2019'], ['Oscar', '20', 'HR', '25-01-2019'], ['Oscar', '20', 'HR', '26-01-2019'], ['Oscar', '20', 'HR', '27-01-2019'], ['Oscar', '20', 'HR', '28-01-2019'], ['Oscar', '20', 'HR', '29-01-2019'], ['Oscar', '20', 'HR', '30-01-2019'], ['Oscar', '20', 'HR', '31-01-2019']], 'loc_data': [['9395037841', 'New York']]})\n",
            "('231206QD', {'dep_rows': [['Kumiko', '30', 'Finance', '1-01-2019'], ['Kumiko', '30', 'Finance', '2-01-2019'], ['Kumiko', '30', 'Finance', '3-01-2019'], ['Kumiko', '30', 'Finance', '4-01-2019'], ['Kumiko', '30', 'Finance', '5-01-2019'], ['Kumiko', '30', 'Finance', '6-01-2019'], ['Kumiko', '30', 'Finance', '7-01-2019'], ['Kumiko', '30', 'Finance', '8-01-2019'], ['Kumiko', '30', 'Finance', '9-01-2019'], ['Kumiko', '30', 'Finance', '10-01-2019'], ['Kumiko', '30', 'Finance', '11-01-2019'], ['Kumiko', '30', 'Finance', '12-01-2019'], ['Kumiko', '30', 'Finance', '13-01-2019'], ['Kumiko', '30', 'Finance', '14-01-2019'], ['Kumiko', '30', 'Finance', '15-01-2019'], ['Kumiko', '30', 'Finance', '16-01-2019'], ['Kumiko', '30', 'Finance', '17-01-2019'], ['Kumiko', '30', 'Finance', '18-01-2019'], ['Kumiko', '30', 'Finance', '19-01-2019'], ['Kumiko', '30', 'Finance', '20-01-2019'], ['Kumiko', '30', 'Finance', '21-01-2019'], ['Kumiko', '30', 'Finance', '22-01-2019'], ['Kumiko', '30', 'Finance', '23-01-2019'], ['Kumiko', '30', 'Finance', '24-01-2019'], ['Kumiko', '30', 'Finance', '25-01-2019'], ['Kumiko', '30', 'Finance', '26-01-2019'], ['Kumiko', '30', 'Finance', '27-01-2019'], ['Kumiko', '30', 'Finance', '28-01-2019'], ['Kumiko', '30', 'Finance', '29-01-2019'], ['Kumiko', '30', 'Finance', '30-01-2019'], ['Kumiko', '30', 'Finance', '31-01-2019']], 'loc_data': [['9608996582', 'Chicago']]})\n"
          ]
        }
      ]
    },
    {
      "cell_type": "code",
      "metadata": {
        "colab": {
          "base_uri": "https://localhost:8080/"
        },
        "id": "oDIuLjS-8MPh",
        "outputId": "68359f4a-7c94-40a7-8892-0645ed11ad35"
      },
      "source": [
        "import apache_beam as beam\n",
        "\n",
        "side_list=list()\n",
        "with open('data/exclude_ids.txt','r') as my_file:\n",
        "  for line in my_file:\n",
        "    side_list.append(line.rstrip())\n",
        "\n",
        "class FilterPerRequirements(beam.DoFn):\n",
        "  def process(self,element,side_list,lower_bound,upper_bound):\n",
        "    id = element.split(',')[0]\n",
        "    name = element.split(',')[1]\n",
        "    if id not in side_list and (lower_bound <= len(name)  <= upper_bound):\n",
        "      return [element.split(',')]\n",
        "\n",
        "\n",
        "with beam.Pipeline() as p19:\n",
        "\n",
        "  attendance_count = (p19\n",
        "                      |beam.io.ReadFromText('data/dept_data.txt')\n",
        "                      |beam.ParDo(FilterPerRequirements(),side_list,3,10)\n",
        "                      |beam.io.WriteToText('data/dept_output16.txt'))\n",
        "  \n",
        "!head -n 20 data/dept_output16.txt-00000-of-00001"
      ],
      "execution_count": null,
      "outputs": [
        {
          "output_type": "stream",
          "name": "stderr",
          "text": [
            "WARNING:root:Make sure that locally built Python SDK docker image has Python 3.7 interpreter.\n",
            "WARNING:apache_beam.io.filebasedsink:Deleting 1 existing files in target path matching: -*-of-%(num_shards)05d\n"
          ]
        },
        {
          "output_type": "stream",
          "name": "stdout",
          "text": [
            "['503996WI', 'Edouard', '10', 'Accounts', '1-01-2019']\n",
            "['957149WC', 'Kyle', '10', 'Accounts', '1-01-2019']\n",
            "['241316NX', 'Kumiko', '10', 'Accounts', '1-01-2019']\n",
            "['796656IE', 'Gaston', '10', 'Accounts', '1-01-2019']\n",
            "['331593PS', 'Beryl', '20', 'HR', '1-01-2019']\n",
            "['560447WH', 'Olga', '20', 'HR', '1-01-2019']\n",
            "['222997TJ', 'Leslie', '20', 'HR', '1-01-2019']\n",
            "['171752SY', 'Mindy', '20', 'HR', '1-01-2019']\n",
            "['153636AS', 'Vicky', '20', 'HR', '1-01-2019']\n",
            "['745411HT', 'Richard', '20', 'HR', '1-01-2019']\n",
            "['298464HN', 'Kirk', '20', 'HR', '1-01-2019']\n",
            "['783950BW', 'Kaori', '20', 'HR', '1-01-2019']\n",
            "['892691AR', 'Beryl', '20', 'HR', '1-01-2019']\n",
            "['245668UZ', 'Oscar', '20', 'HR', '1-01-2019']\n",
            "['231206QD', 'Kumiko', '30', 'Finance', '1-01-2019']\n",
            "['357919KT', 'Wendy', '30', 'Finance', '1-01-2019']\n",
            "['472418ZG', 'Cristobal', '30', 'Finance', '1-01-2019']\n",
            "['442292OI', 'Erika', '30', 'Finance', '1-01-2019']\n",
            "['503647MN', 'Sebastien', '30', 'Finance', '1-01-2019']\n",
            "['245319LD', 'Valerie', '30', 'Finance', '1-01-2019']\n"
          ]
        }
      ]
    },
    {
      "cell_type": "code",
      "metadata": {
        "colab": {
          "base_uri": "https://localhost:8080/"
        },
        "id": "MHEfWjJF_MEC",
        "outputId": "bf13e23d-d1d4-4336-f4f6-8b22e470478e"
      },
      "source": [
        "import apache_beam as beam\n",
        "\n",
        "class ProcessData(beam.DoFn):\n",
        "\n",
        "  def process(self, element, cuttoff_len, marker):\n",
        "    name = element.split(',')[1]\n",
        "    if name.startswith(marker):\n",
        "      return [name]\n",
        "    if len(name) <= cuttoff_len:\n",
        "      return [beam.pvalue.TaggedOutput('Short_Names', name)]\n",
        "    else:\n",
        "      return [beam.pvalue.TaggedOutput('Long_Names', name)]\n",
        "\n",
        "\n",
        "with beam.Pipeline() as p20:\n",
        "\n",
        "    results = (p20\n",
        "              |beam.io.ReadFromText('data/dept_data.txt')\n",
        "              |beam.ParDo(ProcessData(),cuttoff_len = 4, marker = 'M').with_outputs('Short_Names', 'Long_Names', main='StartsWithM')\n",
        "    )\n",
        "    short_collection = results.Short_Names\n",
        "    long_Collection = results.Long_Names\n",
        "    NameswithA_Collection = results.StartsWithM\n",
        "\n",
        "    short_collection | 'write 1' >> beam.io.WriteToText('data/dept_output17.txt')\n",
        "    long_Collection | 'write 2' >> beam.io.WriteToText('data/dept_output18.txt')\n",
        "    NameswithA_Collection | 'write 3' >> beam.io.WriteToText('data/dept_output19.txt')\n",
        "    \n",
        " #   merge_output = ((short_collection,long_Collection,NameswithA_Collection)\n",
        " #                   |beam.Flatten()\n",
        " #                   |beam.io.WriteToText('data/dept_output17.txt'))\n",
        "    \n",
        "!head -n 5 data/dept_output17.txt-00000-of-00001\n",
        "!head -n 5 data/dept_output18.txt-00000-of-00001\n",
        "!head -n 5 data/dept_output19.txt-00000-of-00001"
      ],
      "execution_count": null,
      "outputs": [
        {
          "output_type": "stream",
          "name": "stderr",
          "text": [
            "WARNING:root:Make sure that locally built Python SDK docker image has Python 3.7 interpreter.\n",
            "WARNING:apache_beam.io.filebasedsink:Deleting 1 existing files in target path matching: -*-of-%(num_shards)05d\n",
            "WARNING:apache_beam.io.filebasedsink:Deleting 1 existing files in target path matching: -*-of-%(num_shards)05d\n",
            "WARNING:apache_beam.io.filebasedsink:Deleting 1 existing files in target path matching: -*-of-%(num_shards)05d\n"
          ]
        },
        {
          "output_type": "stream",
          "name": "stdout",
          "text": [
            "Itoe\n",
            "Kyle\n",
            "Kyle\n",
            "Olga\n",
            "Kirk\n",
            "Rebekah\n",
            "Edouard\n",
            "Kumiko\n",
            "Gaston\n",
            "Beryl\n",
            "Marco\n",
            "Mindy\n",
            "Marco\n",
            "Mindy\n",
            "Marco\n"
          ]
        }
      ]
    },
    {
      "cell_type": "code",
      "metadata": {
        "id": "CPcMWswFI1bd"
      },
      "source": [
        "from apache_beam import coders\n",
        "coders.registry.get_coder(int)\n",
        "coders.registry.register_coder(int,coders.VarIntCoder)\n",
        "#coders.registry.get_coder(int)"
      ],
      "execution_count": null,
      "outputs": []
    },
    {
      "cell_type": "code",
      "metadata": {
        "colab": {
          "base_uri": "https://localhost:8080/"
        },
        "id": "34eIiFfCWhQS",
        "outputId": "40176bee-e436-4834-afdd-bc911c5120b4"
      },
      "source": [
        "from apache_beam import coders\n",
        "coders.registry.get_coder(int)"
      ],
      "execution_count": null,
      "outputs": [
        {
          "output_type": "execute_result",
          "data": {
            "text/plain": [
              "VarIntCoder"
            ]
          },
          "metadata": {},
          "execution_count": 13
        }
      ]
    },
    {
      "cell_type": "code",
      "metadata": {
        "id": "YqdTjCCgpuQh"
      },
      "source": [
        "!echo 'mahesh,1,20000' >> ./data/employee.txt"
      ],
      "execution_count": null,
      "outputs": []
    },
    {
      "cell_type": "code",
      "metadata": {
        "colab": {
          "base_uri": "https://localhost:8080/"
        },
        "id": "drF1c-5grQc5",
        "outputId": "bde6a2ae-8168-4e9d-f223-3d5a46fc30ce"
      },
      "source": [
        "!cat data/employee.txt"
      ],
      "execution_count": null,
      "outputs": [
        {
          "output_type": "stream",
          "name": "stdout",
          "text": [
            "mahesh,1,10000\n",
            "ramesh,2,20000\n",
            "mahesh,1,20000\n"
          ]
        }
      ]
    },
    {
      "cell_type": "code",
      "metadata": {
        "colab": {
          "base_uri": "https://localhost:8080/"
        },
        "id": "yhOXN4XUbONa",
        "outputId": "4a2386ea-90c3-47f4-f87c-6b68048f8e0f"
      },
      "source": [
        "import apache_beam as beam\n",
        "import typing\n",
        "\n",
        "class Employee(object):\n",
        "  def __init__(self,id,name):\n",
        "    self.id = id\n",
        "    self.name = name\n",
        "\n",
        "class EmployeeCoder(beam.coders.Coder):\n",
        "\n",
        "  def encode(self, employee):\n",
        "    return ('%s:%s' %(employee.id, employee.name)).encode('utf-8')\n",
        "\n",
        "  def decode(self, s):\n",
        "    return Employee(*s.decode('utf-8').split(':'))\n",
        "\n",
        "  def is_deterministic(self):\n",
        "    return True\n",
        "\n",
        "beam.coders.registry.register_coder(Employee, EmployeeCoder)\n",
        "\n",
        "def split_file(input):\n",
        "  name,id,salary = input.split(',')\n",
        "  return (Employee(id, name), int(salary))\n",
        "\n",
        "with beam.Pipeline() as p21:\n",
        "\n",
        "  result = (\n",
        "      p21\n",
        "      |beam.io.ReadFromText('data/employee.txt')\n",
        "      |beam.Map(split_file)\n",
        "      |beam.CombinePerKey(sum).with_input_types(typing.Tuple[Employee, int])\n",
        "      |beam.io.WriteToText('data/output18.txt')\n",
        "  )\n",
        "\n",
        "\n",
        "\n",
        "!cat data/output18.txt-00000-of-00001"
      ],
      "execution_count": null,
      "outputs": [
        {
          "output_type": "stream",
          "name": "stderr",
          "text": [
            "WARNING:root:Make sure that locally built Python SDK docker image has Python 3.7 interpreter.\n",
            "WARNING:apache_beam.io.filebasedsink:Deleting 1 existing files in target path matching: -*-of-%(num_shards)05d\n"
          ]
        },
        {
          "output_type": "stream",
          "name": "stdout",
          "text": [
            "(<__main__.Employee object at 0x7fbd41a0a9d0>, 30000)\n",
            "(<__main__.Employee object at 0x7fbd41a0a610>, 20000)\n"
          ]
        }
      ]
    },
    {
      "cell_type": "code",
      "source": [
        ""
      ],
      "metadata": {
        "id": "a43mNfI8l9Oo"
      },
      "execution_count": null,
      "outputs": []
    },
    {
      "cell_type": "code",
      "metadata": {
        "id": "j4gvbvj3uw3s",
        "colab": {
          "base_uri": "https://localhost:8080/"
        },
        "outputId": "0cb6f0e2-c4eb-45a5-af5e-91b18e300462"
      },
      "source": [
        "pip install apache-beam"
      ],
      "execution_count": null,
      "outputs": [
        {
          "output_type": "stream",
          "name": "stdout",
          "text": [
            "Requirement already satisfied: apache-beam in /usr/local/lib/python3.7/dist-packages (2.35.0)\n",
            "Requirement already satisfied: fastavro<2,>=0.21.4 in /usr/local/lib/python3.7/dist-packages (from apache-beam) (1.4.8)\n",
            "Requirement already satisfied: pytz>=2018.3 in /usr/local/lib/python3.7/dist-packages (from apache-beam) (2018.9)\n",
            "Requirement already satisfied: requests<3.0.0,>=2.24.0 in /usr/local/lib/python3.7/dist-packages (from apache-beam) (2.27.1)\n",
            "Requirement already satisfied: protobuf<4,>=3.12.2 in /usr/local/lib/python3.7/dist-packages (from apache-beam) (3.19.1)\n",
            "Requirement already satisfied: pyarrow<7.0.0,>=0.15.1 in /usr/local/lib/python3.7/dist-packages (from apache-beam) (3.0.0)\n",
            "Requirement already satisfied: typing-extensions<4,>=3.7.0 in /usr/local/lib/python3.7/dist-packages (from apache-beam) (3.10.0.2)\n",
            "Requirement already satisfied: python-dateutil<3,>=2.8.0 in /usr/local/lib/python3.7/dist-packages (from apache-beam) (2.8.2)\n",
            "Requirement already satisfied: pymongo<4.0.0,>=3.8.0 in /usr/local/lib/python3.7/dist-packages (from apache-beam) (3.12.1)\n",
            "Requirement already satisfied: hdfs<3.0.0,>=2.1.0 in /usr/local/lib/python3.7/dist-packages (from apache-beam) (2.6.0)\n",
            "Requirement already satisfied: httplib2<0.20.0,>=0.8 in /usr/local/lib/python3.7/dist-packages (from apache-beam) (0.17.4)\n",
            "Requirement already satisfied: oauth2client<5,>=2.0.1 in /usr/local/lib/python3.7/dist-packages (from apache-beam) (4.1.3)\n",
            "Requirement already satisfied: pydot<2,>=1.2.0 in /usr/local/lib/python3.7/dist-packages (from apache-beam) (1.3.0)\n",
            "Requirement already satisfied: orjson<4.0 in /usr/local/lib/python3.7/dist-packages (from apache-beam) (3.6.5)\n",
            "Requirement already satisfied: grpcio<2,>=1.29.0 in /usr/local/lib/python3.7/dist-packages (from apache-beam) (1.42.0)\n",
            "Requirement already satisfied: numpy<1.21.0,>=1.14.3 in /usr/local/lib/python3.7/dist-packages (from apache-beam) (1.19.5)\n",
            "Requirement already satisfied: crcmod<2.0,>=1.7 in /usr/local/lib/python3.7/dist-packages (from apache-beam) (1.7)\n",
            "Requirement already satisfied: proto-plus<2,>=1.7.1 in /usr/local/lib/python3.7/dist-packages (from apache-beam) (1.19.8)\n",
            "Requirement already satisfied: dill<0.3.2,>=0.3.1.1 in /usr/local/lib/python3.7/dist-packages (from apache-beam) (0.3.1.1)\n",
            "Requirement already satisfied: six>=1.5.2 in /usr/local/lib/python3.7/dist-packages (from grpcio<2,>=1.29.0->apache-beam) (1.15.0)\n",
            "Requirement already satisfied: docopt in /usr/local/lib/python3.7/dist-packages (from hdfs<3.0.0,>=2.1.0->apache-beam) (0.6.2)\n",
            "Requirement already satisfied: rsa>=3.1.4 in /usr/local/lib/python3.7/dist-packages (from oauth2client<5,>=2.0.1->apache-beam) (4.8)\n",
            "Requirement already satisfied: pyasn1-modules>=0.0.5 in /usr/local/lib/python3.7/dist-packages (from oauth2client<5,>=2.0.1->apache-beam) (0.2.8)\n",
            "Requirement already satisfied: pyasn1>=0.1.7 in /usr/local/lib/python3.7/dist-packages (from oauth2client<5,>=2.0.1->apache-beam) (0.4.8)\n",
            "Requirement already satisfied: pyparsing>=2.1.4 in /usr/local/lib/python3.7/dist-packages (from pydot<2,>=1.2.0->apache-beam) (3.0.6)\n",
            "Requirement already satisfied: certifi>=2017.4.17 in /usr/local/lib/python3.7/dist-packages (from requests<3.0.0,>=2.24.0->apache-beam) (2021.10.8)\n",
            "Requirement already satisfied: urllib3<1.27,>=1.21.1 in /usr/local/lib/python3.7/dist-packages (from requests<3.0.0,>=2.24.0->apache-beam) (1.24.3)\n",
            "Requirement already satisfied: charset-normalizer~=2.0.0 in /usr/local/lib/python3.7/dist-packages (from requests<3.0.0,>=2.24.0->apache-beam) (2.0.9)\n",
            "Requirement already satisfied: idna<4,>=2.5 in /usr/local/lib/python3.7/dist-packages (from requests<3.0.0,>=2.24.0->apache-beam) (2.10)\n"
          ]
        }
      ]
    },
    {
      "cell_type": "code",
      "source": [
        "pip install apache_beam[dataframe]"
      ],
      "metadata": {
        "colab": {
          "base_uri": "https://localhost:8080/"
        },
        "id": "F2f2bASjdPgi",
        "outputId": "dfca3bc4-0f43-4759-e5be-e25fffe95aed"
      },
      "execution_count": null,
      "outputs": [
        {
          "output_type": "stream",
          "name": "stdout",
          "text": [
            "Requirement already satisfied: apache_beam[dataframe] in /usr/local/lib/python3.7/dist-packages (2.35.0)\n",
            "Requirement already satisfied: httplib2<0.20.0,>=0.8 in /usr/local/lib/python3.7/dist-packages (from apache_beam[dataframe]) (0.17.4)\n",
            "Requirement already satisfied: pyarrow<7.0.0,>=0.15.1 in /usr/local/lib/python3.7/dist-packages (from apache_beam[dataframe]) (3.0.0)\n",
            "Requirement already satisfied: requests<3.0.0,>=2.24.0 in /usr/local/lib/python3.7/dist-packages (from apache_beam[dataframe]) (2.27.1)\n",
            "Requirement already satisfied: orjson<4.0 in /usr/local/lib/python3.7/dist-packages (from apache_beam[dataframe]) (3.6.5)\n",
            "Requirement already satisfied: grpcio<2,>=1.29.0 in /usr/local/lib/python3.7/dist-packages (from apache_beam[dataframe]) (1.42.0)\n",
            "Requirement already satisfied: python-dateutil<3,>=2.8.0 in /usr/local/lib/python3.7/dist-packages (from apache_beam[dataframe]) (2.8.2)\n",
            "Requirement already satisfied: dill<0.3.2,>=0.3.1.1 in /usr/local/lib/python3.7/dist-packages (from apache_beam[dataframe]) (0.3.1.1)\n",
            "Requirement already satisfied: hdfs<3.0.0,>=2.1.0 in /usr/local/lib/python3.7/dist-packages (from apache_beam[dataframe]) (2.6.0)\n",
            "Requirement already satisfied: typing-extensions<4,>=3.7.0 in /usr/local/lib/python3.7/dist-packages (from apache_beam[dataframe]) (3.10.0.2)\n",
            "Requirement already satisfied: pytz>=2018.3 in /usr/local/lib/python3.7/dist-packages (from apache_beam[dataframe]) (2018.9)\n",
            "Requirement already satisfied: pymongo<4.0.0,>=3.8.0 in /usr/local/lib/python3.7/dist-packages (from apache_beam[dataframe]) (3.12.1)\n",
            "Requirement already satisfied: pydot<2,>=1.2.0 in /usr/local/lib/python3.7/dist-packages (from apache_beam[dataframe]) (1.3.0)\n",
            "Requirement already satisfied: fastavro<2,>=0.21.4 in /usr/local/lib/python3.7/dist-packages (from apache_beam[dataframe]) (1.4.8)\n",
            "Requirement already satisfied: oauth2client<5,>=2.0.1 in /usr/local/lib/python3.7/dist-packages (from apache_beam[dataframe]) (4.1.3)\n",
            "Requirement already satisfied: protobuf<4,>=3.12.2 in /usr/local/lib/python3.7/dist-packages (from apache_beam[dataframe]) (3.19.1)\n",
            "Requirement already satisfied: proto-plus<2,>=1.7.1 in /usr/local/lib/python3.7/dist-packages (from apache_beam[dataframe]) (1.19.8)\n",
            "Requirement already satisfied: crcmod<2.0,>=1.7 in /usr/local/lib/python3.7/dist-packages (from apache_beam[dataframe]) (1.7)\n",
            "Requirement already satisfied: numpy<1.21.0,>=1.14.3 in /usr/local/lib/python3.7/dist-packages (from apache_beam[dataframe]) (1.19.5)\n",
            "Requirement already satisfied: pandas<1.4,>=1.0 in /usr/local/lib/python3.7/dist-packages (from apache_beam[dataframe]) (1.1.5)\n",
            "Requirement already satisfied: six>=1.5.2 in /usr/local/lib/python3.7/dist-packages (from grpcio<2,>=1.29.0->apache_beam[dataframe]) (1.15.0)\n",
            "Requirement already satisfied: docopt in /usr/local/lib/python3.7/dist-packages (from hdfs<3.0.0,>=2.1.0->apache_beam[dataframe]) (0.6.2)\n",
            "Requirement already satisfied: pyasn1-modules>=0.0.5 in /usr/local/lib/python3.7/dist-packages (from oauth2client<5,>=2.0.1->apache_beam[dataframe]) (0.2.8)\n",
            "Requirement already satisfied: pyasn1>=0.1.7 in /usr/local/lib/python3.7/dist-packages (from oauth2client<5,>=2.0.1->apache_beam[dataframe]) (0.4.8)\n",
            "Requirement already satisfied: rsa>=3.1.4 in /usr/local/lib/python3.7/dist-packages (from oauth2client<5,>=2.0.1->apache_beam[dataframe]) (4.8)\n",
            "Requirement already satisfied: pyparsing>=2.1.4 in /usr/local/lib/python3.7/dist-packages (from pydot<2,>=1.2.0->apache_beam[dataframe]) (3.0.6)\n",
            "Requirement already satisfied: certifi>=2017.4.17 in /usr/local/lib/python3.7/dist-packages (from requests<3.0.0,>=2.24.0->apache_beam[dataframe]) (2021.10.8)\n",
            "Requirement already satisfied: idna<4,>=2.5 in /usr/local/lib/python3.7/dist-packages (from requests<3.0.0,>=2.24.0->apache_beam[dataframe]) (2.10)\n",
            "Requirement already satisfied: urllib3<1.27,>=1.21.1 in /usr/local/lib/python3.7/dist-packages (from requests<3.0.0,>=2.24.0->apache_beam[dataframe]) (1.24.3)\n",
            "Requirement already satisfied: charset-normalizer~=2.0.0 in /usr/local/lib/python3.7/dist-packages (from requests<3.0.0,>=2.24.0->apache_beam[dataframe]) (2.0.9)\n"
          ]
        }
      ]
    },
    {
      "cell_type": "code",
      "metadata": {
        "id": "6v8vwlkbrLq6",
        "colab": {
          "base_uri": "https://localhost:8080/"
        },
        "outputId": "88555b86-b177-4d7a-9263-0db147a4270c"
      },
      "source": [
        "!ls"
      ],
      "execution_count": null,
      "outputs": [
        {
          "output_type": "stream",
          "name": "stdout",
          "text": [
            "sample_data\n"
          ]
        }
      ]
    },
    {
      "cell_type": "code",
      "source": [
        "import csv\n",
        "import apache_beam as beam\n",
        "import argparse\n",
        "from sys import argv\n",
        "from apache_beam.options.pipeline_options import PipelineOptions\n",
        "import re\n",
        "import pandas as pd\n",
        "\n",
        "project_id = \"indranil-24011994-04\"\n",
        "v_schema = \"Symbol:STRING,Open:FLOAT,High:FLOAT,Low:FLOAT,LTP:FLOAT,Chng:FLOAT,PCChng:FLOAT,Volume:FLOAT, \\\n",
        "    Turnover:FLOAT,_52w_H:FLOAT,_52w_L:FLOAT,_365d_PC_chng:FLOAT,_30d_PC_chng:FLOAT\"\n",
        "\n",
        "def discard_incomplete(data):\n",
        "    return len(data[\"Symbol\"]) > 0\n",
        "\n",
        "def convert_types(data):\n",
        "    data[\"Open\"] = float(str(data[\"Open\"]).replace(\",\",\"\").replace(\"\\\"\",\"\")) if \"Open\" in data else None\n",
        "    data[\"High\"] = float(str(data[\"High\"]).replace(\",\",\"\").replace(\"\\\"\",\"\")) if \"High\" in data else None\n",
        "    data[\"Low\"] = float(str(data[\"Low\"]).replace(\",\",\"\").replace(\"\\\"\",\"\")) if \"Low\" in data else None\n",
        "    data[\"LTP\"] = float(str(data[\"LTP\"]).replace(\",\",\"\").replace(\"\\\"\",\"\")) if \"LTP\" in data else None\n",
        "    data[\"Chng\"] = float(str(data[\"Chng\"]).replace(\",\",\"\").replace(\"\\\"\",\"\")) if \"Chng\" in data else None\n",
        "    data[\"PCChng\"] = float(str(data[\"PCChng\"]).replace(\",\",\"\").replace(\"\\\"\",\"\")) if \"PCChng\" in data else None\n",
        "    data[\"Volume\"] = float(str(data[\"Volume\"]).replace(\",\",\"\").replace(\"\\\"\",\"\")) if \"Volume\" in data else None\n",
        "    data[\"Turnover\"] = float(str(data[\"Turnover\"]).replace(\",\",\"\").replace(\"\\\"\",\"\")) if \"Turnover\" in data else None\n",
        "    data[\"_52w_H\"] = float(str(data[\"_52w_H\"]).replace(\",\",\"\").replace(\"\\\"\",\"\")) if \"_52w_H\" in data else None\n",
        "    data[\"_52w_L\"] = float(str(data[\"_52w_L\"]).replace(\",\",\"\").replace(\"\\\"\",\"\")) if \"_52w_L\" in data else None\n",
        "    data[\"_365d_PC_chng\"] = float(str(data[\"_365d_PC_chng\"]).replace(\",\",\"\").replace(\"\\\"\",\"\")) if \"_365d_PC_chng\" in data else None\n",
        "    data[\"_30d_PC_chng\"] = float(str(data[\"_30d_PC_chng\"]).replace(\",\",\"\").replace(\"\\\"\",\"\")) if \"_30d_PC_chng\" in data else None\n",
        "    return data\n",
        "\n",
        "def del_unwanted_cols(data):\n",
        "    del data[\"PCChng\"]\n",
        "    del data[\"Turnover\"]\n",
        "    return data\n",
        "\n",
        "def print_row(element):\n",
        "    print (element)\n",
        "\n",
        "def parse_file(element):\n",
        "  for line in csv.reader([element], quotechar='\"', delimiter=',', quoting=csv.QUOTE_ALL, skipinitialspace=True):\n",
        "    return line\n",
        "\n",
        "#'SplitData' >> beam.Map(lambda x: x.split(r',(?=\")'))\n",
        "#'SplitData' >> beam.Map(lambda x: x.split(','))\n",
        "\n",
        "\n",
        "p = beam.Pipeline()\n",
        "\n",
        "\n",
        "'''\n",
        "    parsed_csv = (\n",
        "                    p \n",
        "                    | 'Read input file' >> beam.io.ReadFromText('gs://indranil-24011994-04/input/National_Stock_Exchange_of_India_Ltd.csv', skip_header_lines =1)\n",
        "                    | 'Parse file' >> beam.Map(parse_file)\n",
        "                    | 'Print output' >> beam.Map(print_row)\n",
        "             )\n",
        "'''    \n",
        "df = pd.read_csv('National_Stock_Exchange_of_India_Ltd.csv', sep=',', header=0, quotechar='\"')\n",
        "df.show\n",
        "\n",
        "result=(p | 'ReadData' >> beam.io.ReadFromText('National_Stock_Exchange_of_India_Ltd.csv', skip_header_lines =1)\n",
        "       | 'SplitData' >> beam.Map(lambda x: x.split(\",\"))\n",
        "       | 'FormatToDict' >> beam.Map(lambda x: {\"Symbol\": x[0],\"Open\": x[1],\"High\": x[2],\"Low\": x[3],\"LTP\": x[4],\"Chng\": x[5],\"PCChng\": x[6],\"Volume\": x[7],\"Turnover\": x[8],\"_52w_H\": x[9],\"_52w_L\": x[10],\"_365d_PC_chng\": x[11],\"_30d_PC_chng\": x[12]}) \n",
        "       | 'DeleteIncompleteData' >> beam.Filter(discard_incomplete)\n",
        "       | 'ChangeDataType' >> beam.Map(convert_types)\n",
        "       | 'DeleteUnwantedData' >> beam.Map(del_unwanted_cols)\n",
        "       | 'WriteToText' >> beam.io.WriteToText('nse_output.txt')\n",
        ")\n",
        "\n",
        "'''   \n",
        "\n",
        "result=(p | 'ReadData' >> beam.dataframe.io.read_csv('National_Stock_Exchange_of_India_Ltd.csv', sep=',', header=0, quotechar='\"')\n",
        "       | 'FormatToDict' >> beam.Map(lambda x: {\"Symbol\": x[0],\"Open\": x[1],\"High\": x[2],\"Low\": x[3],\"LTP\": x[4],\"Chng\": x[5],\"PCChng\": x[6],\"Volume\": x[7],\"Turnover\": x[8],\"_52w_H\": x[9],\"_52w_L\": x[10],\"_365d_PC_chng\": x[11],\"_30d_PC_chng\": x[12]}) \n",
        "       | 'DeleteIncompleteData' >> beam.Filter(discard_incomplete)\n",
        "       | 'ChangeDataType' >> beam.Map(convert_types)\n",
        "       | 'DeleteUnwantedData' >> beam.Map(del_unwanted_cols)\n",
        "       | 'Print output' >> beam.Map(print_row)\n",
        "       | 'WriteToText' >> beam.io.WriteToText('nse_output.txt')\n",
        "       )\n",
        "#beam.dataframe.io.to_csv(result,'nse_output.txt')\n",
        "\n",
        "'''\n",
        "\n",
        "p.run()\n",
        "\n",
        "!cat nse_output.txt*\n"
      ],
      "metadata": {
        "colab": {
          "base_uri": "https://localhost:8080/",
          "height": 922
        },
        "id": "KTEN1Ym7RPRr",
        "outputId": "d1c4d200-c2ae-4ea8-e3fc-6a246dcb49ec"
      },
      "execution_count": null,
      "outputs": [
        {
          "output_type": "display_data",
          "data": {
            "application/javascript": [
              "\n",
              "        if (typeof window.interactive_beam_jquery == 'undefined') {\n",
              "          var jqueryScript = document.createElement('script');\n",
              "          jqueryScript.src = 'https://code.jquery.com/jquery-3.4.1.slim.min.js';\n",
              "          jqueryScript.type = 'text/javascript';\n",
              "          jqueryScript.onload = function() {\n",
              "            var datatableScript = document.createElement('script');\n",
              "            datatableScript.src = 'https://cdn.datatables.net/1.10.20/js/jquery.dataTables.min.js';\n",
              "            datatableScript.type = 'text/javascript';\n",
              "            datatableScript.onload = function() {\n",
              "              window.interactive_beam_jquery = jQuery.noConflict(true);\n",
              "              window.interactive_beam_jquery(document).ready(function($){\n",
              "                \n",
              "              });\n",
              "            }\n",
              "            document.head.appendChild(datatableScript);\n",
              "          };\n",
              "          document.head.appendChild(jqueryScript);\n",
              "        } else {\n",
              "          window.interactive_beam_jquery(document).ready(function($){\n",
              "            \n",
              "          });\n",
              "        }"
            ]
          },
          "metadata": {}
        },
        {
          "output_type": "stream",
          "name": "stderr",
          "text": [
            "WARNING:root:Make sure that locally built Python SDK docker image has Python 3.7 interpreter.\n"
          ]
        },
        {
          "output_type": "stream",
          "name": "stdout",
          "text": [
            "{'Symbol': 'ADANIPORTS', 'Open': 750.0, 'High': 766.0, 'Low': 713.25, 'LTP': 715.0, 'Chng': -47.45, 'Volume': 72.2, '_52w_H': 901.0, '_52w_L': 384.4, '_365d_PC_chng': 79.22, '_30d_PC_chng': -4.65}\n",
            "{'Symbol': 'ASIANPAINT', 'Open': 3.0, 'High': 101.0, 'Low': 3.0, 'LTP': 167.35, 'Chng': 3.0, 'Volume': 3.0, '_52w_H': -6.25, '_52w_L': -0.2, '_365d_PC_chng': 10.29, '_30d_PC_chng': 322.53}\n",
            "{'Symbol': 'AXISBANK', 'Open': 669.0, 'High': 674.9, 'Low': 660.45, 'LTP': 661.0, 'Chng': -18.9, 'Volume': 102.53, '_52w_H': 866.9, '_52w_L': 568.4, '_365d_PC_chng': 10.19, '_30d_PC_chng': -21.49}\n",
            "{'Symbol': 'BAJAJ-AUTO', 'Open': 3.0, 'High': 370.0, 'Low': 3.0, 'LTP': 383.5, 'Chng': 3.0, 'Volume': 3.0, '_52w_H': -56.7, '_52w_L': -1.67, '_365d_PC_chng': 3.42, '_30d_PC_chng': 114.59}\n",
            "{'Symbol': 'BAJAJFINSV', 'Open': 17.0, 'High': 200.0, 'Low': 17.0, 'LTP': 237.2, 'Chng': 16.0, 'Volume': 16.0, '_52w_H': -684.85, '_52w_L': -3.94, '_365d_PC_chng': 3.42, '_30d_PC_chng': 576.79}\n",
            "{'Symbol': 'BAJFINANCE', 'Open': 7.0, 'High': 21.0, 'Low': 7.0, 'LTP': 47.9, 'Chng': 6.0, 'Volume': 6.0, '_52w_H': -345.8, '_52w_L': -4.85, '_365d_PC_chng': 16.89, '_30d_PC_chng': 1.0}\n",
            "{'Symbol': 'BHARTIARTL', 'Open': 763.0, 'High': 763.0, 'Low': 733.1, 'LTP': 735.85, 'Chng': -29.3, 'Volume': 111.43, '_52w_H': 781.8, '_52w_L': 454.11, '_365d_PC_chng': 58.55, '_30d_PC_chng': 5.7}\n",
            "{'Symbol': 'BPCL', 'Open': 397.15, 'High': 397.2, 'Low': 375.0, 'LTP': 377.4, 'Chng': -22.7, 'Volume': 100.23, '_52w_H': 503.0, '_52w_L': 357.0, '_365d_PC_chng': -1.22, '_30d_PC_chng': -12.45}\n",
            "{'Symbol': 'BRITANNIA', 'Open': 3.0, 'High': 560.0, 'Low': 3.0, 'LTP': 635.1, 'Chng': 3.0, 'Volume': 3.0, '_52w_H': -6.8, '_52w_L': -0.19, '_365d_PC_chng': 3.73, '_30d_PC_chng': 133.23}\n",
            "{'Symbol': 'CIPLA', 'Open': 892.0, 'High': 976.05, 'Low': 890.65, 'LTP': 965.0, 'Chng': 65.05, 'Volume': 144.59, '_52w_H': 380.9, '_52w_L': 1.0, '_365d_PC_chng': 5.0, '_30d_PC_chng': 726.5}\n",
            "{'Symbol': 'COALINDIA', 'Open': 157.75, 'High': 159.4, 'Low': 155.35, 'LTP': 155.9, 'Chng': -2.65, 'Volume': 118.3, '_52w_H': 203.8, '_52w_L': 123.25, '_365d_PC_chng': 25.78, '_30d_PC_chng': -10.94}\n",
            "{'Symbol': 'DIVISLAB', 'Open': 4.0, 'High': 770.0, 'Low': 5.0, 'LTP': 77.7, 'Chng': 4.0, 'Volume': 4.0, '_52w_H': 140.2, '_52w_L': 2.92, '_365d_PC_chng': 15.71, '_30d_PC_chng': 775.37}\n",
            "{'Symbol': 'DRREDDY', 'Open': 4.0, 'High': 580.0, 'Low': 4.0, 'LTP': 820.0, 'Chng': 4.0, 'Volume': 4.0, '_52w_H': 158.4, '_52w_L': 3.45, '_365d_PC_chng': 10.72, '_30d_PC_chng': 508.97}\n",
            "{'Symbol': 'EICHERMOT', 'Open': 2.0, 'High': 495.0, 'Low': 2.0, 'LTP': 506.1, 'Chng': 2.0, 'Volume': 2.0, '_52w_H': -79.65, '_52w_L': -3.16, '_365d_PC_chng': 5.55, '_30d_PC_chng': 136.56}\n",
            "{'Symbol': 'GRASIM', 'Open': 1.0, 'High': 757.3, 'Low': 1.0, 'LTP': 757.85, 'Chng': 1.0, 'Volume': 1.0, '_52w_H': -80.95, '_52w_L': -4.58, '_365d_PC_chng': 7.48, '_30d_PC_chng': 127.84}\n",
            "{'Symbol': 'HCLTECH', 'Open': 1.0, 'High': 120.0, 'Low': 1.0, 'LTP': 126.0, 'Chng': 1.0, 'Volume': 1.0, '_52w_H': -13.15, '_52w_L': -1.17, '_365d_PC_chng': 22.07, '_30d_PC_chng': 246.06}\n",
            "{'Symbol': 'HDFC', 'Open': 2.0, 'High': 820.35, 'Low': 2.0, 'LTP': 856.0, 'Chng': 2.0, 'Volume': 2.0, '_52w_H': -122.75, '_52w_L': -4.28, '_365d_PC_chng': 33.53, '_30d_PC_chng': 927.88}\n",
            "{'Symbol': 'HDFCBANK', 'Open': 1.0, 'High': 500.0, 'Low': 1.0, 'LTP': 506.7, 'Chng': 1.0, 'Volume': 1.0, '_52w_H': -36.45, '_52w_L': -2.39, '_365d_PC_chng': 93.12, '_30d_PC_chng': 1.0}\n",
            "{'Symbol': 'HDFCLIFE', 'Open': 685.0, 'High': 689.0, 'Low': 667.1, 'LTP': 669.75, 'Chng': -19.05, 'Volume': 22.37, '_52w_H': 775.65, '_52w_L': 617.4, '_365d_PC_chng': 0.7, '_30d_PC_chng': -2.94}\n",
            "{'Symbol': 'HEROMOTOCO', 'Open': 2.0, 'High': 580.0, 'Low': 2.0, 'LTP': 589.7, 'Chng': 2.0, 'Volume': 2.0, '_52w_H': -67.9, '_52w_L': -2.62, '_365d_PC_chng': 6.85, '_30d_PC_chng': 174.04}\n",
            "{'Symbol': 'HINDALCO', 'Open': 441.8, 'High': 442.7, 'Low': 414.7, 'LTP': 417.7, 'Chng': -29.35, 'Volume': 148.26, '_52w_H': 551.85, '_52w_L': 220.35, '_365d_PC_chng': 86.93, '_30d_PC_chng': -14.06}\n",
            "{'Symbol': 'HINDUNILVR', 'Open': 2.0, 'High': 344.0, 'Low': 2.0, 'LTP': 365.0, 'Chng': 2.0, 'Volume': 2.0, '_52w_H': -8.15, '_52w_L': -0.35, '_365d_PC_chng': 24.51, '_30d_PC_chng': 572.85}\n",
            "{'Symbol': 'ICICIBANK', 'Open': 739.0, 'High': 742.05, 'Low': 718.6, 'LTP': 720.45, 'Chng': -30.6, 'Volume': 189.88, '_52w_H': 385.86, '_52w_L': 867.0, '_365d_PC_chng': 465.8, '_30d_PC_chng': 52.41}\n",
            "{'Symbol': 'INDUSINDBK', 'Open': 951.0, 'High': 956.95, 'Low': 898.0, 'LTP': 899.95, 'Chng': -59.35, 'Volume': 67.46, '_52w_H': 1.0, '_52w_L': 242.0, '_365d_PC_chng': 789.0, '_30d_PC_chng': 5.25}\n",
            "{'Symbol': 'INFY', 'Open': 1.0, 'High': 702.55, 'Low': 1.0, 'LTP': 718.35, 'Chng': 1.0, 'Volume': 1.0, '_52w_H': -32.85, '_52w_L': -1.91, '_365d_PC_chng': 44.94, '_30d_PC_chng': 764.67}\n",
            "{'Symbol': 'IOC', 'Open': 125.6, 'High': 125.6, 'Low': 120.5, 'LTP': 121.15, 'Chng': -4.5, 'Volume': 77.25, '_52w_H': 141.5, '_52w_L': 84.0, '_365d_PC_chng': 41.28, '_30d_PC_chng': -7.87}\n",
            "{'Symbol': 'ITC', 'Open': 228.9, 'High': 230.05, 'Low': 223.1, 'LTP': 223.6, 'Chng': -7.7, 'Volume': 270.27, '_52w_H': 265.3, '_52w_L': 192.4, '_365d_PC_chng': 15.35, '_30d_PC_chng': -5.53}\n",
            "{'Symbol': 'JSWSTEEL', 'Open': 668.25, 'High': 672.55, 'Low': 624.25, 'LTP': 630.0, 'Chng': -50.9, 'Volume': 89.22, '_52w_H': 776.5, '_52w_L': 336.0, '_365d_PC_chng': 86.25, '_30d_PC_chng': -9.27}\n",
            "{'Symbol': 'KOTAKBANK', 'Open': 2.0, 'High': 2.0, 'Low': 2.0, 'LTP': 7.0, 'Chng': 1.0, 'Volume': 1.0, '_52w_H': -75.1, '_52w_L': -3.69, '_365d_PC_chng': 26.48, '_30d_PC_chng': 522.52}\n",
            "{'Symbol': 'LT', 'Open': 1.0, 'High': 820.0, 'Low': 1.0, 'LTP': 841.75, 'Chng': 1.0, 'Volume': 1.0, '_52w_H': -68.9, '_52w_L': -3.72, '_365d_PC_chng': 27.97, '_30d_PC_chng': 502.81}\n",
            "{'Symbol': 'M&M', 'Open': 885.0, 'High': 885.0, 'Low': 843.0, 'LTP': 855.05, 'Chng': -36.15, 'Volume': 39.34, '_52w_H': 979.0, '_52w_L': 660.25, '_365d_PC_chng': 18.77, '_30d_PC_chng': -4.42}\n",
            "{'Symbol': 'MARUTI', 'Open': 7.0, 'High': 520.0, 'Low': 7.0, 'LTP': 520.0, 'Chng': 7.0, 'Volume': 7.0, '_52w_H': -422.5, '_52w_L': -5.58, '_365d_PC_chng': 11.55, '_30d_PC_chng': 840.81}\n",
            "{'Symbol': 'NESTLEIND', 'Open': 19.0, 'High': 148.85, 'Low': 19.0, 'LTP': 434.1, 'Chng': 18.0, 'Volume': 19.0, '_52w_H': 71.95, '_52w_L': 0.38, '_365d_PC_chng': 0.56, '_30d_PC_chng': 108.61}\n",
            "{'Symbol': 'NTPC', 'Open': 133.2, 'High': 134.05, 'Low': 128.0, 'LTP': 128.65, 'Chng': -6.55, 'Volume': 133.24, '_52w_H': 152.1, '_52w_L': 88.15, '_365d_PC_chng': 36.93, '_30d_PC_chng': -10.16}\n",
            "{'Symbol': 'ONGC', 'Open': 152.25, 'High': 152.25, 'Low': 146.25, 'LTP': 147.75, 'Chng': -7.35, 'Volume': 231.36, '_52w_H': 172.75, '_52w_L': 77.05, '_365d_PC_chng': 82.86, '_30d_PC_chng': -9.41}\n",
            "{'Symbol': 'POWERGRID', 'Open': 204.05, 'High': 204.95, 'Low': 200.8, 'LTP': 202.5, 'Chng': -1.75, 'Volume': 96.11, '_52w_H': 209.95, '_52w_L': 136.88, '_365d_PC_chng': 3.69, '_30d_PC_chng': 6.36}\n",
            "{'Symbol': 'RELIANCE', 'Open': 2.0, 'High': 467.8, 'Low': 2.0, 'LTP': 477.6, 'Chng': 2.0, 'Volume': 2.0, '_52w_H': -87.85, '_52w_L': -3.52, '_365d_PC_chng': 72.75, '_30d_PC_chng': 1.0}\n",
            "{'Symbol': 'SBILIFE', 'Open': 1.0, 'High': 154.0, 'Low': 1.0, 'LTP': 154.0, 'Chng': 1.0, 'Volume': 1.0, '_52w_H': -28.65, '_52w_L': -2.47, '_365d_PC_chng': 23.16, '_30d_PC_chng': 262.43}\n",
            "{'Symbol': 'SBIN', 'Open': 486.25, 'High': 487.9, 'Low': 467.1, 'LTP': 470.0, 'Chng': -20.55, 'Volume': 263.06, '_52w_H': 249.55, '_52w_L': 542.3, '_365d_PC_chng': 240.15, '_30d_PC_chng': 93.42}\n",
            "{'Symbol': 'SHREECEM', 'Open': 26.0, 'High': 450.0, 'Low': 26.0, 'LTP': 539.9, 'Chng': 25.0, 'Volume': 25.0, '_52w_H': -770.5, '_52w_L': -2.89, '_365d_PC_chng': 0.3, '_30d_PC_chng': 76.94}\n",
            "{'Symbol': 'SUNPHARMA', 'Open': 775.0, 'High': 798.9, 'Low': 762.0, 'LTP': 767.25, 'Chng': -15.65, 'Volume': 54.33, '_52w_H': 851.0, '_52w_L': 502.3, '_365d_PC_chng': 51.57, '_30d_PC_chng': -5.69}\n",
            "{'Symbol': 'TATACONSUM', 'Open': 800.2, 'High': 805.0, 'Low': 763.15, 'LTP': 769.9, 'Chng': -37.9, 'Volume': 26.17, '_52w_H': 889.0, '_52w_L': 505.05, '_365d_PC_chng': 49.55, '_30d_PC_chng': -4.82}\n",
            "{'Symbol': 'TATAMOTORS', 'Open': 486.0, 'High': 486.75, 'Low': 458.0, 'LTP': 459.4, 'Chng': -33.35, 'Volume': 517.88, '_52w_H': 430.36, '_52w_L': 536.7, '_365d_PC_chng': 156.7, '_30d_PC_chng': 167.95}\n",
            "{'Symbol': 'TATASTEEL', 'Open': 1.0, 'High': 157.9, 'Low': 1.0, 'LTP': 159.5, 'Chng': 1.0, 'Volume': 1.0, '_52w_H': -63.4, '_52w_L': -5.4, '_365d_PC_chng': 106.46, '_30d_PC_chng': 1.0}\n",
            "{'Symbol': 'TCS', 'Open': 3.0, 'High': 425.0, 'Low': 3.0, 'LTP': 490.0, 'Chng': 3.0, 'Volume': 3.0, '_52w_H': -6.7, '_52w_L': -0.19, '_365d_PC_chng': 19.41, '_30d_PC_chng': 670.58}\n",
            "{'Symbol': 'TECHM', 'Open': 1.0, 'High': 544.0, 'Low': 1.0, 'LTP': 550.0, 'Chng': 1.0, 'Volume': 1.0, '_52w_H': -40.35, '_52w_L': -2.59, '_365d_PC_chng': 15.22, '_30d_PC_chng': 232.97}\n",
            "{'Symbol': 'TITAN', 'Open': 2.0, 'High': 377.8, 'Low': 2.0, 'LTP': 385.1, 'Chng': 2.0, 'Volume': 2.0, '_52w_H': -104.8, '_52w_L': -4.37, '_365d_PC_chng': 12.89, '_30d_PC_chng': 298.54}\n",
            "{'Symbol': 'ULTRACEMCO', 'Open': 7.0, 'High': 550.0, 'Low': 7.0, 'LTP': 599.0, 'Chng': 7.0, 'Volume': 7.0, '_52w_H': -210.35, '_52w_L': -2.76, '_365d_PC_chng': 2.66, '_30d_PC_chng': 198.32}\n",
            "{'Symbol': 'UPL', 'Open': 726.0, 'High': 726.0, 'Low': 701.0, 'LTP': 703.5, 'Chng': -23.8, 'Volume': 24.82, '_52w_H': 864.7, '_52w_L': 414.15, '_365d_PC_chng': 68.06, '_30d_PC_chng': -1.37}\n",
            "{'Symbol': 'WIPRO', 'Open': 632.0, 'High': 634.4, 'Low': 619.65, 'LTP': 621.3, 'Chng': -15.4, 'Volume': 41.39, '_52w_H': 739.85, '_52w_L': 346.25, '_365d_PC_chng': 77.51, '_30d_PC_chng': -7.01}\n"
          ]
        }
      ]
    },
    {
      "cell_type": "code",
      "source": [
        "import pandas as pd\n",
        "df = pd.read_csv('National_Stock_Exchange_of_India_Ltd.csv', sep=',', header=0, quotechar='\"')\n",
        "display(df)"
      ],
      "metadata": {
        "colab": {
          "base_uri": "https://localhost:8080/",
          "height": 1000
        },
        "id": "Y1xy69chS6LA",
        "outputId": "51fb548b-a4e0-49d1-c90a-7926f60cd3cd"
      },
      "execution_count": null,
      "outputs": [
        {
          "output_type": "display_data",
          "data": {
            "text/html": [
              "\n",
              "  <div id=\"df-3121b3c2-84e3-405c-af5c-770acf4f5dc2\">\n",
              "    <div class=\"colab-df-container\">\n",
              "      <div>\n",
              "<style scoped>\n",
              "    .dataframe tbody tr th:only-of-type {\n",
              "        vertical-align: middle;\n",
              "    }\n",
              "\n",
              "    .dataframe tbody tr th {\n",
              "        vertical-align: top;\n",
              "    }\n",
              "\n",
              "    .dataframe thead th {\n",
              "        text-align: right;\n",
              "    }\n",
              "</style>\n",
              "<table border=\"1\" class=\"dataframe\">\n",
              "  <thead>\n",
              "    <tr style=\"text-align: right;\">\n",
              "      <th></th>\n",
              "      <th>Symbol</th>\n",
              "      <th>Open</th>\n",
              "      <th>High</th>\n",
              "      <th>Low</th>\n",
              "      <th>LTP</th>\n",
              "      <th>Chng</th>\n",
              "      <th>% Chng</th>\n",
              "      <th>Volume (lacs)</th>\n",
              "      <th>Turnover (crs.)</th>\n",
              "      <th>52w H</th>\n",
              "      <th>52w L</th>\n",
              "      <th>365 d % chng</th>\n",
              "      <th>30 d % chng</th>\n",
              "    </tr>\n",
              "  </thead>\n",
              "  <tbody>\n",
              "    <tr>\n",
              "      <th>0</th>\n",
              "      <td>ADANIPORTS</td>\n",
              "      <td>750</td>\n",
              "      <td>766</td>\n",
              "      <td>713.25</td>\n",
              "      <td>715</td>\n",
              "      <td>-47.45</td>\n",
              "      <td>-6.22</td>\n",
              "      <td>72.20</td>\n",
              "      <td>532.63</td>\n",
              "      <td>901</td>\n",
              "      <td>384.4</td>\n",
              "      <td>79.22</td>\n",
              "      <td>-4.65</td>\n",
              "    </tr>\n",
              "    <tr>\n",
              "      <th>1</th>\n",
              "      <td>ASIANPAINT</td>\n",
              "      <td>3,101.00</td>\n",
              "      <td>3,167.35</td>\n",
              "      <td>3,091.00</td>\n",
              "      <td>3,138.00</td>\n",
              "      <td>-6.25</td>\n",
              "      <td>-0.20</td>\n",
              "      <td>10.29</td>\n",
              "      <td>322.53</td>\n",
              "      <td>3,505.00</td>\n",
              "      <td>2,117.15</td>\n",
              "      <td>45.66</td>\n",
              "      <td>5.66</td>\n",
              "    </tr>\n",
              "    <tr>\n",
              "      <th>2</th>\n",
              "      <td>AXISBANK</td>\n",
              "      <td>669</td>\n",
              "      <td>674.9</td>\n",
              "      <td>660.45</td>\n",
              "      <td>661</td>\n",
              "      <td>-18.90</td>\n",
              "      <td>-2.78</td>\n",
              "      <td>102.53</td>\n",
              "      <td>684</td>\n",
              "      <td>866.9</td>\n",
              "      <td>568.4</td>\n",
              "      <td>10.19</td>\n",
              "      <td>-21.49</td>\n",
              "    </tr>\n",
              "    <tr>\n",
              "      <th>3</th>\n",
              "      <td>BAJAJ-AUTO</td>\n",
              "      <td>3,370.00</td>\n",
              "      <td>3,383.50</td>\n",
              "      <td>3,320.00</td>\n",
              "      <td>3,335.00</td>\n",
              "      <td>-56.70</td>\n",
              "      <td>-1.67</td>\n",
              "      <td>3.42</td>\n",
              "      <td>114.59</td>\n",
              "      <td>4,361.40</td>\n",
              "      <td>3,041.00</td>\n",
              "      <td>9.30</td>\n",
              "      <td>-12.05</td>\n",
              "    </tr>\n",
              "    <tr>\n",
              "      <th>4</th>\n",
              "      <td>BAJAJFINSV</td>\n",
              "      <td>17,200.00</td>\n",
              "      <td>17,237.20</td>\n",
              "      <td>16,610.00</td>\n",
              "      <td>16,684.00</td>\n",
              "      <td>-684.85</td>\n",
              "      <td>-3.94</td>\n",
              "      <td>3.42</td>\n",
              "      <td>576.79</td>\n",
              "      <td>19,325.00</td>\n",
              "      <td>8,273.70</td>\n",
              "      <td>91.38</td>\n",
              "      <td>-9.10</td>\n",
              "    </tr>\n",
              "    <tr>\n",
              "      <th>5</th>\n",
              "      <td>BAJFINANCE</td>\n",
              "      <td>7,021.00</td>\n",
              "      <td>7,047.90</td>\n",
              "      <td>6,775.00</td>\n",
              "      <td>6,780.00</td>\n",
              "      <td>-345.80</td>\n",
              "      <td>-4.85</td>\n",
              "      <td>16.89</td>\n",
              "      <td>1,161.63</td>\n",
              "      <td>8,050.00</td>\n",
              "      <td>4,362.00</td>\n",
              "      <td>44.57</td>\n",
              "      <td>-13.69</td>\n",
              "    </tr>\n",
              "    <tr>\n",
              "      <th>6</th>\n",
              "      <td>BHARTIARTL</td>\n",
              "      <td>763</td>\n",
              "      <td>763</td>\n",
              "      <td>733.1</td>\n",
              "      <td>735.85</td>\n",
              "      <td>-29.30</td>\n",
              "      <td>-3.83</td>\n",
              "      <td>111.43</td>\n",
              "      <td>830.06</td>\n",
              "      <td>781.8</td>\n",
              "      <td>454.11</td>\n",
              "      <td>58.55</td>\n",
              "      <td>5.70</td>\n",
              "    </tr>\n",
              "    <tr>\n",
              "      <th>7</th>\n",
              "      <td>BPCL</td>\n",
              "      <td>397.15</td>\n",
              "      <td>397.2</td>\n",
              "      <td>375</td>\n",
              "      <td>377.4</td>\n",
              "      <td>-22.70</td>\n",
              "      <td>-5.67</td>\n",
              "      <td>100.23</td>\n",
              "      <td>383.54</td>\n",
              "      <td>503</td>\n",
              "      <td>357</td>\n",
              "      <td>-1.22</td>\n",
              "      <td>-12.45</td>\n",
              "    </tr>\n",
              "    <tr>\n",
              "      <th>8</th>\n",
              "      <td>BRITANNIA</td>\n",
              "      <td>3,560.00</td>\n",
              "      <td>3,635.10</td>\n",
              "      <td>3,533.95</td>\n",
              "      <td>3,566.60</td>\n",
              "      <td>-6.80</td>\n",
              "      <td>-0.19</td>\n",
              "      <td>3.73</td>\n",
              "      <td>133.23</td>\n",
              "      <td>4,153.00</td>\n",
              "      <td>3,317.30</td>\n",
              "      <td>0.30</td>\n",
              "      <td>-3.42</td>\n",
              "    </tr>\n",
              "    <tr>\n",
              "      <th>9</th>\n",
              "      <td>CIPLA</td>\n",
              "      <td>892</td>\n",
              "      <td>976.05</td>\n",
              "      <td>890.65</td>\n",
              "      <td>965</td>\n",
              "      <td>65.05</td>\n",
              "      <td>7.23</td>\n",
              "      <td>144.59</td>\n",
              "      <td>1,380.90</td>\n",
              "      <td>1,005.00</td>\n",
              "      <td>726.5</td>\n",
              "      <td>31.89</td>\n",
              "      <td>6.34</td>\n",
              "    </tr>\n",
              "    <tr>\n",
              "      <th>10</th>\n",
              "      <td>COALINDIA</td>\n",
              "      <td>157.75</td>\n",
              "      <td>159.4</td>\n",
              "      <td>155.35</td>\n",
              "      <td>155.9</td>\n",
              "      <td>-2.65</td>\n",
              "      <td>-1.67</td>\n",
              "      <td>118.30</td>\n",
              "      <td>185.5</td>\n",
              "      <td>203.8</td>\n",
              "      <td>123.25</td>\n",
              "      <td>25.78</td>\n",
              "      <td>-10.94</td>\n",
              "    </tr>\n",
              "    <tr>\n",
              "      <th>11</th>\n",
              "      <td>DIVISLAB</td>\n",
              "      <td>4,770.00</td>\n",
              "      <td>5,077.70</td>\n",
              "      <td>4,756.75</td>\n",
              "      <td>4,940.00</td>\n",
              "      <td>140.20</td>\n",
              "      <td>2.92</td>\n",
              "      <td>15.71</td>\n",
              "      <td>775.37</td>\n",
              "      <td>5,425.10</td>\n",
              "      <td>3,153.30</td>\n",
              "      <td>42.39</td>\n",
              "      <td>-1.57</td>\n",
              "    </tr>\n",
              "    <tr>\n",
              "      <th>12</th>\n",
              "      <td>DRREDDY</td>\n",
              "      <td>4,580.00</td>\n",
              "      <td>4,820.00</td>\n",
              "      <td>4,576.15</td>\n",
              "      <td>4,750.00</td>\n",
              "      <td>158.40</td>\n",
              "      <td>3.45</td>\n",
              "      <td>10.72</td>\n",
              "      <td>508.97</td>\n",
              "      <td>5,614.60</td>\n",
              "      <td>4,135.00</td>\n",
              "      <td>-1.17</td>\n",
              "      <td>1.80</td>\n",
              "    </tr>\n",
              "    <tr>\n",
              "      <th>13</th>\n",
              "      <td>EICHERMOT</td>\n",
              "      <td>2,495.00</td>\n",
              "      <td>2,506.10</td>\n",
              "      <td>2,421.50</td>\n",
              "      <td>2,440.75</td>\n",
              "      <td>-79.65</td>\n",
              "      <td>-3.16</td>\n",
              "      <td>5.55</td>\n",
              "      <td>136.56</td>\n",
              "      <td>3,037.00</td>\n",
              "      <td>2,303.70</td>\n",
              "      <td>-5.95</td>\n",
              "      <td>-5.77</td>\n",
              "    </tr>\n",
              "    <tr>\n",
              "      <th>14</th>\n",
              "      <td>GRASIM</td>\n",
              "      <td>1,757.30</td>\n",
              "      <td>1,757.85</td>\n",
              "      <td>1,679.00</td>\n",
              "      <td>1,685.80</td>\n",
              "      <td>-80.95</td>\n",
              "      <td>-4.58</td>\n",
              "      <td>7.48</td>\n",
              "      <td>127.84</td>\n",
              "      <td>1,893.00</td>\n",
              "      <td>840.05</td>\n",
              "      <td>99.95</td>\n",
              "      <td>-3.08</td>\n",
              "    </tr>\n",
              "    <tr>\n",
              "      <th>15</th>\n",
              "      <td>HCLTECH</td>\n",
              "      <td>1,120.00</td>\n",
              "      <td>1,126.00</td>\n",
              "      <td>1,103.30</td>\n",
              "      <td>1,111.65</td>\n",
              "      <td>-13.15</td>\n",
              "      <td>-1.17</td>\n",
              "      <td>22.07</td>\n",
              "      <td>246.06</td>\n",
              "      <td>1,377.75</td>\n",
              "      <td>814.35</td>\n",
              "      <td>34.79</td>\n",
              "      <td>-4.73</td>\n",
              "    </tr>\n",
              "    <tr>\n",
              "      <th>16</th>\n",
              "      <td>HDFC</td>\n",
              "      <td>2,820.35</td>\n",
              "      <td>2,856.00</td>\n",
              "      <td>2,723.00</td>\n",
              "      <td>2,745.00</td>\n",
              "      <td>-122.75</td>\n",
              "      <td>-4.28</td>\n",
              "      <td>33.53</td>\n",
              "      <td>927.88</td>\n",
              "      <td>3,021.10</td>\n",
              "      <td>2,179.30</td>\n",
              "      <td>25.27</td>\n",
              "      <td>-5.72</td>\n",
              "    </tr>\n",
              "    <tr>\n",
              "      <th>17</th>\n",
              "      <td>HDFCBANK</td>\n",
              "      <td>1,500.00</td>\n",
              "      <td>1,506.70</td>\n",
              "      <td>1,485.00</td>\n",
              "      <td>1,489.50</td>\n",
              "      <td>-36.45</td>\n",
              "      <td>-2.39</td>\n",
              "      <td>93.12</td>\n",
              "      <td>1,394.10</td>\n",
              "      <td>1,725.00</td>\n",
              "      <td>1,342.00</td>\n",
              "      <td>6.18</td>\n",
              "      <td>-9.88</td>\n",
              "    </tr>\n",
              "    <tr>\n",
              "      <th>18</th>\n",
              "      <td>HDFCLIFE</td>\n",
              "      <td>685</td>\n",
              "      <td>689</td>\n",
              "      <td>667.1</td>\n",
              "      <td>669.75</td>\n",
              "      <td>-19.05</td>\n",
              "      <td>-2.77</td>\n",
              "      <td>22.37</td>\n",
              "      <td>151.4</td>\n",
              "      <td>775.65</td>\n",
              "      <td>617.4</td>\n",
              "      <td>0.70</td>\n",
              "      <td>-2.94</td>\n",
              "    </tr>\n",
              "    <tr>\n",
              "      <th>19</th>\n",
              "      <td>HEROMOTOCO</td>\n",
              "      <td>2,580.00</td>\n",
              "      <td>2,589.70</td>\n",
              "      <td>2,505.15</td>\n",
              "      <td>2,526.80</td>\n",
              "      <td>-67.90</td>\n",
              "      <td>-2.62</td>\n",
              "      <td>6.85</td>\n",
              "      <td>174.04</td>\n",
              "      <td>3,629.05</td>\n",
              "      <td>2,505.15</td>\n",
              "      <td>-16.02</td>\n",
              "      <td>-6.43</td>\n",
              "    </tr>\n",
              "    <tr>\n",
              "      <th>20</th>\n",
              "      <td>HINDALCO</td>\n",
              "      <td>441.8</td>\n",
              "      <td>442.7</td>\n",
              "      <td>414.7</td>\n",
              "      <td>417.7</td>\n",
              "      <td>-29.35</td>\n",
              "      <td>-6.57</td>\n",
              "      <td>148.26</td>\n",
              "      <td>631.93</td>\n",
              "      <td>551.85</td>\n",
              "      <td>220.35</td>\n",
              "      <td>86.93</td>\n",
              "      <td>-14.06</td>\n",
              "    </tr>\n",
              "    <tr>\n",
              "      <th>21</th>\n",
              "      <td>HINDUNILVR</td>\n",
              "      <td>2,344.00</td>\n",
              "      <td>2,365.00</td>\n",
              "      <td>2,325.20</td>\n",
              "      <td>2,340.90</td>\n",
              "      <td>-8.15</td>\n",
              "      <td>-0.35</td>\n",
              "      <td>24.51</td>\n",
              "      <td>572.85</td>\n",
              "      <td>2,859.30</td>\n",
              "      <td>2,120.00</td>\n",
              "      <td>9.60</td>\n",
              "      <td>-3.94</td>\n",
              "    </tr>\n",
              "    <tr>\n",
              "      <th>22</th>\n",
              "      <td>ICICIBANK</td>\n",
              "      <td>739</td>\n",
              "      <td>742.05</td>\n",
              "      <td>718.6</td>\n",
              "      <td>720.45</td>\n",
              "      <td>-30.60</td>\n",
              "      <td>-4.07</td>\n",
              "      <td>189.88</td>\n",
              "      <td>1,385.86</td>\n",
              "      <td>867</td>\n",
              "      <td>465.8</td>\n",
              "      <td>52.41</td>\n",
              "      <td>-13.14</td>\n",
              "    </tr>\n",
              "    <tr>\n",
              "      <th>23</th>\n",
              "      <td>INDUSINDBK</td>\n",
              "      <td>951</td>\n",
              "      <td>956.95</td>\n",
              "      <td>898</td>\n",
              "      <td>899.95</td>\n",
              "      <td>-59.35</td>\n",
              "      <td>-6.19</td>\n",
              "      <td>67.46</td>\n",
              "      <td>622.74</td>\n",
              "      <td>1,242.00</td>\n",
              "      <td>789</td>\n",
              "      <td>5.25</td>\n",
              "      <td>-22.08</td>\n",
              "    </tr>\n",
              "    <tr>\n",
              "      <th>24</th>\n",
              "      <td>INFY</td>\n",
              "      <td>1,702.55</td>\n",
              "      <td>1,718.35</td>\n",
              "      <td>1,684.00</td>\n",
              "      <td>1,689.55</td>\n",
              "      <td>-32.85</td>\n",
              "      <td>-1.91</td>\n",
              "      <td>44.94</td>\n",
              "      <td>764.67</td>\n",
              "      <td>1,848.00</td>\n",
              "      <td>1,091.00</td>\n",
              "      <td>51.44</td>\n",
              "      <td>-0.83</td>\n",
              "    </tr>\n",
              "    <tr>\n",
              "      <th>25</th>\n",
              "      <td>IOC</td>\n",
              "      <td>125.6</td>\n",
              "      <td>125.6</td>\n",
              "      <td>120.5</td>\n",
              "      <td>121.15</td>\n",
              "      <td>-4.50</td>\n",
              "      <td>-3.58</td>\n",
              "      <td>77.25</td>\n",
              "      <td>94.57</td>\n",
              "      <td>141.5</td>\n",
              "      <td>84</td>\n",
              "      <td>41.28</td>\n",
              "      <td>-7.87</td>\n",
              "    </tr>\n",
              "    <tr>\n",
              "      <th>26</th>\n",
              "      <td>ITC</td>\n",
              "      <td>228.9</td>\n",
              "      <td>230.05</td>\n",
              "      <td>223.1</td>\n",
              "      <td>223.6</td>\n",
              "      <td>-7.70</td>\n",
              "      <td>-3.33</td>\n",
              "      <td>270.27</td>\n",
              "      <td>610.54</td>\n",
              "      <td>265.3</td>\n",
              "      <td>192.4</td>\n",
              "      <td>15.35</td>\n",
              "      <td>-5.53</td>\n",
              "    </tr>\n",
              "    <tr>\n",
              "      <th>27</th>\n",
              "      <td>JSWSTEEL</td>\n",
              "      <td>668.25</td>\n",
              "      <td>672.55</td>\n",
              "      <td>624.25</td>\n",
              "      <td>630</td>\n",
              "      <td>-50.90</td>\n",
              "      <td>-7.48</td>\n",
              "      <td>89.22</td>\n",
              "      <td>574.61</td>\n",
              "      <td>776.5</td>\n",
              "      <td>336</td>\n",
              "      <td>86.25</td>\n",
              "      <td>-9.27</td>\n",
              "    </tr>\n",
              "    <tr>\n",
              "      <th>28</th>\n",
              "      <td>KOTAKBANK</td>\n",
              "      <td>2,002.00</td>\n",
              "      <td>2,007.00</td>\n",
              "      <td>1,955.10</td>\n",
              "      <td>1,960.00</td>\n",
              "      <td>-75.10</td>\n",
              "      <td>-3.69</td>\n",
              "      <td>26.48</td>\n",
              "      <td>522.52</td>\n",
              "      <td>2,253.00</td>\n",
              "      <td>1,626.00</td>\n",
              "      <td>5.24</td>\n",
              "      <td>-11.35</td>\n",
              "    </tr>\n",
              "    <tr>\n",
              "      <th>29</th>\n",
              "      <td>LT</td>\n",
              "      <td>1,820.00</td>\n",
              "      <td>1,841.75</td>\n",
              "      <td>1,768.60</td>\n",
              "      <td>1,781.00</td>\n",
              "      <td>-68.90</td>\n",
              "      <td>-3.72</td>\n",
              "      <td>27.97</td>\n",
              "      <td>502.81</td>\n",
              "      <td>1,981.75</td>\n",
              "      <td>1,092.00</td>\n",
              "      <td>59.59</td>\n",
              "      <td>-0.85</td>\n",
              "    </tr>\n",
              "    <tr>\n",
              "      <th>30</th>\n",
              "      <td>M&amp;M</td>\n",
              "      <td>885</td>\n",
              "      <td>885</td>\n",
              "      <td>843</td>\n",
              "      <td>855.05</td>\n",
              "      <td>-36.15</td>\n",
              "      <td>-4.06</td>\n",
              "      <td>39.34</td>\n",
              "      <td>338.08</td>\n",
              "      <td>979</td>\n",
              "      <td>660.25</td>\n",
              "      <td>18.77</td>\n",
              "      <td>-4.42</td>\n",
              "    </tr>\n",
              "    <tr>\n",
              "      <th>31</th>\n",
              "      <td>MARUTI</td>\n",
              "      <td>7,520.00</td>\n",
              "      <td>7,520.00</td>\n",
              "      <td>7,130.00</td>\n",
              "      <td>7,150.00</td>\n",
              "      <td>-422.50</td>\n",
              "      <td>-5.58</td>\n",
              "      <td>11.55</td>\n",
              "      <td>840.81</td>\n",
              "      <td>8,368.00</td>\n",
              "      <td>6,400.00</td>\n",
              "      <td>1.34</td>\n",
              "      <td>-2.02</td>\n",
              "    </tr>\n",
              "    <tr>\n",
              "      <th>32</th>\n",
              "      <td>NESTLEIND</td>\n",
              "      <td>19,148.85</td>\n",
              "      <td>19,434.10</td>\n",
              "      <td>18,982.50</td>\n",
              "      <td>19,250.00</td>\n",
              "      <td>71.95</td>\n",
              "      <td>0.38</td>\n",
              "      <td>0.56</td>\n",
              "      <td>108.61</td>\n",
              "      <td>20,609.15</td>\n",
              "      <td>16,002.10</td>\n",
              "      <td>9.87</td>\n",
              "      <td>0.17</td>\n",
              "    </tr>\n",
              "    <tr>\n",
              "      <th>33</th>\n",
              "      <td>NTPC</td>\n",
              "      <td>133.2</td>\n",
              "      <td>134.05</td>\n",
              "      <td>128</td>\n",
              "      <td>128.65</td>\n",
              "      <td>-6.55</td>\n",
              "      <td>-4.84</td>\n",
              "      <td>133.24</td>\n",
              "      <td>173.94</td>\n",
              "      <td>152.1</td>\n",
              "      <td>88.15</td>\n",
              "      <td>36.93</td>\n",
              "      <td>-10.16</td>\n",
              "    </tr>\n",
              "    <tr>\n",
              "      <th>34</th>\n",
              "      <td>ONGC</td>\n",
              "      <td>152.25</td>\n",
              "      <td>152.25</td>\n",
              "      <td>146.25</td>\n",
              "      <td>147.75</td>\n",
              "      <td>-7.35</td>\n",
              "      <td>-4.74</td>\n",
              "      <td>231.36</td>\n",
              "      <td>344.33</td>\n",
              "      <td>172.75</td>\n",
              "      <td>77.05</td>\n",
              "      <td>82.86</td>\n",
              "      <td>-9.41</td>\n",
              "    </tr>\n",
              "    <tr>\n",
              "      <th>35</th>\n",
              "      <td>POWERGRID</td>\n",
              "      <td>204.05</td>\n",
              "      <td>204.95</td>\n",
              "      <td>200.8</td>\n",
              "      <td>202.5</td>\n",
              "      <td>-1.75</td>\n",
              "      <td>-0.86</td>\n",
              "      <td>96.11</td>\n",
              "      <td>195.09</td>\n",
              "      <td>209.95</td>\n",
              "      <td>136.88</td>\n",
              "      <td>3.69</td>\n",
              "      <td>6.36</td>\n",
              "    </tr>\n",
              "    <tr>\n",
              "      <th>36</th>\n",
              "      <td>RELIANCE</td>\n",
              "      <td>2,467.80</td>\n",
              "      <td>2,477.60</td>\n",
              "      <td>2,401.50</td>\n",
              "      <td>2,405.10</td>\n",
              "      <td>-87.85</td>\n",
              "      <td>-3.52</td>\n",
              "      <td>72.75</td>\n",
              "      <td>1,770.19</td>\n",
              "      <td>2,751.35</td>\n",
              "      <td>1,830.00</td>\n",
              "      <td>23.48</td>\n",
              "      <td>-9.62</td>\n",
              "    </tr>\n",
              "    <tr>\n",
              "      <th>37</th>\n",
              "      <td>SBILIFE</td>\n",
              "      <td>1,154.00</td>\n",
              "      <td>1,154.00</td>\n",
              "      <td>1,105.25</td>\n",
              "      <td>1,130.85</td>\n",
              "      <td>-28.65</td>\n",
              "      <td>-2.47</td>\n",
              "      <td>23.16</td>\n",
              "      <td>262.43</td>\n",
              "      <td>1,273.90</td>\n",
              "      <td>825.2</td>\n",
              "      <td>33.19</td>\n",
              "      <td>-3.52</td>\n",
              "    </tr>\n",
              "    <tr>\n",
              "      <th>38</th>\n",
              "      <td>SBIN</td>\n",
              "      <td>486.25</td>\n",
              "      <td>487.9</td>\n",
              "      <td>467.1</td>\n",
              "      <td>470</td>\n",
              "      <td>-20.55</td>\n",
              "      <td>-4.19</td>\n",
              "      <td>263.06</td>\n",
              "      <td>1,249.55</td>\n",
              "      <td>542.3</td>\n",
              "      <td>240.15</td>\n",
              "      <td>93.42</td>\n",
              "      <td>-8.30</td>\n",
              "    </tr>\n",
              "    <tr>\n",
              "      <th>39</th>\n",
              "      <td>SHREECEM</td>\n",
              "      <td>26,450.00</td>\n",
              "      <td>26,539.90</td>\n",
              "      <td>25,812.00</td>\n",
              "      <td>25,900.00</td>\n",
              "      <td>-770.50</td>\n",
              "      <td>-2.89</td>\n",
              "      <td>0.30</td>\n",
              "      <td>76.94</td>\n",
              "      <td>32,048.00</td>\n",
              "      <td>22,531.00</td>\n",
              "      <td>9.29</td>\n",
              "      <td>-6.76</td>\n",
              "    </tr>\n",
              "    <tr>\n",
              "      <th>40</th>\n",
              "      <td>SUNPHARMA</td>\n",
              "      <td>775</td>\n",
              "      <td>798.9</td>\n",
              "      <td>762</td>\n",
              "      <td>767.25</td>\n",
              "      <td>-15.65</td>\n",
              "      <td>-2.00</td>\n",
              "      <td>54.33</td>\n",
              "      <td>424.05</td>\n",
              "      <td>851</td>\n",
              "      <td>502.3</td>\n",
              "      <td>51.57</td>\n",
              "      <td>-5.69</td>\n",
              "    </tr>\n",
              "    <tr>\n",
              "      <th>41</th>\n",
              "      <td>TATACONSUM</td>\n",
              "      <td>800.2</td>\n",
              "      <td>805</td>\n",
              "      <td>763.15</td>\n",
              "      <td>769.9</td>\n",
              "      <td>-37.90</td>\n",
              "      <td>-4.69</td>\n",
              "      <td>26.17</td>\n",
              "      <td>203.32</td>\n",
              "      <td>889</td>\n",
              "      <td>505.05</td>\n",
              "      <td>49.55</td>\n",
              "      <td>-4.82</td>\n",
              "    </tr>\n",
              "    <tr>\n",
              "      <th>42</th>\n",
              "      <td>TATAMOTORS</td>\n",
              "      <td>486</td>\n",
              "      <td>486.75</td>\n",
              "      <td>458</td>\n",
              "      <td>459.4</td>\n",
              "      <td>-33.35</td>\n",
              "      <td>-6.77</td>\n",
              "      <td>517.88</td>\n",
              "      <td>2,430.36</td>\n",
              "      <td>536.7</td>\n",
              "      <td>156.7</td>\n",
              "      <td>167.95</td>\n",
              "      <td>-9.68</td>\n",
              "    </tr>\n",
              "    <tr>\n",
              "      <th>43</th>\n",
              "      <td>TATASTEEL</td>\n",
              "      <td>1,157.90</td>\n",
              "      <td>1,159.50</td>\n",
              "      <td>1,106.25</td>\n",
              "      <td>1,110.25</td>\n",
              "      <td>-63.40</td>\n",
              "      <td>-5.40</td>\n",
              "      <td>106.46</td>\n",
              "      <td>1,200.79</td>\n",
              "      <td>1,534.50</td>\n",
              "      <td>539.5</td>\n",
              "      <td>105.13</td>\n",
              "      <td>-17.37</td>\n",
              "    </tr>\n",
              "    <tr>\n",
              "      <th>44</th>\n",
              "      <td>TCS</td>\n",
              "      <td>3,425.00</td>\n",
              "      <td>3,490.00</td>\n",
              "      <td>3,411.90</td>\n",
              "      <td>3,439.20</td>\n",
              "      <td>-6.70</td>\n",
              "      <td>-0.19</td>\n",
              "      <td>19.41</td>\n",
              "      <td>670.58</td>\n",
              "      <td>3,989.90</td>\n",
              "      <td>2,624.45</td>\n",
              "      <td>27.32</td>\n",
              "      <td>-1.25</td>\n",
              "    </tr>\n",
              "    <tr>\n",
              "      <th>45</th>\n",
              "      <td>TECHM</td>\n",
              "      <td>1,544.00</td>\n",
              "      <td>1,550.00</td>\n",
              "      <td>1,510.15</td>\n",
              "      <td>1,519.00</td>\n",
              "      <td>-40.35</td>\n",
              "      <td>-2.59</td>\n",
              "      <td>15.22</td>\n",
              "      <td>232.97</td>\n",
              "      <td>1,630.00</td>\n",
              "      <td>846.7</td>\n",
              "      <td>76.17</td>\n",
              "      <td>-2.83</td>\n",
              "    </tr>\n",
              "    <tr>\n",
              "      <th>46</th>\n",
              "      <td>TITAN</td>\n",
              "      <td>2,377.80</td>\n",
              "      <td>2,385.10</td>\n",
              "      <td>2,285.05</td>\n",
              "      <td>2,293.00</td>\n",
              "      <td>-104.80</td>\n",
              "      <td>-4.37</td>\n",
              "      <td>12.89</td>\n",
              "      <td>298.54</td>\n",
              "      <td>2,677.90</td>\n",
              "      <td>1,300.35</td>\n",
              "      <td>75.45</td>\n",
              "      <td>-6.59</td>\n",
              "    </tr>\n",
              "    <tr>\n",
              "      <th>47</th>\n",
              "      <td>ULTRACEMCO</td>\n",
              "      <td>7,550.00</td>\n",
              "      <td>7,599.00</td>\n",
              "      <td>7,370.10</td>\n",
              "      <td>7,398.45</td>\n",
              "      <td>-210.35</td>\n",
              "      <td>-2.76</td>\n",
              "      <td>2.66</td>\n",
              "      <td>198.32</td>\n",
              "      <td>8,269.00</td>\n",
              "      <td>4,770.00</td>\n",
              "      <td>53.50</td>\n",
              "      <td>1.78</td>\n",
              "    </tr>\n",
              "    <tr>\n",
              "      <th>48</th>\n",
              "      <td>UPL</td>\n",
              "      <td>726</td>\n",
              "      <td>726</td>\n",
              "      <td>701</td>\n",
              "      <td>703.5</td>\n",
              "      <td>-23.80</td>\n",
              "      <td>-3.27</td>\n",
              "      <td>24.82</td>\n",
              "      <td>176.35</td>\n",
              "      <td>864.7</td>\n",
              "      <td>414.15</td>\n",
              "      <td>68.06</td>\n",
              "      <td>-1.37</td>\n",
              "    </tr>\n",
              "    <tr>\n",
              "      <th>49</th>\n",
              "      <td>WIPRO</td>\n",
              "      <td>632</td>\n",
              "      <td>634.4</td>\n",
              "      <td>619.65</td>\n",
              "      <td>621.3</td>\n",
              "      <td>-15.40</td>\n",
              "      <td>-2.42</td>\n",
              "      <td>41.39</td>\n",
              "      <td>259.37</td>\n",
              "      <td>739.85</td>\n",
              "      <td>346.25</td>\n",
              "      <td>77.51</td>\n",
              "      <td>-7.01</td>\n",
              "    </tr>\n",
              "  </tbody>\n",
              "</table>\n",
              "</div>\n",
              "      <button class=\"colab-df-convert\" onclick=\"convertToInteractive('df-3121b3c2-84e3-405c-af5c-770acf4f5dc2')\"\n",
              "              title=\"Convert this dataframe to an interactive table.\"\n",
              "              style=\"display:none;\">\n",
              "        \n",
              "  <svg xmlns=\"http://www.w3.org/2000/svg\" height=\"24px\"viewBox=\"0 0 24 24\"\n",
              "       width=\"24px\">\n",
              "    <path d=\"M0 0h24v24H0V0z\" fill=\"none\"/>\n",
              "    <path d=\"M18.56 5.44l.94 2.06.94-2.06 2.06-.94-2.06-.94-.94-2.06-.94 2.06-2.06.94zm-11 1L8.5 8.5l.94-2.06 2.06-.94-2.06-.94L8.5 2.5l-.94 2.06-2.06.94zm10 10l.94 2.06.94-2.06 2.06-.94-2.06-.94-.94-2.06-.94 2.06-2.06.94z\"/><path d=\"M17.41 7.96l-1.37-1.37c-.4-.4-.92-.59-1.43-.59-.52 0-1.04.2-1.43.59L10.3 9.45l-7.72 7.72c-.78.78-.78 2.05 0 2.83L4 21.41c.39.39.9.59 1.41.59.51 0 1.02-.2 1.41-.59l7.78-7.78 2.81-2.81c.8-.78.8-2.07 0-2.86zM5.41 20L4 18.59l7.72-7.72 1.47 1.35L5.41 20z\"/>\n",
              "  </svg>\n",
              "      </button>\n",
              "      \n",
              "  <style>\n",
              "    .colab-df-container {\n",
              "      display:flex;\n",
              "      flex-wrap:wrap;\n",
              "      gap: 12px;\n",
              "    }\n",
              "\n",
              "    .colab-df-convert {\n",
              "      background-color: #E8F0FE;\n",
              "      border: none;\n",
              "      border-radius: 50%;\n",
              "      cursor: pointer;\n",
              "      display: none;\n",
              "      fill: #1967D2;\n",
              "      height: 32px;\n",
              "      padding: 0 0 0 0;\n",
              "      width: 32px;\n",
              "    }\n",
              "\n",
              "    .colab-df-convert:hover {\n",
              "      background-color: #E2EBFA;\n",
              "      box-shadow: 0px 1px 2px rgba(60, 64, 67, 0.3), 0px 1px 3px 1px rgba(60, 64, 67, 0.15);\n",
              "      fill: #174EA6;\n",
              "    }\n",
              "\n",
              "    [theme=dark] .colab-df-convert {\n",
              "      background-color: #3B4455;\n",
              "      fill: #D2E3FC;\n",
              "    }\n",
              "\n",
              "    [theme=dark] .colab-df-convert:hover {\n",
              "      background-color: #434B5C;\n",
              "      box-shadow: 0px 1px 3px 1px rgba(0, 0, 0, 0.15);\n",
              "      filter: drop-shadow(0px 1px 2px rgba(0, 0, 0, 0.3));\n",
              "      fill: #FFFFFF;\n",
              "    }\n",
              "  </style>\n",
              "\n",
              "      <script>\n",
              "        const buttonEl =\n",
              "          document.querySelector('#df-3121b3c2-84e3-405c-af5c-770acf4f5dc2 button.colab-df-convert');\n",
              "        buttonEl.style.display =\n",
              "          google.colab.kernel.accessAllowed ? 'block' : 'none';\n",
              "\n",
              "        async function convertToInteractive(key) {\n",
              "          const element = document.querySelector('#df-3121b3c2-84e3-405c-af5c-770acf4f5dc2');\n",
              "          const dataTable =\n",
              "            await google.colab.kernel.invokeFunction('convertToInteractive',\n",
              "                                                     [key], {});\n",
              "          if (!dataTable) return;\n",
              "\n",
              "          const docLinkHtml = 'Like what you see? Visit the ' +\n",
              "            '<a target=\"_blank\" href=https://colab.research.google.com/notebooks/data_table.ipynb>data table notebook</a>'\n",
              "            + ' to learn more about interactive tables.';\n",
              "          element.innerHTML = '';\n",
              "          dataTable['output_type'] = 'display_data';\n",
              "          await google.colab.output.renderOutput(dataTable, element);\n",
              "          const docLink = document.createElement('div');\n",
              "          docLink.innerHTML = docLinkHtml;\n",
              "          element.appendChild(docLink);\n",
              "        }\n",
              "      </script>\n",
              "    </div>\n",
              "  </div>\n",
              "  "
            ],
            "text/plain": [
              "        Symbol       Open       High  ...      52w L 365 d % chng  30 d % chng\n",
              "0   ADANIPORTS        750        766  ...      384.4        79.22        -4.65\n",
              "1   ASIANPAINT   3,101.00   3,167.35  ...   2,117.15        45.66         5.66\n",
              "2     AXISBANK        669      674.9  ...      568.4        10.19       -21.49\n",
              "3   BAJAJ-AUTO   3,370.00   3,383.50  ...   3,041.00         9.30       -12.05\n",
              "4   BAJAJFINSV  17,200.00  17,237.20  ...   8,273.70        91.38        -9.10\n",
              "5   BAJFINANCE   7,021.00   7,047.90  ...   4,362.00        44.57       -13.69\n",
              "6   BHARTIARTL        763        763  ...     454.11        58.55         5.70\n",
              "7         BPCL     397.15      397.2  ...        357        -1.22       -12.45\n",
              "8    BRITANNIA   3,560.00   3,635.10  ...   3,317.30         0.30        -3.42\n",
              "9        CIPLA        892     976.05  ...      726.5        31.89         6.34\n",
              "10   COALINDIA     157.75      159.4  ...     123.25        25.78       -10.94\n",
              "11    DIVISLAB   4,770.00   5,077.70  ...   3,153.30        42.39        -1.57\n",
              "12     DRREDDY   4,580.00   4,820.00  ...   4,135.00        -1.17         1.80\n",
              "13   EICHERMOT   2,495.00   2,506.10  ...   2,303.70        -5.95        -5.77\n",
              "14      GRASIM   1,757.30   1,757.85  ...     840.05        99.95        -3.08\n",
              "15     HCLTECH   1,120.00   1,126.00  ...     814.35        34.79        -4.73\n",
              "16        HDFC   2,820.35   2,856.00  ...   2,179.30        25.27        -5.72\n",
              "17    HDFCBANK   1,500.00   1,506.70  ...   1,342.00         6.18        -9.88\n",
              "18    HDFCLIFE        685        689  ...      617.4         0.70        -2.94\n",
              "19  HEROMOTOCO   2,580.00   2,589.70  ...   2,505.15       -16.02        -6.43\n",
              "20    HINDALCO      441.8      442.7  ...     220.35        86.93       -14.06\n",
              "21  HINDUNILVR   2,344.00   2,365.00  ...   2,120.00         9.60        -3.94\n",
              "22   ICICIBANK        739     742.05  ...      465.8        52.41       -13.14\n",
              "23  INDUSINDBK        951     956.95  ...        789         5.25       -22.08\n",
              "24        INFY   1,702.55   1,718.35  ...   1,091.00        51.44        -0.83\n",
              "25         IOC      125.6      125.6  ...         84        41.28        -7.87\n",
              "26         ITC      228.9     230.05  ...      192.4        15.35        -5.53\n",
              "27    JSWSTEEL     668.25     672.55  ...        336        86.25        -9.27\n",
              "28   KOTAKBANK   2,002.00   2,007.00  ...   1,626.00         5.24       -11.35\n",
              "29          LT   1,820.00   1,841.75  ...   1,092.00        59.59        -0.85\n",
              "30         M&M        885        885  ...     660.25        18.77        -4.42\n",
              "31      MARUTI   7,520.00   7,520.00  ...   6,400.00         1.34        -2.02\n",
              "32   NESTLEIND  19,148.85  19,434.10  ...  16,002.10         9.87         0.17\n",
              "33        NTPC      133.2     134.05  ...      88.15        36.93       -10.16\n",
              "34        ONGC     152.25     152.25  ...      77.05        82.86        -9.41\n",
              "35   POWERGRID     204.05     204.95  ...     136.88         3.69         6.36\n",
              "36    RELIANCE   2,467.80   2,477.60  ...   1,830.00        23.48        -9.62\n",
              "37     SBILIFE   1,154.00   1,154.00  ...      825.2        33.19        -3.52\n",
              "38        SBIN     486.25      487.9  ...     240.15        93.42        -8.30\n",
              "39    SHREECEM  26,450.00  26,539.90  ...  22,531.00         9.29        -6.76\n",
              "40   SUNPHARMA        775      798.9  ...      502.3        51.57        -5.69\n",
              "41  TATACONSUM      800.2        805  ...     505.05        49.55        -4.82\n",
              "42  TATAMOTORS        486     486.75  ...      156.7       167.95        -9.68\n",
              "43   TATASTEEL   1,157.90   1,159.50  ...      539.5       105.13       -17.37\n",
              "44         TCS   3,425.00   3,490.00  ...   2,624.45        27.32        -1.25\n",
              "45       TECHM   1,544.00   1,550.00  ...      846.7        76.17        -2.83\n",
              "46       TITAN   2,377.80   2,385.10  ...   1,300.35        75.45        -6.59\n",
              "47  ULTRACEMCO   7,550.00   7,599.00  ...   4,770.00        53.50         1.78\n",
              "48         UPL        726        726  ...     414.15        68.06        -1.37\n",
              "49       WIPRO        632      634.4  ...     346.25        77.51        -7.01\n",
              "\n",
              "[50 rows x 13 columns]"
            ]
          },
          "metadata": {}
        }
      ]
    },
    {
      "cell_type": "code",
      "source": [
        "import apache_beam as beam\n",
        "from apache_beam.io.filesystems import FileSystems as beam_fs\n",
        "from apache_beam.options.pipeline_options import PipelineOptions\n",
        "import codecs\n",
        "import csv\n",
        "import argparse\n",
        "from sys import argv\n",
        "import re\n",
        "from typing import Dict, Iterable, List\n",
        "\n",
        "def convert_types(data):\n",
        "    data[\"Open\"] = float(str(data[\"Open\"]).replace(\",\",\"\").replace(\"\\\"\",\"\")) if \"Open\" in data else None\n",
        "    data[\"High\"] = float(str(data[\"High\"]).replace(\",\",\"\").replace(\"\\\"\",\"\")) if \"High\" in data else None\n",
        "    data[\"Low\"] = float(str(data[\"Low\"]).replace(\",\",\"\").replace(\"\\\"\",\"\")) if \"Low\" in data else None\n",
        "    data[\"LTP\"] = float(str(data[\"LTP\"]).replace(\",\",\"\").replace(\"\\\"\",\"\")) if \"LTP\" in data else None\n",
        "    data[\"Chng\"] = float(str(data[\"Chng\"]).replace(\",\",\"\").replace(\"\\\"\",\"\")) if \"Chng\" in data else None\n",
        "    data[\"PCChng\"] = float(str(data[\"PCChng\"]).replace(\",\",\"\").replace(\"\\\"\",\"\")) if \"PCChng\" in data else None\n",
        "    data[\"Volume\"] = float(str(data[\"Volume\"]).replace(\",\",\"\").replace(\"\\\"\",\"\")) if \"Volume\" in data else None\n",
        "    data[\"Turnover\"] = float(str(data[\"Turnover\"]).replace(\",\",\"\").replace(\"\\\"\",\"\")) if \"Turnover\" in data else None\n",
        "    data[\"_52w_H\"] = float(str(data[\"_52w_H\"]).replace(\",\",\"\").replace(\"\\\"\",\"\")) if \"_52w_H\" in data else None\n",
        "    data[\"_52w_L\"] = float(str(data[\"_52w_L\"]).replace(\",\",\"\").replace(\"\\\"\",\"\")) if \"_52w_L\" in data else None\n",
        "    data[\"_365d_PC_chng\"] = float(str(data[\"_365d_PC_chng\"]).replace(\",\",\"\").replace(\"\\\"\",\"\")) if \"_365d_PC_chng\" in data else None\n",
        "    data[\"_30d_PC_chng\"] = float(str(data[\"_30d_PC_chng\"]).replace(\",\",\"\").replace(\"\\\"\",\"\")) if \"_30d_PC_chng\" in data else None\n",
        "    return data\n",
        "\n",
        "def del_unwanted_cols(data):\n",
        "    del data[\"PCChng\"]\n",
        "    del data[\"Turnover\"]\n",
        "    return data   \n",
        "@beam.ptransform_fn\n",
        "@beam.typehints.with_input_types(beam.pvalue.PBegin)\n",
        "@beam.typehints.with_output_types(Dict[str, str])\n",
        "def ReadCsvFiles(pbegin: beam.pvalue.PBegin, file_name: str) -> beam.PCollection[Dict[str, str]]:\n",
        "  def read_csv_lines(file_name: str) -> Iterable[Dict[str, str]]:\n",
        "    with beam_fs.open(file_name) as f:\n",
        "      # Beam reads files as bytes, but csv expects strings,\n",
        "      # so we need to decode the bytes into utf-8 strings.\n",
        "      for row in csv.DictReader(codecs.iterdecode(f, 'utf-8')):\n",
        "        yield dict(row)\n",
        "\n",
        "  return (\n",
        "      pbegin\n",
        "      |'Create file name' >> beam.Create([file_name])\n",
        "      | 'Read CSV lines' >> beam.FlatMap(read_csv_lines)\n",
        "  )\n",
        "\n",
        "if __name__ == \"__main__\":\n",
        "  parser = argparse.ArgumentParser()\n",
        "  known_args = parser.parse_known_args(argv)\n",
        "  p = beam.Pipeline(options=PipelineOptions())\n",
        "  input_file_name = \"National_Stock_Exchange_of_India_Ltd.csv\"\n",
        "  (p\n",
        "   | 'Read CSV files' >> ReadCsvFiles(\"National_Stock_Exchange_of_India_Ltd.csv\")\n",
        "  #| 'Print elements' >> beam.Map(print)\n",
        "   | 'ChangeDataType' >> beam.Map(convert_types)\n",
        "   | 'DeleteUnwantedData' >> beam.Map(del_unwanted_cols)\n",
        "   |'WriteToBigQuery' >> beam.io.WriteToBigQuery(\n",
        "       '{0}:poc_composer_dataflow.df_stock_details'.format(project_id),\n",
        "       schema=v_schema,\n",
        "       create_disposition=beam.io.BigQueryDisposition.CREATE_IF_NEEDED,\n",
        "       write_disposition=beam.io.BigQueryDisposition.WRITE_APPEND))\n",
        "  result = p.run()\n"
      ],
      "metadata": {
        "colab": {
          "base_uri": "https://localhost:8080/"
        },
        "id": "fH5RJL95hrcZ",
        "outputId": "87245282-454b-4dda-ee4f-b1ce1fc214e5"
      },
      "execution_count": null,
      "outputs": [
        {
          "output_type": "stream",
          "name": "stderr",
          "text": [
            "WARNING:root:Make sure that locally built Python SDK docker image has Python 3.7 interpreter.\n"
          ]
        },
        {
          "output_type": "stream",
          "name": "stdout",
          "text": [
            "{'Symbol': 'ADANIPORTS', 'Open': 750.0, 'High': 766.0, 'Low': 713.25, 'LTP': 715.0, 'Chng': -47.45, '% Chng': '-6.22', 'Volume (lacs)': '72.2', 'Turnover (crs.)': '532.63', '52w H': '901', '52w L': '384.4', '365 d % chng': '79.22', '30 d % chng': '-4.65', 'Volume': None, '_52w_H': None, '_52w_L': None, '_365d_PC_chng': None, '_30d_PC_chng': None}\n",
            "{'Symbol': 'ASIANPAINT', 'Open': 3101.0, 'High': 3167.35, 'Low': 3091.0, 'LTP': 3138.0, 'Chng': -6.25, '% Chng': '-0.2', 'Volume (lacs)': '10.29', 'Turnover (crs.)': '322.53', '52w H': '3,505.00', '52w L': '2,117.15', '365 d % chng': '45.66', '30 d % chng': '5.66', 'Volume': None, '_52w_H': None, '_52w_L': None, '_365d_PC_chng': None, '_30d_PC_chng': None}\n",
            "{'Symbol': 'AXISBANK', 'Open': 669.0, 'High': 674.9, 'Low': 660.45, 'LTP': 661.0, 'Chng': -18.9, '% Chng': '-2.78', 'Volume (lacs)': '102.53', 'Turnover (crs.)': '684', '52w H': '866.9', '52w L': '568.4', '365 d % chng': '10.19', '30 d % chng': '-21.49', 'Volume': None, '_52w_H': None, '_52w_L': None, '_365d_PC_chng': None, '_30d_PC_chng': None}\n",
            "{'Symbol': 'BAJAJ-AUTO', 'Open': 3370.0, 'High': 3383.5, 'Low': 3320.0, 'LTP': 3335.0, 'Chng': -56.7, '% Chng': '-1.67', 'Volume (lacs)': '3.42', 'Turnover (crs.)': '114.59', '52w H': '4,361.40', '52w L': '3,041.00', '365 d % chng': '9.3', '30 d % chng': '-12.05', 'Volume': None, '_52w_H': None, '_52w_L': None, '_365d_PC_chng': None, '_30d_PC_chng': None}\n",
            "{'Symbol': 'BAJAJFINSV', 'Open': 17200.0, 'High': 17237.2, 'Low': 16610.0, 'LTP': 16684.0, 'Chng': -684.85, '% Chng': '-3.94', 'Volume (lacs)': '3.42', 'Turnover (crs.)': '576.79', '52w H': '19,325.00', '52w L': '8,273.70', '365 d % chng': '91.38', '30 d % chng': '-9.1', 'Volume': None, '_52w_H': None, '_52w_L': None, '_365d_PC_chng': None, '_30d_PC_chng': None}\n",
            "{'Symbol': 'BAJFINANCE', 'Open': 7021.0, 'High': 7047.9, 'Low': 6775.0, 'LTP': 6780.0, 'Chng': -345.8, '% Chng': '-4.85', 'Volume (lacs)': '16.89', 'Turnover (crs.)': '1,161.63', '52w H': '8,050.00', '52w L': '4,362.00', '365 d % chng': '44.57', '30 d % chng': '-13.69', 'Volume': None, '_52w_H': None, '_52w_L': None, '_365d_PC_chng': None, '_30d_PC_chng': None}\n",
            "{'Symbol': 'BHARTIARTL', 'Open': 763.0, 'High': 763.0, 'Low': 733.1, 'LTP': 735.85, 'Chng': -29.3, '% Chng': '-3.83', 'Volume (lacs)': '111.43', 'Turnover (crs.)': '830.06', '52w H': '781.8', '52w L': '454.11', '365 d % chng': '58.55', '30 d % chng': '5.7', 'Volume': None, '_52w_H': None, '_52w_L': None, '_365d_PC_chng': None, '_30d_PC_chng': None}\n",
            "{'Symbol': 'BPCL', 'Open': 397.15, 'High': 397.2, 'Low': 375.0, 'LTP': 377.4, 'Chng': -22.7, '% Chng': '-5.67', 'Volume (lacs)': '100.23', 'Turnover (crs.)': '383.54', '52w H': '503', '52w L': '357', '365 d % chng': '-1.22', '30 d % chng': '-12.45', 'Volume': None, '_52w_H': None, '_52w_L': None, '_365d_PC_chng': None, '_30d_PC_chng': None}\n",
            "{'Symbol': 'BRITANNIA', 'Open': 3560.0, 'High': 3635.1, 'Low': 3533.95, 'LTP': 3566.6, 'Chng': -6.8, '% Chng': '-0.19', 'Volume (lacs)': '3.73', 'Turnover (crs.)': '133.23', '52w H': '4,153.00', '52w L': '3,317.30', '365 d % chng': '0.3', '30 d % chng': '-3.42', 'Volume': None, '_52w_H': None, '_52w_L': None, '_365d_PC_chng': None, '_30d_PC_chng': None}\n",
            "{'Symbol': 'CIPLA', 'Open': 892.0, 'High': 976.05, 'Low': 890.65, 'LTP': 965.0, 'Chng': 65.05, '% Chng': '7.23', 'Volume (lacs)': '144.59', 'Turnover (crs.)': '1,380.90', '52w H': '1,005.00', '52w L': '726.5', '365 d % chng': '31.89', '30 d % chng': '6.34', 'Volume': None, '_52w_H': None, '_52w_L': None, '_365d_PC_chng': None, '_30d_PC_chng': None}\n",
            "{'Symbol': 'COALINDIA', 'Open': 157.75, 'High': 159.4, 'Low': 155.35, 'LTP': 155.9, 'Chng': -2.65, '% Chng': '-1.67', 'Volume (lacs)': '118.3', 'Turnover (crs.)': '185.5', '52w H': '203.8', '52w L': '123.25', '365 d % chng': '25.78', '30 d % chng': '-10.94', 'Volume': None, '_52w_H': None, '_52w_L': None, '_365d_PC_chng': None, '_30d_PC_chng': None}\n",
            "{'Symbol': 'DIVISLAB', 'Open': 4770.0, 'High': 5077.7, 'Low': 4756.75, 'LTP': 4940.0, 'Chng': 140.2, '% Chng': '2.92', 'Volume (lacs)': '15.71', 'Turnover (crs.)': '775.37', '52w H': '5,425.10', '52w L': '3,153.30', '365 d % chng': '42.39', '30 d % chng': '-1.57', 'Volume': None, '_52w_H': None, '_52w_L': None, '_365d_PC_chng': None, '_30d_PC_chng': None}\n",
            "{'Symbol': 'DRREDDY', 'Open': 4580.0, 'High': 4820.0, 'Low': 4576.15, 'LTP': 4750.0, 'Chng': 158.4, '% Chng': '3.45', 'Volume (lacs)': '10.72', 'Turnover (crs.)': '508.97', '52w H': '5,614.60', '52w L': '4,135.00', '365 d % chng': '-1.17', '30 d % chng': '1.8', 'Volume': None, '_52w_H': None, '_52w_L': None, '_365d_PC_chng': None, '_30d_PC_chng': None}\n",
            "{'Symbol': 'EICHERMOT', 'Open': 2495.0, 'High': 2506.1, 'Low': 2421.5, 'LTP': 2440.75, 'Chng': -79.65, '% Chng': '-3.16', 'Volume (lacs)': '5.55', 'Turnover (crs.)': '136.56', '52w H': '3,037.00', '52w L': '2,303.70', '365 d % chng': '-5.95', '30 d % chng': '-5.77', 'Volume': None, '_52w_H': None, '_52w_L': None, '_365d_PC_chng': None, '_30d_PC_chng': None}\n",
            "{'Symbol': 'GRASIM', 'Open': 1757.3, 'High': 1757.85, 'Low': 1679.0, 'LTP': 1685.8, 'Chng': -80.95, '% Chng': '-4.58', 'Volume (lacs)': '7.48', 'Turnover (crs.)': '127.84', '52w H': '1,893.00', '52w L': '840.05', '365 d % chng': '99.95', '30 d % chng': '-3.08', 'Volume': None, '_52w_H': None, '_52w_L': None, '_365d_PC_chng': None, '_30d_PC_chng': None}\n",
            "{'Symbol': 'HCLTECH', 'Open': 1120.0, 'High': 1126.0, 'Low': 1103.3, 'LTP': 1111.65, 'Chng': -13.15, '% Chng': '-1.17', 'Volume (lacs)': '22.07', 'Turnover (crs.)': '246.06', '52w H': '1,377.75', '52w L': '814.35', '365 d % chng': '34.79', '30 d % chng': '-4.73', 'Volume': None, '_52w_H': None, '_52w_L': None, '_365d_PC_chng': None, '_30d_PC_chng': None}\n",
            "{'Symbol': 'HDFC', 'Open': 2820.35, 'High': 2856.0, 'Low': 2723.0, 'LTP': 2745.0, 'Chng': -122.75, '% Chng': '-4.28', 'Volume (lacs)': '33.53', 'Turnover (crs.)': '927.88', '52w H': '3,021.10', '52w L': '2,179.30', '365 d % chng': '25.27', '30 d % chng': '-5.72', 'Volume': None, '_52w_H': None, '_52w_L': None, '_365d_PC_chng': None, '_30d_PC_chng': None}\n",
            "{'Symbol': 'HDFCBANK', 'Open': 1500.0, 'High': 1506.7, 'Low': 1485.0, 'LTP': 1489.5, 'Chng': -36.45, '% Chng': '-2.39', 'Volume (lacs)': '93.12', 'Turnover (crs.)': '1,394.10', '52w H': '1,725.00', '52w L': '1,342.00', '365 d % chng': '6.18', '30 d % chng': '-9.88', 'Volume': None, '_52w_H': None, '_52w_L': None, '_365d_PC_chng': None, '_30d_PC_chng': None}\n",
            "{'Symbol': 'HDFCLIFE', 'Open': 685.0, 'High': 689.0, 'Low': 667.1, 'LTP': 669.75, 'Chng': -19.05, '% Chng': '-2.77', 'Volume (lacs)': '22.37', 'Turnover (crs.)': '151.4', '52w H': '775.65', '52w L': '617.4', '365 d % chng': '0.7', '30 d % chng': '-2.94', 'Volume': None, '_52w_H': None, '_52w_L': None, '_365d_PC_chng': None, '_30d_PC_chng': None}\n",
            "{'Symbol': 'HEROMOTOCO', 'Open': 2580.0, 'High': 2589.7, 'Low': 2505.15, 'LTP': 2526.8, 'Chng': -67.9, '% Chng': '-2.62', 'Volume (lacs)': '6.85', 'Turnover (crs.)': '174.04', '52w H': '3,629.05', '52w L': '2,505.15', '365 d % chng': '-16.02', '30 d % chng': '-6.43', 'Volume': None, '_52w_H': None, '_52w_L': None, '_365d_PC_chng': None, '_30d_PC_chng': None}\n",
            "{'Symbol': 'HINDALCO', 'Open': 441.8, 'High': 442.7, 'Low': 414.7, 'LTP': 417.7, 'Chng': -29.35, '% Chng': '-6.57', 'Volume (lacs)': '148.26', 'Turnover (crs.)': '631.93', '52w H': '551.85', '52w L': '220.35', '365 d % chng': '86.93', '30 d % chng': '-14.06', 'Volume': None, '_52w_H': None, '_52w_L': None, '_365d_PC_chng': None, '_30d_PC_chng': None}\n",
            "{'Symbol': 'HINDUNILVR', 'Open': 2344.0, 'High': 2365.0, 'Low': 2325.2, 'LTP': 2340.9, 'Chng': -8.15, '% Chng': '-0.35', 'Volume (lacs)': '24.51', 'Turnover (crs.)': '572.85', '52w H': '2,859.30', '52w L': '2,120.00', '365 d % chng': '9.6', '30 d % chng': '-3.94', 'Volume': None, '_52w_H': None, '_52w_L': None, '_365d_PC_chng': None, '_30d_PC_chng': None}\n",
            "{'Symbol': 'ICICIBANK', 'Open': 739.0, 'High': 742.05, 'Low': 718.6, 'LTP': 720.45, 'Chng': -30.6, '% Chng': '-4.07', 'Volume (lacs)': '189.88', 'Turnover (crs.)': '1,385.86', '52w H': '867', '52w L': '465.8', '365 d % chng': '52.41', '30 d % chng': '-13.14', 'Volume': None, '_52w_H': None, '_52w_L': None, '_365d_PC_chng': None, '_30d_PC_chng': None}\n",
            "{'Symbol': 'INDUSINDBK', 'Open': 951.0, 'High': 956.95, 'Low': 898.0, 'LTP': 899.95, 'Chng': -59.35, '% Chng': '-6.19', 'Volume (lacs)': '67.46', 'Turnover (crs.)': '622.74', '52w H': '1,242.00', '52w L': '789', '365 d % chng': '5.25', '30 d % chng': '-22.08', 'Volume': None, '_52w_H': None, '_52w_L': None, '_365d_PC_chng': None, '_30d_PC_chng': None}\n",
            "{'Symbol': 'INFY', 'Open': 1702.55, 'High': 1718.35, 'Low': 1684.0, 'LTP': 1689.55, 'Chng': -32.85, '% Chng': '-1.91', 'Volume (lacs)': '44.94', 'Turnover (crs.)': '764.67', '52w H': '1,848.00', '52w L': '1,091.00', '365 d % chng': '51.44', '30 d % chng': '-0.83', 'Volume': None, '_52w_H': None, '_52w_L': None, '_365d_PC_chng': None, '_30d_PC_chng': None}\n",
            "{'Symbol': 'IOC', 'Open': 125.6, 'High': 125.6, 'Low': 120.5, 'LTP': 121.15, 'Chng': -4.5, '% Chng': '-3.58', 'Volume (lacs)': '77.25', 'Turnover (crs.)': '94.57', '52w H': '141.5', '52w L': '84', '365 d % chng': '41.28', '30 d % chng': '-7.87', 'Volume': None, '_52w_H': None, '_52w_L': None, '_365d_PC_chng': None, '_30d_PC_chng': None}\n",
            "{'Symbol': 'ITC', 'Open': 228.9, 'High': 230.05, 'Low': 223.1, 'LTP': 223.6, 'Chng': -7.7, '% Chng': '-3.33', 'Volume (lacs)': '270.27', 'Turnover (crs.)': '610.54', '52w H': '265.3', '52w L': '192.4', '365 d % chng': '15.35', '30 d % chng': '-5.53', 'Volume': None, '_52w_H': None, '_52w_L': None, '_365d_PC_chng': None, '_30d_PC_chng': None}\n",
            "{'Symbol': 'JSWSTEEL', 'Open': 668.25, 'High': 672.55, 'Low': 624.25, 'LTP': 630.0, 'Chng': -50.9, '% Chng': '-7.48', 'Volume (lacs)': '89.22', 'Turnover (crs.)': '574.61', '52w H': '776.5', '52w L': '336', '365 d % chng': '86.25', '30 d % chng': '-9.27', 'Volume': None, '_52w_H': None, '_52w_L': None, '_365d_PC_chng': None, '_30d_PC_chng': None}\n",
            "{'Symbol': 'KOTAKBANK', 'Open': 2002.0, 'High': 2007.0, 'Low': 1955.1, 'LTP': 1960.0, 'Chng': -75.1, '% Chng': '-3.69', 'Volume (lacs)': '26.48', 'Turnover (crs.)': '522.52', '52w H': '2,253.00', '52w L': '1,626.00', '365 d % chng': '5.24', '30 d % chng': '-11.35', 'Volume': None, '_52w_H': None, '_52w_L': None, '_365d_PC_chng': None, '_30d_PC_chng': None}\n",
            "{'Symbol': 'LT', 'Open': 1820.0, 'High': 1841.75, 'Low': 1768.6, 'LTP': 1781.0, 'Chng': -68.9, '% Chng': '-3.72', 'Volume (lacs)': '27.97', 'Turnover (crs.)': '502.81', '52w H': '1,981.75', '52w L': '1,092.00', '365 d % chng': '59.59', '30 d % chng': '-0.85', 'Volume': None, '_52w_H': None, '_52w_L': None, '_365d_PC_chng': None, '_30d_PC_chng': None}\n",
            "{'Symbol': 'M&M', 'Open': 885.0, 'High': 885.0, 'Low': 843.0, 'LTP': 855.05, 'Chng': -36.15, '% Chng': '-4.06', 'Volume (lacs)': '39.34', 'Turnover (crs.)': '338.08', '52w H': '979', '52w L': '660.25', '365 d % chng': '18.77', '30 d % chng': '-4.42', 'Volume': None, '_52w_H': None, '_52w_L': None, '_365d_PC_chng': None, '_30d_PC_chng': None}\n",
            "{'Symbol': 'MARUTI', 'Open': 7520.0, 'High': 7520.0, 'Low': 7130.0, 'LTP': 7150.0, 'Chng': -422.5, '% Chng': '-5.58', 'Volume (lacs)': '11.55', 'Turnover (crs.)': '840.81', '52w H': '8,368.00', '52w L': '6,400.00', '365 d % chng': '1.34', '30 d % chng': '-2.02', 'Volume': None, '_52w_H': None, '_52w_L': None, '_365d_PC_chng': None, '_30d_PC_chng': None}\n",
            "{'Symbol': 'NESTLEIND', 'Open': 19148.85, 'High': 19434.1, 'Low': 18982.5, 'LTP': 19250.0, 'Chng': 71.95, '% Chng': '0.38', 'Volume (lacs)': '0.56', 'Turnover (crs.)': '108.61', '52w H': '20,609.15', '52w L': '16,002.10', '365 d % chng': '9.87', '30 d % chng': '0.17', 'Volume': None, '_52w_H': None, '_52w_L': None, '_365d_PC_chng': None, '_30d_PC_chng': None}\n",
            "{'Symbol': 'NTPC', 'Open': 133.2, 'High': 134.05, 'Low': 128.0, 'LTP': 128.65, 'Chng': -6.55, '% Chng': '-4.84', 'Volume (lacs)': '133.24', 'Turnover (crs.)': '173.94', '52w H': '152.1', '52w L': '88.15', '365 d % chng': '36.93', '30 d % chng': '-10.16', 'Volume': None, '_52w_H': None, '_52w_L': None, '_365d_PC_chng': None, '_30d_PC_chng': None}\n",
            "{'Symbol': 'ONGC', 'Open': 152.25, 'High': 152.25, 'Low': 146.25, 'LTP': 147.75, 'Chng': -7.35, '% Chng': '-4.74', 'Volume (lacs)': '231.36', 'Turnover (crs.)': '344.33', '52w H': '172.75', '52w L': '77.05', '365 d % chng': '82.86', '30 d % chng': '-9.41', 'Volume': None, '_52w_H': None, '_52w_L': None, '_365d_PC_chng': None, '_30d_PC_chng': None}\n",
            "{'Symbol': 'POWERGRID', 'Open': 204.05, 'High': 204.95, 'Low': 200.8, 'LTP': 202.5, 'Chng': -1.75, '% Chng': '-0.86', 'Volume (lacs)': '96.11', 'Turnover (crs.)': '195.09', '52w H': '209.95', '52w L': '136.88', '365 d % chng': '3.69', '30 d % chng': '6.36', 'Volume': None, '_52w_H': None, '_52w_L': None, '_365d_PC_chng': None, '_30d_PC_chng': None}\n",
            "{'Symbol': 'RELIANCE', 'Open': 2467.8, 'High': 2477.6, 'Low': 2401.5, 'LTP': 2405.1, 'Chng': -87.85, '% Chng': '-3.52', 'Volume (lacs)': '72.75', 'Turnover (crs.)': '1,770.19', '52w H': '2,751.35', '52w L': '1,830.00', '365 d % chng': '23.48', '30 d % chng': '-9.62', 'Volume': None, '_52w_H': None, '_52w_L': None, '_365d_PC_chng': None, '_30d_PC_chng': None}\n",
            "{'Symbol': 'SBILIFE', 'Open': 1154.0, 'High': 1154.0, 'Low': 1105.25, 'LTP': 1130.85, 'Chng': -28.65, '% Chng': '-2.47', 'Volume (lacs)': '23.16', 'Turnover (crs.)': '262.43', '52w H': '1,273.90', '52w L': '825.2', '365 d % chng': '33.19', '30 d % chng': '-3.52', 'Volume': None, '_52w_H': None, '_52w_L': None, '_365d_PC_chng': None, '_30d_PC_chng': None}\n",
            "{'Symbol': 'SBIN', 'Open': 486.25, 'High': 487.9, 'Low': 467.1, 'LTP': 470.0, 'Chng': -20.55, '% Chng': '-4.19', 'Volume (lacs)': '263.06', 'Turnover (crs.)': '1,249.55', '52w H': '542.3', '52w L': '240.15', '365 d % chng': '93.42', '30 d % chng': '-8.3', 'Volume': None, '_52w_H': None, '_52w_L': None, '_365d_PC_chng': None, '_30d_PC_chng': None}\n",
            "{'Symbol': 'SHREECEM', 'Open': 26450.0, 'High': 26539.9, 'Low': 25812.0, 'LTP': 25900.0, 'Chng': -770.5, '% Chng': '-2.89', 'Volume (lacs)': '0.3', 'Turnover (crs.)': '76.94', '52w H': '32,048.00', '52w L': '22,531.00', '365 d % chng': '9.29', '30 d % chng': '-6.76', 'Volume': None, '_52w_H': None, '_52w_L': None, '_365d_PC_chng': None, '_30d_PC_chng': None}\n",
            "{'Symbol': 'SUNPHARMA', 'Open': 775.0, 'High': 798.9, 'Low': 762.0, 'LTP': 767.25, 'Chng': -15.65, '% Chng': '-2', 'Volume (lacs)': '54.33', 'Turnover (crs.)': '424.05', '52w H': '851', '52w L': '502.3', '365 d % chng': '51.57', '30 d % chng': '-5.69', 'Volume': None, '_52w_H': None, '_52w_L': None, '_365d_PC_chng': None, '_30d_PC_chng': None}\n",
            "{'Symbol': 'TATACONSUM', 'Open': 800.2, 'High': 805.0, 'Low': 763.15, 'LTP': 769.9, 'Chng': -37.9, '% Chng': '-4.69', 'Volume (lacs)': '26.17', 'Turnover (crs.)': '203.32', '52w H': '889', '52w L': '505.05', '365 d % chng': '49.55', '30 d % chng': '-4.82', 'Volume': None, '_52w_H': None, '_52w_L': None, '_365d_PC_chng': None, '_30d_PC_chng': None}\n",
            "{'Symbol': 'TATAMOTORS', 'Open': 486.0, 'High': 486.75, 'Low': 458.0, 'LTP': 459.4, 'Chng': -33.35, '% Chng': '-6.77', 'Volume (lacs)': '517.88', 'Turnover (crs.)': '2,430.36', '52w H': '536.7', '52w L': '156.7', '365 d % chng': '167.95', '30 d % chng': '-9.68', 'Volume': None, '_52w_H': None, '_52w_L': None, '_365d_PC_chng': None, '_30d_PC_chng': None}\n",
            "{'Symbol': 'TATASTEEL', 'Open': 1157.9, 'High': 1159.5, 'Low': 1106.25, 'LTP': 1110.25, 'Chng': -63.4, '% Chng': '-5.4', 'Volume (lacs)': '106.46', 'Turnover (crs.)': '1,200.79', '52w H': '1,534.50', '52w L': '539.5', '365 d % chng': '105.13', '30 d % chng': '-17.37', 'Volume': None, '_52w_H': None, '_52w_L': None, '_365d_PC_chng': None, '_30d_PC_chng': None}\n",
            "{'Symbol': 'TCS', 'Open': 3425.0, 'High': 3490.0, 'Low': 3411.9, 'LTP': 3439.2, 'Chng': -6.7, '% Chng': '-0.19', 'Volume (lacs)': '19.41', 'Turnover (crs.)': '670.58', '52w H': '3,989.90', '52w L': '2,624.45', '365 d % chng': '27.32', '30 d % chng': '-1.25', 'Volume': None, '_52w_H': None, '_52w_L': None, '_365d_PC_chng': None, '_30d_PC_chng': None}\n",
            "{'Symbol': 'TECHM', 'Open': 1544.0, 'High': 1550.0, 'Low': 1510.15, 'LTP': 1519.0, 'Chng': -40.35, '% Chng': '-2.59', 'Volume (lacs)': '15.22', 'Turnover (crs.)': '232.97', '52w H': '1,630.00', '52w L': '846.7', '365 d % chng': '76.17', '30 d % chng': '-2.83', 'Volume': None, '_52w_H': None, '_52w_L': None, '_365d_PC_chng': None, '_30d_PC_chng': None}\n",
            "{'Symbol': 'TITAN', 'Open': 2377.8, 'High': 2385.1, 'Low': 2285.05, 'LTP': 2293.0, 'Chng': -104.8, '% Chng': '-4.37', 'Volume (lacs)': '12.89', 'Turnover (crs.)': '298.54', '52w H': '2,677.90', '52w L': '1,300.35', '365 d % chng': '75.45', '30 d % chng': '-6.59', 'Volume': None, '_52w_H': None, '_52w_L': None, '_365d_PC_chng': None, '_30d_PC_chng': None}\n",
            "{'Symbol': 'ULTRACEMCO', 'Open': 7550.0, 'High': 7599.0, 'Low': 7370.1, 'LTP': 7398.45, 'Chng': -210.35, '% Chng': '-2.76', 'Volume (lacs)': '2.66', 'Turnover (crs.)': '198.32', '52w H': '8,269.00', '52w L': '4,770.00', '365 d % chng': '53.5', '30 d % chng': '1.78', 'Volume': None, '_52w_H': None, '_52w_L': None, '_365d_PC_chng': None, '_30d_PC_chng': None}\n",
            "{'Symbol': 'UPL', 'Open': 726.0, 'High': 726.0, 'Low': 701.0, 'LTP': 703.5, 'Chng': -23.8, '% Chng': '-3.27', 'Volume (lacs)': '24.82', 'Turnover (crs.)': '176.35', '52w H': '864.7', '52w L': '414.15', '365 d % chng': '68.06', '30 d % chng': '-1.37', 'Volume': None, '_52w_H': None, '_52w_L': None, '_365d_PC_chng': None, '_30d_PC_chng': None}\n",
            "{'Symbol': 'WIPRO', 'Open': 632.0, 'High': 634.4, 'Low': 619.65, 'LTP': 621.3, 'Chng': -15.4, '% Chng': '-2.42', 'Volume (lacs)': '41.39', 'Turnover (crs.)': '259.37', '52w H': '739.85', '52w L': '346.25', '365 d % chng': '77.51', '30 d % chng': '-7.01', 'Volume': None, '_52w_H': None, '_52w_L': None, '_365d_PC_chng': None, '_30d_PC_chng': None}\n"
          ]
        }
      ]
    },
    {
      "cell_type": "code",
      "source": [
        "import apache_beam as beam\n",
        "from apache_beam.io.filesystems import FileSystems as beam_fs\n",
        "from apache_beam.options.pipeline_options import PipelineOptions\n",
        "import codecs\n",
        "import csv\n",
        "from typing import Dict, Iterable, List\n",
        "\n",
        "def convert_types(data):\n",
        "    data[\"Open\"] = float(str(data[\"Open\"]).replace(\",\",\"\").replace(\"\\\"\",\"\")) if \"Open\" in data else None\n",
        "    data[\"High\"] = float(str(data[\"High\"]).replace(\",\",\"\").replace(\"\\\"\",\"\")) if \"High\" in data else None\n",
        "    data[\"Low\"] = float(str(data[\"Low\"]).replace(\",\",\"\").replace(\"\\\"\",\"\")) if \"Low\" in data else None\n",
        "    data[\"LTP\"] = float(str(data[\"LTP\"]).replace(\",\",\"\").replace(\"\\\"\",\"\")) if \"LTP\" in data else None\n",
        "    data[\"Chng\"] = float(str(data[\"Chng\"]).replace(\",\",\"\").replace(\"\\\"\",\"\")) if \"Chng\" in data else None\n",
        "    data[\"PCChng\"] = float(str(data[\"PCChng\"]).replace(\",\",\"\").replace(\"\\\"\",\"\")) if \"PCChng\" in data else None\n",
        "    data[\"Volume\"] = float(str(data[\"Volume\"]).replace(\",\",\"\").replace(\"\\\"\",\"\")) if \"Volume\" in data else None\n",
        "    data[\"Turnover\"] = float(str(data[\"Turnover\"]).replace(\",\",\"\").replace(\"\\\"\",\"\")) if \"Turnover\" in data else None\n",
        "    data[\"_52w_H\"] = float(str(data[\"_52w_H\"]).replace(\",\",\"\").replace(\"\\\"\",\"\")) if \"_52w_H\" in data else None\n",
        "    data[\"_52w_L\"] = float(str(data[\"_52w_L\"]).replace(\",\",\"\").replace(\"\\\"\",\"\")) if \"_52w_L\" in data else None\n",
        "    data[\"_365d_PC_chng\"] = float(str(data[\"_365d_PC_chng\"]).replace(\",\",\"\").replace(\"\\\"\",\"\")) if \"_365d_PC_chng\" in data else None\n",
        "    data[\"_30d_PC_chng\"] = float(str(data[\"_30d_PC_chng\"]).replace(\",\",\"\").replace(\"\\\"\",\"\")) if \"_30d_PC_chng\" in data else None\n",
        "    return data\n",
        "\n",
        "def del_unwanted_cols(data):\n",
        "    del data[\"PCChng\"]\n",
        "    del data[\"Turnover\"]\n",
        "    return data   \n",
        "@beam.ptransform_fn\n",
        "@beam.typehints.with_input_types(beam.pvalue.PBegin)\n",
        "@beam.typehints.with_output_types(Dict[str, str])\n",
        "\n",
        "def read_csv_lines(file_name: str) -> Iterable[Dict[str, str]]:\n",
        "  with beam_fs.open(file_name) as f:\n",
        "    # Beam reads files as bytes, but csv expects strings,\n",
        "    # so we need to decode the bytes into utf-8 strings.\n",
        "    for row in csv.DictReader(codecs.iterdecode(f, 'utf-8')):\n",
        "      yield dict(row)\n",
        "\n",
        "\n",
        "input_file_name = \"National_Stock_Exchange_of_India_Ltd.csv\"\n",
        "options = PipelineOptions(flags=[], type_check_additional='all')\n",
        "with beam.Pipeline(options=options) as pipeline:\n",
        "  (\n",
        "      pipeline\n",
        "      |'Create file name' >> beam.Create([input_file_name])\n",
        "      | 'Read CSV lines' >> beam.FlatMap(read_csv_lines)\n",
        "      | 'Print elements' >> beam.Map(print)\n",
        "      #| 'ChangeDataType' >> beam.Map(convert_types)\n",
        "      #| 'DeleteUnwantedData' >> beam.Map(del_unwanted_cols)\n",
        "      #| 'WriteToText' >> beam.io.WriteToText('nse_output.txt')\n",
        "  )\n",
        "\n",
        "!cat nse_output.txt*"
      ],
      "metadata": {
        "id": "8uWTSEiYl30g"
      },
      "execution_count": null,
      "outputs": []
    },
    {
      "cell_type": "code",
      "source": [
        "!python --version"
      ],
      "metadata": {
        "colab": {
          "base_uri": "https://localhost:8080/"
        },
        "id": "NhPsr_6fgcE8",
        "outputId": "b5d73552-1f8c-46e3-a619-e22eb72823c4"
      },
      "execution_count": null,
      "outputs": [
        {
          "output_type": "stream",
          "name": "stdout",
          "text": [
            "Python 3.7.12\n"
          ]
        }
      ]
    },
    {
      "cell_type": "code",
      "source": [
        "import re\n",
        "\n",
        "cStr = 'aaaa,bbbb,\"cc,c,ddd\"'\n",
        "print(cStr)\n",
        "newStr =re.split(r', (?=(?:\"[^\"]*?(?: [^\"]*)*))|, (?=[^\",]+(?:,|$))', cStr)\n",
        "\n",
        "print(newStr)"
      ],
      "metadata": {
        "colab": {
          "base_uri": "https://localhost:8080/"
        },
        "id": "CluXNT2tjm1l",
        "outputId": "013eae95-7143-492f-8f23-3532f5004bc5"
      },
      "execution_count": null,
      "outputs": [
        {
          "output_type": "stream",
          "name": "stdout",
          "text": [
            "aaaa,bbbb,\"cc,c,ddd\"\n",
            "['aaaa,bbbb,\"cc,c,ddd\"']\n"
          ]
        }
      ]
    },
    {
      "cell_type": "code",
      "source": [
        ""
      ],
      "metadata": {
        "colab": {
          "base_uri": "https://localhost:8080/"
        },
        "id": "JyxFVJ4zurRN",
        "outputId": "3073004b-b846-4404-a7bd-722189c8b3c3"
      },
      "execution_count": null,
      "outputs": [
        {
          "output_type": "stream",
          "name": "stdout",
          "text": [
            "\u001b[31mERROR: Could not find a version that satisfies the requirement StringIO (from versions: none)\u001b[0m\n",
            "\u001b[31mERROR: No matching distribution found for StringIO\u001b[0m\n"
          ]
        }
      ]
    },
    {
      "cell_type": "code",
      "source": [
        "import csv\n",
        "from io import StringIO\n",
        "\n",
        "def splitOnDelimeter(a):\n",
        "  data = StringIO(a)\n",
        "  reader = csv.reader(data, delimiter=',',quotechar='\"')\n",
        "  for row in reader:\n",
        "    print(type(row))\n",
        "    return row\n",
        "\n",
        "cStr = \"aaaa,bbbb,\\\"cc,c,ddd\\\"\"\n",
        "#cStr=\"aaa,bbb,cvvv,10\"\n",
        "print(cStr)\n",
        "print(splitOnDelimeter(cStr))\n",
        "\n"
      ],
      "metadata": {
        "colab": {
          "base_uri": "https://localhost:8080/"
        },
        "id": "YIxqfBi5uIie",
        "outputId": "02597178-4245-4c9e-8fb4-0f33bb96d8fe"
      },
      "execution_count": null,
      "outputs": [
        {
          "output_type": "stream",
          "name": "stdout",
          "text": [
            "aaaa,bbbb,\"cc,c,ddd\"\n",
            "<class 'list'>\n",
            "['aaaa', 'bbbb', 'cc,c,ddd']\n"
          ]
        }
      ]
    },
    {
      "cell_type": "code",
      "source": [
        "import pandas as pd\n",
        "dfs = pd.read_excel(\"datafile.xlsx\", sheet_name='Sheet1', header=None)\n",
        "print(dfs)"
      ],
      "metadata": {
        "id": "a3Pv-yjSjBDp",
        "colab": {
          "base_uri": "https://localhost:8080/"
        },
        "outputId": "f4c8259c-e765-4aac-bd53-846e3b0ba01e"
      },
      "execution_count": null,
      "outputs": [
        {
          "output_type": "stream",
          "name": "stdout",
          "text": [
            "       0               1                   2\n",
            "0   2021        testname           testprice\n",
            "1   2020  All industries  Dollars (millions)\n",
            "2   2020  All industries  Dollars (millions)\n",
            "3   2020  All industries  Dollars (millions)\n",
            "4   2020  All industries  Dollars (millions)\n",
            "5   2020  All industries  Dollars (millions)\n",
            "6   2020  All industries  Dollars (millions)\n",
            "7   2020  All industries  Dollars (millions)\n",
            "8   2020  All industries  Dollars (millions)\n",
            "9   2020  All industries  Dollars (millions)\n",
            "10  2020  All industries  Dollars (millions)\n",
            "11  2020  All industries  Dollars (millions)\n",
            "12  2020  All industries  Dollars (millions)\n",
            "13  2020  All industries  Dollars (millions)\n",
            "14  2020  All industries  Dollars (millions)\n",
            "15  2020  All industries  Dollars (millions)\n",
            "16  2020  All industries  Dollars (millions)\n",
            "17  2020  All industries  Dollars (millions)\n",
            "18  2020  All industries  Dollars (millions)\n",
            "19  2020  All industries  Dollars (millions)\n",
            "20  2020  All industries  Dollars (millions)\n",
            "21  2020  All industries  Dollars (millions)\n",
            "22  2020  All industries  Dollars (millions)\n",
            "23  2020  All industries  Dollars (millions)\n",
            "24  2020  All industries  Dollars (millions)\n"
          ]
        }
      ]
    },
    {
      "cell_type": "code",
      "source": [
        "func = lambda x: [num for num in x if num%2 == 0]\n",
        "print(func([1,2,3,4,5]))"
      ],
      "metadata": {
        "colab": {
          "base_uri": "https://localhost:8080/"
        },
        "id": "DEC4X5nLl_2U",
        "outputId": "a4414ba6-7a0b-4ae2-d5d5-a011c3a59176"
      },
      "execution_count": null,
      "outputs": [
        {
          "output_type": "stream",
          "name": "stdout",
          "text": [
            "[2, 4]\n"
          ]
        }
      ]
    }
  ]
}